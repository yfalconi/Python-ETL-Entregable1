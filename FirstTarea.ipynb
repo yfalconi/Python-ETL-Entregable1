{
 "cells": [
  {
   "cell_type": "code",
   "execution_count": 1,
   "metadata": {},
   "outputs": [
    {
     "name": "stdout",
     "output_type": "stream",
     "text": [
      "c:\\Users\\yohan\\AppData\\Local\\Programs\\Python\\Python311\\python.exe\n"
     ]
    }
   ],
   "source": [
    "import sys\n",
    "# Verificar si se esta trabajando en el entorno virtual\n",
    "print(sys.executable)\n"
   ]
  },
  {
   "cell_type": "code",
   "execution_count": 2,
   "metadata": {},
   "outputs": [],
   "source": [
    "# Instalar  ultima version y complemento\n",
    "# %pip install -U polars\n",
    "# %pip install xlsx2csv\n"
   ]
  },
  {
   "cell_type": "code",
   "execution_count": 3,
   "metadata": {},
   "outputs": [
    {
     "name": "stdout",
     "output_type": "stream",
     "text": [
      "shape: (9_206, 7)\n",
      "┌──────────────┬──────────────┬──────────────┬─────────┬──────────────┬──────────────┬─────────────┐\n",
      "│ TicketID     ┆ Ubicacion    ┆ Service Desk ┆ Estado  ┆ Fecha        ┆ Fecha        ┆ Fecha       │\n",
      "│ ---          ┆ ---          ┆ ---          ┆ ---     ┆ Creacion     ┆ Termino      ┆ Cierre      │\n",
      "│ str          ┆ str          ┆ str          ┆ str     ┆ ---          ┆ ---          ┆ ---         │\n",
      "│              ┆              ┆              ┆         ┆ date         ┆ date         ┆ date        │\n",
      "╞══════════════╪══════════════╪══════════════╪═════════╪══════════════╪══════════════╪═════════════╡\n",
      "│ WO0000004122 ┆ AREQUIPA -   ┆ Zona Norte   ┆ Cerrado ┆ 2022-06-01   ┆ 2022-06-14   ┆ 2022-06-14  │\n",
      "│ 687          ┆ 215000       ┆              ┆         ┆              ┆              ┆             │\n",
      "│ WO0000004122 ┆ METRO AV.    ┆ Zona Centro  ┆ Cerrado ┆ 2022-06-01   ┆ 2022-06-17   ┆ 2022-06-17  │\n",
      "│ 649          ┆ WIESSE -     ┆              ┆         ┆              ┆              ┆             │\n",
      "│              ┆ 191106       ┆              ┆         ┆              ┆              ┆             │\n",
      "│ WO0000004122 ┆ NICOLAS      ┆ Zona Centro  ┆ Cerrado ┆ 2022-06-01   ┆ 2022-06-08   ┆ 2022-06-08  │\n",
      "│ 502          ┆ AYLLON -     ┆              ┆         ┆              ┆              ┆             │\n",
      "│              ┆ 191027       ┆              ┆         ┆              ┆              ┆             │\n",
      "│ WO0000004122 ┆ JAUREGUI -   ┆ Zona Norte   ┆ Cerrado ┆ 2022-06-01   ┆ 2022-06-18   ┆ 2022-06-18  │\n",
      "│ 513          ┆ 405005       ┆              ┆         ┆              ┆              ┆             │\n",
      "│ WO0000004122 ┆ CANTO GRANDE ┆ Zona Centro  ┆ Cerrado ┆ 2022-06-01   ┆ 2022-06-08   ┆ 2022-06-08  │\n",
      "│ 741          ┆ - 191096     ┆              ┆         ┆              ┆              ┆             │\n",
      "│ …            ┆ …            ┆ …            ┆ …       ┆ …            ┆ …            ┆ …           │\n",
      "│ WO0000004848 ┆ ILO - 385000 ┆ Zona Norte   ┆ Cerrado ┆ 2022-12-31   ┆ 2023-01-09   ┆ 2023-01-12  │\n",
      "│ 619          ┆              ┆              ┆         ┆              ┆              ┆             │\n",
      "│ WO0000004848 ┆ QUILCA -     ┆ Zona Centro  ┆ Cerrado ┆ 2022-12-31   ┆ 2023-01-04   ┆ 2023-01-07  │\n",
      "│ 666          ┆ 191160       ┆              ┆         ┆              ┆              ┆             │\n",
      "│ WO0000004848 ┆ MERCADO DE   ┆ Zona Centro  ┆ Cerrado ┆ 2022-12-31   ┆ 2023-01-13   ┆ 2023-01-16  │\n",
      "│ 654          ┆ FRUTAS -     ┆              ┆         ┆              ┆              ┆             │\n",
      "│              ┆ 191064       ┆              ┆         ┆              ┆              ┆             │\n",
      "│ WO0000004849 ┆ VITARTE -    ┆ Zona Centro  ┆ Cerrado ┆ 2022-12-31   ┆ 2023-01-03   ┆ 2023-01-06  │\n",
      "│ 355          ┆ 191043       ┆              ┆         ┆              ┆              ┆             │\n",
      "│ WO0000004848 ┆ VILLA SOL -  ┆ Zona Centro  ┆ Cerrado ┆ 2022-12-31   ┆ 2022-12-31   ┆ 2023-01-03  │\n",
      "│ 638          ┆ 191059       ┆              ┆         ┆              ┆              ┆             │\n",
      "└──────────────┴──────────────┴──────────────┴─────────┴──────────────┴──────────────┴─────────────┘\n"
     ]
    }
   ],
   "source": [
    "import polars as pl\n",
    "\n",
    "# Ruta del archivo de texto\n",
    "ruta_historicos = './Tickets/Tickets Historico.txt'\n",
    "\n",
    "# Lista de nombres de columnas a seleccionar\n",
    "columnas_seleccionadas = ['Numero Ticket', 'Ubicacion', 'Service Desk', 'Estado', 'Fecha Creacion','Fecha Termino','Fecha Cierre']\n",
    "\n",
    "# Leer y seleccionar\n",
    "df_historico = pl.read_csv(ruta_historicos,separator=\";\")\n",
    "df_historico = df_historico.select(columnas_seleccionadas)\n",
    "\n",
    "# Convertir las columnas 'str' a date\n",
    "df_historico = df_historico.cast({\"Fecha Creacion\":pl.Date, \"Fecha Termino\":pl.Date, \"Fecha Cierre\":pl.Date}\n",
    ")\n",
    "\n",
    "# Renombrar columnas\n",
    "df_historico = df_historico.select(\n",
    "    pl.col(\"Numero Ticket\").alias(\"TicketID\"), *df_historico.drop(\"Numero Ticket\")\n",
    ")\n",
    "\n",
    "\n",
    "print(df_historico)\n"
   ]
  },
  {
   "cell_type": "code",
   "execution_count": 4,
   "metadata": {},
   "outputs": [
    {
     "name": "stdout",
     "output_type": "stream",
     "text": [
      "shape: (13_050, 7)\n",
      "┌──────────────┬──────────────┬──────────────┬──────────┬──────────────┬─────────────┬─────────────┐\n",
      "│ Numero       ┆ Ubicacion    ┆ Service Desk ┆ Estado   ┆ Fecha        ┆ Fecha       ┆ Fecha       │\n",
      "│ Ticket       ┆ ---          ┆ ---          ┆ ---      ┆ Creacion     ┆ Termino     ┆ Cierre      │\n",
      "│ ---          ┆ str          ┆ str          ┆ str      ┆ ---          ┆ ---         ┆ ---         │\n",
      "│ str          ┆              ┆              ┆          ┆ str          ┆ str         ┆ str         │\n",
      "╞══════════════╪══════════════╪══════════════╪══════════╪══════════════╪═════════════╪═════════════╡\n",
      "│ WO0000004853 ┆ TUPAC AMARU  ┆ Zona Centro  ┆ Cerrado  ┆ 2023-01-02   ┆ 10/01/2023  ┆ 13/01/2023  │\n",
      "│ 311          ┆ - 191038     ┆              ┆          ┆              ┆             ┆             │\n",
      "│ WO0000004852 ┆ SAN JUAN DE  ┆ Zona Centro  ┆ Cerrado  ┆ 2023-01-02   ┆ 2/01/2023   ┆ 5/01/2023   │\n",
      "│ 942          ┆ LURIGANCHO - ┆              ┆          ┆              ┆             ┆             │\n",
      "│              ┆ 191017       ┆              ┆          ┆              ┆             ┆             │\n",
      "│ WO0000004852 ┆ MARIANO      ┆ Zona Norte   ┆ Cerrado  ┆ 2023-01-02   ┆ 6/01/2023   ┆ 9/01/2023   │\n",
      "│ 621          ┆ MELGAR -     ┆              ┆          ┆              ┆             ┆             │\n",
      "│              ┆ 215014       ┆              ┆          ┆              ┆             ┆             │\n",
      "│ SA0000004853 ┆ ANDAHUAYLAS  ┆ Zona Norte   ┆ Cerrado  ┆ 2023-01-02   ┆ 7/01/2023   ┆ 10/01/2023  │\n",
      "│ 328          ┆ - 205000     ┆              ┆          ┆              ┆             ┆             │\n",
      "│ SA0000004853 ┆ COLLIQUE -   ┆ Zona Centro  ┆ Cerrado  ┆ 2023-01-02   ┆ 4/01/2023   ┆ 7/01/2023   │\n",
      "│ 160          ┆ 191065       ┆              ┆          ┆              ┆             ┆             │\n",
      "│ …            ┆ …            ┆ …            ┆ …        ┆ …            ┆ …           ┆ …           │\n",
      "│ WO0000005737 ┆ CANTO GRANDE ┆ Zona Centro  ┆ En curso ┆ 2023-10-29   ┆ null        ┆ null        │\n",
      "│ 139          ┆ - 191096     ┆              ┆          ┆              ┆             ┆             │\n",
      "│ WO0000005736 ┆ NARANJAL -   ┆ Zona Centro  ┆ En curso ┆ 2023-10-29   ┆ null        ┆ null        │\n",
      "│ 853          ┆ 191141       ┆              ┆          ┆              ┆             ┆             │\n",
      "│ WO0000005736 ┆ NARANJAL -   ┆ Zona Centro  ┆ En curso ┆ 2023-10-29   ┆ null        ┆ null        │\n",
      "│ 847          ┆ 191141       ┆              ┆          ┆              ┆             ┆             │\n",
      "│ WO0000005736 ┆ NARANJAL -   ┆ Zona Centro  ┆ En curso ┆ 2023-10-29   ┆ null        ┆ null        │\n",
      "│ 845          ┆ 191141       ┆              ┆          ┆              ┆             ┆             │\n",
      "│ WO0000005736 ┆ TARAPACA -   ┆ Zona Centro  ┆ En curso ┆ 2023-10-29   ┆ null        ┆ null        │\n",
      "│ 387          ┆ 191030       ┆              ┆          ┆              ┆             ┆             │\n",
      "└──────────────┴──────────────┴──────────────┴──────────┴──────────────┴─────────────┴─────────────┘\n"
     ]
    }
   ],
   "source": [
    "ruta_actual = './Tickets/Tickets Actual.csv'\n",
    "\n",
    "# Leer y seleccionar\n",
    "df_actual = pl.read_csv(ruta_actual,separator=\"|\")\n",
    "df_actual = df_actual.select(columnas_seleccionadas)\n",
    "\n",
    "print(df_actual)"
   ]
  },
  {
   "cell_type": "code",
   "execution_count": 5,
   "metadata": {},
   "outputs": [
    {
     "name": "stdout",
     "output_type": "stream",
     "text": [
      "shape: (13_050, 7)\n",
      "┌──────────────┬──────────────┬──────────────┬──────────┬──────────────┬─────────────┬─────────────┐\n",
      "│ Numero       ┆ Ubicacion    ┆ Service Desk ┆ Estado   ┆ Fecha        ┆ Fecha       ┆ Fecha       │\n",
      "│ Ticket       ┆ ---          ┆ ---          ┆ ---      ┆ Creacion     ┆ Termino     ┆ Cierre      │\n",
      "│ ---          ┆ str          ┆ str          ┆ str      ┆ ---          ┆ ---         ┆ ---         │\n",
      "│ str          ┆              ┆              ┆          ┆ date         ┆ date        ┆ date        │\n",
      "╞══════════════╪══════════════╪══════════════╪══════════╪══════════════╪═════════════╪═════════════╡\n",
      "│ WO0000004853 ┆ TUPAC AMARU  ┆ Zona Centro  ┆ Cerrado  ┆ 2023-01-02   ┆ 2023-01-10  ┆ 2023-01-13  │\n",
      "│ 311          ┆ - 191038     ┆              ┆          ┆              ┆             ┆             │\n",
      "│ WO0000004852 ┆ SAN JUAN DE  ┆ Zona Centro  ┆ Cerrado  ┆ 2023-01-02   ┆ 2023-01-02  ┆ 2023-01-05  │\n",
      "│ 942          ┆ LURIGANCHO - ┆              ┆          ┆              ┆             ┆             │\n",
      "│              ┆ 191017       ┆              ┆          ┆              ┆             ┆             │\n",
      "│ WO0000004852 ┆ MARIANO      ┆ Zona Norte   ┆ Cerrado  ┆ 2023-01-02   ┆ 2023-01-06  ┆ 2023-01-09  │\n",
      "│ 621          ┆ MELGAR -     ┆              ┆          ┆              ┆             ┆             │\n",
      "│              ┆ 215014       ┆              ┆          ┆              ┆             ┆             │\n",
      "│ SA0000004853 ┆ ANDAHUAYLAS  ┆ Zona Norte   ┆ Cerrado  ┆ 2023-01-02   ┆ 2023-01-07  ┆ 2023-01-10  │\n",
      "│ 328          ┆ - 205000     ┆              ┆          ┆              ┆             ┆             │\n",
      "│ SA0000004853 ┆ COLLIQUE -   ┆ Zona Centro  ┆ Cerrado  ┆ 2023-01-02   ┆ 2023-01-04  ┆ 2023-01-07  │\n",
      "│ 160          ┆ 191065       ┆              ┆          ┆              ┆             ┆             │\n",
      "│ …            ┆ …            ┆ …            ┆ …        ┆ …            ┆ …           ┆ …           │\n",
      "│ WO0000005737 ┆ CANTO GRANDE ┆ Zona Centro  ┆ En curso ┆ 2023-10-29   ┆ null        ┆ null        │\n",
      "│ 139          ┆ - 191096     ┆              ┆          ┆              ┆             ┆             │\n",
      "│ WO0000005736 ┆ NARANJAL -   ┆ Zona Centro  ┆ En curso ┆ 2023-10-29   ┆ null        ┆ null        │\n",
      "│ 853          ┆ 191141       ┆              ┆          ┆              ┆             ┆             │\n",
      "│ WO0000005736 ┆ NARANJAL -   ┆ Zona Centro  ┆ En curso ┆ 2023-10-29   ┆ null        ┆ null        │\n",
      "│ 847          ┆ 191141       ┆              ┆          ┆              ┆             ┆             │\n",
      "│ WO0000005736 ┆ NARANJAL -   ┆ Zona Centro  ┆ En curso ┆ 2023-10-29   ┆ null        ┆ null        │\n",
      "│ 845          ┆ 191141       ┆              ┆          ┆              ┆             ┆             │\n",
      "│ WO0000005736 ┆ TARAPACA -   ┆ Zona Centro  ┆ En curso ┆ 2023-10-29   ┆ null        ┆ null        │\n",
      "│ 387          ┆ 191030       ┆              ┆          ┆              ┆             ┆             │\n",
      "└──────────────┴──────────────┴──────────────┴──────────┴──────────────┴─────────────┴─────────────┘\n"
     ]
    },
    {
     "name": "stderr",
     "output_type": "stream",
     "text": [
      "C:\\Users\\yohan\\AppData\\Local\\Temp\\ipykernel_20896\\2305387383.py:3: DeprecationWarning: `apply` is deprecated. It has been renamed to `map_elements`.\n",
      "  df_actual = df_actual.with_columns(pl.col(\"Fecha Cierre\").str.split('/').apply(\n",
      "C:\\Users\\yohan\\AppData\\Local\\Temp\\ipykernel_20896\\2305387383.py:6: DeprecationWarning: `apply` is deprecated. It has been renamed to `map_elements`.\n",
      "  pl.col(\"Fecha Termino\").str.split('/').apply(\n"
     ]
    }
   ],
   "source": [
    "# Convertir las columnas 'str' a date\n",
    "\n",
    "df_actual = df_actual.with_columns(pl.col(\"Fecha Cierre\").str.split('/').apply(\n",
    "        lambda lista: lista[2]+\"-\"+lista[1]+\"-\"+lista[0] if lista is not None else None\n",
    "    ),\n",
    "    pl.col(\"Fecha Termino\").str.split('/').apply(\n",
    "        lambda lista: lista[2]+\"-\"+lista[1]+\"-\"+lista[0] if lista is not None else None\n",
    "    )\n",
    ")\n",
    "df_actual = df_actual.cast({\"Fecha Creacion\":pl.Date, \"Fecha Termino\":pl.Date, \"Fecha Cierre\":pl.Date}, strict=False)\n",
    "\n",
    "print(df_actual)"
   ]
  },
  {
   "cell_type": "code",
   "execution_count": 6,
   "metadata": {},
   "outputs": [
    {
     "name": "stdout",
     "output_type": "stream",
     "text": [
      "shape: (13_050, 7)\n",
      "┌──────────────┬──────────────┬──────────────┬──────────┬──────────────┬─────────────┬─────────────┐\n",
      "│ TicketID     ┆ Ubicacion    ┆ Service Desk ┆ Estado   ┆ Fecha        ┆ Fecha       ┆ Fecha       │\n",
      "│ ---          ┆ ---          ┆ ---          ┆ ---      ┆ Creacion     ┆ Termino     ┆ Cierre      │\n",
      "│ str          ┆ str          ┆ str          ┆ str      ┆ ---          ┆ ---         ┆ ---         │\n",
      "│              ┆              ┆              ┆          ┆ date         ┆ date        ┆ date        │\n",
      "╞══════════════╪══════════════╪══════════════╪══════════╪══════════════╪═════════════╪═════════════╡\n",
      "│ WO0000004853 ┆ TUPAC AMARU  ┆ Zona Centro  ┆ Cerrado  ┆ 2023-01-02   ┆ 2023-01-10  ┆ 2023-01-13  │\n",
      "│ 311          ┆ - 191038     ┆              ┆          ┆              ┆             ┆             │\n",
      "│ WO0000004852 ┆ SAN JUAN DE  ┆ Zona Centro  ┆ Cerrado  ┆ 2023-01-02   ┆ 2023-01-02  ┆ 2023-01-05  │\n",
      "│ 942          ┆ LURIGANCHO - ┆              ┆          ┆              ┆             ┆             │\n",
      "│              ┆ 191017       ┆              ┆          ┆              ┆             ┆             │\n",
      "│ WO0000004852 ┆ MARIANO      ┆ Zona Norte   ┆ Cerrado  ┆ 2023-01-02   ┆ 2023-01-06  ┆ 2023-01-09  │\n",
      "│ 621          ┆ MELGAR -     ┆              ┆          ┆              ┆             ┆             │\n",
      "│              ┆ 215014       ┆              ┆          ┆              ┆             ┆             │\n",
      "│ SA0000004853 ┆ ANDAHUAYLAS  ┆ Zona Norte   ┆ Cerrado  ┆ 2023-01-02   ┆ 2023-01-07  ┆ 2023-01-10  │\n",
      "│ 328          ┆ - 205000     ┆              ┆          ┆              ┆             ┆             │\n",
      "│ SA0000004853 ┆ COLLIQUE -   ┆ Zona Centro  ┆ Cerrado  ┆ 2023-01-02   ┆ 2023-01-04  ┆ 2023-01-07  │\n",
      "│ 160          ┆ 191065       ┆              ┆          ┆              ┆             ┆             │\n",
      "│ …            ┆ …            ┆ …            ┆ …        ┆ …            ┆ …           ┆ …           │\n",
      "│ WO0000005737 ┆ CANTO GRANDE ┆ Zona Centro  ┆ En curso ┆ 2023-10-29   ┆ null        ┆ null        │\n",
      "│ 139          ┆ - 191096     ┆              ┆          ┆              ┆             ┆             │\n",
      "│ WO0000005736 ┆ NARANJAL -   ┆ Zona Centro  ┆ En curso ┆ 2023-10-29   ┆ null        ┆ null        │\n",
      "│ 853          ┆ 191141       ┆              ┆          ┆              ┆             ┆             │\n",
      "│ WO0000005736 ┆ NARANJAL -   ┆ Zona Centro  ┆ En curso ┆ 2023-10-29   ┆ null        ┆ null        │\n",
      "│ 847          ┆ 191141       ┆              ┆          ┆              ┆             ┆             │\n",
      "│ WO0000005736 ┆ NARANJAL -   ┆ Zona Centro  ┆ En curso ┆ 2023-10-29   ┆ null        ┆ null        │\n",
      "│ 845          ┆ 191141       ┆              ┆          ┆              ┆             ┆             │\n",
      "│ WO0000005736 ┆ TARAPACA -   ┆ Zona Centro  ┆ En curso ┆ 2023-10-29   ┆ null        ┆ null        │\n",
      "│ 387          ┆ 191030       ┆              ┆          ┆              ┆             ┆             │\n",
      "└──────────────┴──────────────┴──────────────┴──────────┴──────────────┴─────────────┴─────────────┘\n"
     ]
    }
   ],
   "source": [
    "# Renombrar columnas\n",
    "df_actual = df_actual.select(\n",
    "    pl.col(\"Numero Ticket\").alias(\"TicketID\"), *df_actual.drop(\"Numero Ticket\")\n",
    ")\n",
    "\n",
    "print(df_actual)"
   ]
  },
  {
   "cell_type": "code",
   "execution_count": 7,
   "metadata": {},
   "outputs": [
    {
     "name": "stdout",
     "output_type": "stream",
     "text": [
      "shape: (13_022, 7)\n",
      "┌──────────────┬──────────────┬──────────────┬──────────┬──────────────┬─────────────┬─────────────┐\n",
      "│ TicketID     ┆ Ubicacion    ┆ Service Desk ┆ Estado   ┆ Fecha        ┆ Fecha       ┆ Fecha       │\n",
      "│ ---          ┆ ---          ┆ ---          ┆ ---      ┆ Creacion     ┆ Termino     ┆ Cierre      │\n",
      "│ str          ┆ str          ┆ str          ┆ str      ┆ ---          ┆ ---         ┆ ---         │\n",
      "│              ┆              ┆              ┆          ┆ date         ┆ date        ┆ date        │\n",
      "╞══════════════╪══════════════╪══════════════╪══════════╪══════════════╪═════════════╪═════════════╡\n",
      "│ WO0000004853 ┆ TUPAC AMARU  ┆ Zona Centro  ┆ Cerrado  ┆ 2023-01-02   ┆ 2023-01-10  ┆ 2023-01-13  │\n",
      "│ 311          ┆ - 191038     ┆              ┆          ┆              ┆             ┆             │\n",
      "│ WO0000004852 ┆ SAN JUAN DE  ┆ Zona Centro  ┆ Cerrado  ┆ 2023-01-02   ┆ 2023-01-02  ┆ 2023-01-05  │\n",
      "│ 942          ┆ LURIGANCHO - ┆              ┆          ┆              ┆             ┆             │\n",
      "│              ┆ 191017       ┆              ┆          ┆              ┆             ┆             │\n",
      "│ WO0000004852 ┆ MARIANO      ┆ Zona Norte   ┆ Cerrado  ┆ 2023-01-02   ┆ 2023-01-06  ┆ 2023-01-09  │\n",
      "│ 621          ┆ MELGAR -     ┆              ┆          ┆              ┆             ┆             │\n",
      "│              ┆ 215014       ┆              ┆          ┆              ┆             ┆             │\n",
      "│ WO0000004853 ┆ ANDAHUAYLAS  ┆ Zona Norte   ┆ Cerrado  ┆ 2023-01-02   ┆ 2023-01-07  ┆ 2023-01-10  │\n",
      "│ 328          ┆ - 205000     ┆              ┆          ┆              ┆             ┆             │\n",
      "│ WO0000004853 ┆ COLLIQUE -   ┆ Zona Centro  ┆ Cerrado  ┆ 2023-01-02   ┆ 2023-01-04  ┆ 2023-01-07  │\n",
      "│ 160          ┆ 191065       ┆              ┆          ┆              ┆             ┆             │\n",
      "│ …            ┆ …            ┆ …            ┆ …        ┆ …            ┆ …           ┆ …           │\n",
      "│ WO0000005737 ┆ CANTO GRANDE ┆ Zona Centro  ┆ En curso ┆ 2023-10-29   ┆ null        ┆ null        │\n",
      "│ 139          ┆ - 191096     ┆              ┆          ┆              ┆             ┆             │\n",
      "│ WO0000005736 ┆ NARANJAL -   ┆ Zona Centro  ┆ En curso ┆ 2023-10-29   ┆ null        ┆ null        │\n",
      "│ 853          ┆ 191141       ┆              ┆          ┆              ┆             ┆             │\n",
      "│ WO0000005736 ┆ NARANJAL -   ┆ Zona Centro  ┆ En curso ┆ 2023-10-29   ┆ null        ┆ null        │\n",
      "│ 847          ┆ 191141       ┆              ┆          ┆              ┆             ┆             │\n",
      "│ WO0000005736 ┆ NARANJAL -   ┆ Zona Centro  ┆ En curso ┆ 2023-10-29   ┆ null        ┆ null        │\n",
      "│ 845          ┆ 191141       ┆              ┆          ┆              ┆             ┆             │\n",
      "│ WO0000005736 ┆ TARAPACA -   ┆ Zona Centro  ┆ En curso ┆ 2023-10-29   ┆ null        ┆ null        │\n",
      "│ 387          ┆ 191030       ┆              ┆          ┆              ┆             ┆             │\n",
      "└──────────────┴──────────────┴──────────────┴──────────┴──────────────┴─────────────┴─────────────┘\n"
     ]
    }
   ],
   "source": [
    "# Filtrar \n",
    "df_actual= df_actual.filter(pl.col(\"TicketID\").str.slice(0, 2)==\"WO\")\n",
    "print(df_actual)"
   ]
  },
  {
   "cell_type": "code",
   "execution_count": 8,
   "metadata": {},
   "outputs": [
    {
     "data": {
      "text/html": [
       "<div><style>\n",
       ".dataframe > thead > tr,\n",
       ".dataframe > tbody > tr {\n",
       "  text-align: right;\n",
       "  white-space: pre-wrap;\n",
       "}\n",
       "</style>\n",
       "<small>shape: (22_228, 7)</small><table border=\"1\" class=\"dataframe\"><thead><tr><th>TicketID</th><th>Ubicacion</th><th>Service Desk</th><th>Estado</th><th>Fecha Creacion</th><th>Fecha Termino</th><th>Fecha Cierre</th></tr><tr><td>str</td><td>str</td><td>str</td><td>str</td><td>date</td><td>date</td><td>date</td></tr></thead><tbody><tr><td>&quot;WO000000412268…</td><td>&quot;AREQUIPA - 215…</td><td>&quot;Zona Norte&quot;</td><td>&quot;Cerrado&quot;</td><td>2022-06-01</td><td>2022-06-14</td><td>2022-06-14</td></tr><tr><td>&quot;WO000000412264…</td><td>&quot;METRO AV. WIES…</td><td>&quot;Zona Centro&quot;</td><td>&quot;Cerrado&quot;</td><td>2022-06-01</td><td>2022-06-17</td><td>2022-06-17</td></tr><tr><td>&quot;WO000000412250…</td><td>&quot;NICOLAS AYLLON…</td><td>&quot;Zona Centro&quot;</td><td>&quot;Cerrado&quot;</td><td>2022-06-01</td><td>2022-06-08</td><td>2022-06-08</td></tr><tr><td>&quot;WO000000412251…</td><td>&quot;JAUREGUI - 405…</td><td>&quot;Zona Norte&quot;</td><td>&quot;Cerrado&quot;</td><td>2022-06-01</td><td>2022-06-18</td><td>2022-06-18</td></tr><tr><td>&quot;WO000000412274…</td><td>&quot;CANTO GRANDE -…</td><td>&quot;Zona Centro&quot;</td><td>&quot;Cerrado&quot;</td><td>2022-06-01</td><td>2022-06-08</td><td>2022-06-08</td></tr><tr><td>&quot;WO000000412251…</td><td>&quot;CHIMPU OCLLO -…</td><td>&quot;Zona Centro&quot;</td><td>&quot;Cerrado&quot;</td><td>2022-06-01</td><td>2022-06-03</td><td>2022-06-03</td></tr><tr><td>&quot;WO000000412252…</td><td>&quot;MINI AGENCIA B…</td><td>&quot;Zona Centro&quot;</td><td>&quot;Cerrado&quot;</td><td>2022-06-01</td><td>2022-06-07</td><td>2022-06-07</td></tr><tr><td>&quot;WO000000412230…</td><td>&quot;IMPERIAL - 255…</td><td>&quot;Zona Norte&quot;</td><td>&quot;Cerrado&quot;</td><td>2022-06-01</td><td>2022-06-10</td><td>2022-06-10</td></tr><tr><td>&quot;WO000000412236…</td><td>&quot;AREQUIPA - 215…</td><td>&quot;Zona Norte&quot;</td><td>&quot;Cerrado&quot;</td><td>2022-06-01</td><td>2022-06-13</td><td>2022-06-13</td></tr><tr><td>&quot;WO000000412268…</td><td>&quot;AREQUIPA - 215…</td><td>&quot;Zona Norte&quot;</td><td>&quot;Cerrado&quot;</td><td>2022-06-01</td><td>2022-06-17</td><td>2022-06-17</td></tr><tr><td>&quot;WO000000412230…</td><td>&quot;IMPERIAL - 255…</td><td>&quot;Zona Norte&quot;</td><td>&quot;Cerrado&quot;</td><td>2022-06-01</td><td>2022-06-17</td><td>2022-06-17</td></tr><tr><td>&quot;WO000000412272…</td><td>&quot;LA SALLE - 191…</td><td>&quot;Zona Centro&quot;</td><td>&quot;Cerrado&quot;</td><td>2022-06-01</td><td>2022-06-07</td><td>2022-06-07</td></tr><tr><td>&hellip;</td><td>&hellip;</td><td>&hellip;</td><td>&hellip;</td><td>&hellip;</td><td>&hellip;</td><td>&hellip;</td></tr><tr><td>&quot;WO000000573713…</td><td>&quot;VENEZUELA - 19…</td><td>&quot;Zona Sur&quot;</td><td>&quot;En curso&quot;</td><td>2023-10-29</td><td>null</td><td>null</td></tr><tr><td>&quot;WO000000573686…</td><td>&quot;PLAZA SAN MART…</td><td>&quot;Zona Sur&quot;</td><td>&quot;En curso&quot;</td><td>2023-10-29</td><td>null</td><td>null</td></tr><tr><td>&quot;WO000000573683…</td><td>&quot;ICA - 380000&quot;</td><td>&quot;Zona Sur&quot;</td><td>&quot;En curso&quot;</td><td>2023-10-29</td><td>null</td><td>null</td></tr><tr><td>&quot;WO000000573782…</td><td>&quot;EDUARDO DE HAB…</td><td>&quot;Zona Centro&quot;</td><td>&quot;En curso&quot;</td><td>2023-10-29</td><td>null</td><td>null</td></tr><tr><td>&quot;WO000000573782…</td><td>&quot;EDUARDO DE HAB…</td><td>&quot;Zona Centro&quot;</td><td>&quot;En curso&quot;</td><td>2023-10-29</td><td>null</td><td>null</td></tr><tr><td>&quot;WO000000573782…</td><td>&quot;EDUARDO DE HAB…</td><td>&quot;Zona Centro&quot;</td><td>&quot;En curso&quot;</td><td>2023-10-29</td><td>null</td><td>null</td></tr><tr><td>&quot;WO000000573685…</td><td>&quot;NARANJAL - 191…</td><td>&quot;Zona Centro&quot;</td><td>&quot;En curso&quot;</td><td>2023-10-29</td><td>null</td><td>null</td></tr><tr><td>&quot;WO000000573713…</td><td>&quot;CANTO GRANDE -…</td><td>&quot;Zona Centro&quot;</td><td>&quot;En curso&quot;</td><td>2023-10-29</td><td>null</td><td>null</td></tr><tr><td>&quot;WO000000573685…</td><td>&quot;NARANJAL - 191…</td><td>&quot;Zona Centro&quot;</td><td>&quot;En curso&quot;</td><td>2023-10-29</td><td>null</td><td>null</td></tr><tr><td>&quot;WO000000573684…</td><td>&quot;NARANJAL - 191…</td><td>&quot;Zona Centro&quot;</td><td>&quot;En curso&quot;</td><td>2023-10-29</td><td>null</td><td>null</td></tr><tr><td>&quot;WO000000573684…</td><td>&quot;NARANJAL - 191…</td><td>&quot;Zona Centro&quot;</td><td>&quot;En curso&quot;</td><td>2023-10-29</td><td>null</td><td>null</td></tr><tr><td>&quot;WO000000573638…</td><td>&quot;TARAPACA - 191…</td><td>&quot;Zona Centro&quot;</td><td>&quot;En curso&quot;</td><td>2023-10-29</td><td>null</td><td>null</td></tr></tbody></table></div>"
      ],
      "text/plain": [
       "shape: (22_228, 7)\n",
       "┌──────────────┬──────────────┬──────────────┬──────────┬──────────────┬─────────────┬─────────────┐\n",
       "│ TicketID     ┆ Ubicacion    ┆ Service Desk ┆ Estado   ┆ Fecha        ┆ Fecha       ┆ Fecha       │\n",
       "│ ---          ┆ ---          ┆ ---          ┆ ---      ┆ Creacion     ┆ Termino     ┆ Cierre      │\n",
       "│ str          ┆ str          ┆ str          ┆ str      ┆ ---          ┆ ---         ┆ ---         │\n",
       "│              ┆              ┆              ┆          ┆ date         ┆ date        ┆ date        │\n",
       "╞══════════════╪══════════════╪══════════════╪══════════╪══════════════╪═════════════╪═════════════╡\n",
       "│ WO0000004122 ┆ AREQUIPA -   ┆ Zona Norte   ┆ Cerrado  ┆ 2022-06-01   ┆ 2022-06-14  ┆ 2022-06-14  │\n",
       "│ 687          ┆ 215000       ┆              ┆          ┆              ┆             ┆             │\n",
       "│ WO0000004122 ┆ METRO AV.    ┆ Zona Centro  ┆ Cerrado  ┆ 2022-06-01   ┆ 2022-06-17  ┆ 2022-06-17  │\n",
       "│ 649          ┆ WIESSE -     ┆              ┆          ┆              ┆             ┆             │\n",
       "│              ┆ 191106       ┆              ┆          ┆              ┆             ┆             │\n",
       "│ WO0000004122 ┆ NICOLAS      ┆ Zona Centro  ┆ Cerrado  ┆ 2022-06-01   ┆ 2022-06-08  ┆ 2022-06-08  │\n",
       "│ 502          ┆ AYLLON -     ┆              ┆          ┆              ┆             ┆             │\n",
       "│              ┆ 191027       ┆              ┆          ┆              ┆             ┆             │\n",
       "│ WO0000004122 ┆ JAUREGUI -   ┆ Zona Norte   ┆ Cerrado  ┆ 2022-06-01   ┆ 2022-06-18  ┆ 2022-06-18  │\n",
       "│ 513          ┆ 405005       ┆              ┆          ┆              ┆             ┆             │\n",
       "│ WO0000004122 ┆ CANTO GRANDE ┆ Zona Centro  ┆ Cerrado  ┆ 2022-06-01   ┆ 2022-06-08  ┆ 2022-06-08  │\n",
       "│ 741          ┆ - 191096     ┆              ┆          ┆              ┆             ┆             │\n",
       "│ …            ┆ …            ┆ …            ┆ …        ┆ …            ┆ …           ┆ …           │\n",
       "│ WO0000005737 ┆ CANTO GRANDE ┆ Zona Centro  ┆ En curso ┆ 2023-10-29   ┆ null        ┆ null        │\n",
       "│ 139          ┆ - 191096     ┆              ┆          ┆              ┆             ┆             │\n",
       "│ WO0000005736 ┆ NARANJAL -   ┆ Zona Centro  ┆ En curso ┆ 2023-10-29   ┆ null        ┆ null        │\n",
       "│ 853          ┆ 191141       ┆              ┆          ┆              ┆             ┆             │\n",
       "│ WO0000005736 ┆ NARANJAL -   ┆ Zona Centro  ┆ En curso ┆ 2023-10-29   ┆ null        ┆ null        │\n",
       "│ 847          ┆ 191141       ┆              ┆          ┆              ┆             ┆             │\n",
       "│ WO0000005736 ┆ NARANJAL -   ┆ Zona Centro  ┆ En curso ┆ 2023-10-29   ┆ null        ┆ null        │\n",
       "│ 845          ┆ 191141       ┆              ┆          ┆              ┆             ┆             │\n",
       "│ WO0000005736 ┆ TARAPACA -   ┆ Zona Centro  ┆ En curso ┆ 2023-10-29   ┆ null        ┆ null        │\n",
       "│ 387          ┆ 191030       ┆              ┆          ┆              ┆             ┆             │\n",
       "└──────────────┴──────────────┴──────────────┴──────────┴──────────────┴─────────────┴─────────────┘"
      ]
     },
     "execution_count": 8,
     "metadata": {},
     "output_type": "execute_result"
    }
   ],
   "source": [
    "# Unir y/o concatenar lasdos bases\n",
    "df_tickets = pl.concat([df_historico, df_actual])\n",
    "df_tickets"
   ]
  },
  {
   "cell_type": "code",
   "execution_count": 9,
   "metadata": {},
   "outputs": [
    {
     "data": {
      "text/html": [
       "<div><style>\n",
       ".dataframe > thead > tr,\n",
       ".dataframe > tbody > tr {\n",
       "  text-align: right;\n",
       "  white-space: pre-wrap;\n",
       "}\n",
       "</style>\n",
       "<small>shape: (22_215, 7)</small><table border=\"1\" class=\"dataframe\"><thead><tr><th>TicketID</th><th>Ubicacion</th><th>Service Desk</th><th>Estado</th><th>Fecha Creacion</th><th>Fecha Termino</th><th>Fecha Cierre</th></tr><tr><td>str</td><td>str</td><td>str</td><td>str</td><td>date</td><td>date</td><td>date</td></tr></thead><tbody><tr><td>&quot;WO000000412268…</td><td>&quot;LA SALLE - 191…</td><td>&quot;Zona Centro&quot;</td><td>&quot;Cerrado&quot;</td><td>2022-06-01</td><td>2022-06-08</td><td>2022-06-08</td></tr><tr><td>&quot;WO000000412692…</td><td>&quot;DEL AIRE - 193…</td><td>&quot;Zona Centro&quot;</td><td>&quot;Cerrado&quot;</td><td>2022-06-03</td><td>2022-06-10</td><td>2022-06-10</td></tr><tr><td>&quot;WO000000412465…</td><td>&quot;PLAZA CIVICA V…</td><td>&quot;Zona Centro&quot;</td><td>&quot;Cerrado&quot;</td><td>2022-06-03</td><td>2022-06-12</td><td>2022-06-12</td></tr><tr><td>&quot;WO000000412443…</td><td>&quot;VENEZUELA - 19…</td><td>&quot;Zona Centro&quot;</td><td>&quot;Cerrado&quot;</td><td>2022-06-03</td><td>2022-06-11</td><td>2022-06-11</td></tr><tr><td>&quot;WO000000412467…</td><td>&quot;EL PEDREGAL - …</td><td>&quot;Zona Norte&quot;</td><td>&quot;Cerrado&quot;</td><td>2022-06-03</td><td>2022-06-20</td><td>2022-06-20</td></tr><tr><td>&quot;WO000000412531…</td><td>&quot;MONEY AND TOUR…</td><td>&quot;Zona Norte&quot;</td><td>&quot;Cerrado&quot;</td><td>2022-06-03</td><td>2022-06-12</td><td>2022-06-12</td></tr><tr><td>&quot;WO000000412520…</td><td>&quot;LAS MALVINAS -…</td><td>&quot;Zona Centro&quot;</td><td>&quot;Cerrado&quot;</td><td>2022-06-03</td><td>2022-06-11</td><td>2022-06-11</td></tr><tr><td>&quot;WO000000412627…</td><td>&quot;ANTUNEZ DE MAY…</td><td>&quot;Zona Centro&quot;</td><td>&quot;Cerrado&quot;</td><td>2022-06-03</td><td>2022-06-24</td><td>2022-06-24</td></tr><tr><td>&quot;WO000000412382…</td><td>&quot;MOQUEGUA - 430…</td><td>&quot;Zona Norte&quot;</td><td>&quot;Cerrado&quot;</td><td>2022-06-03</td><td>2022-06-21</td><td>2022-06-21</td></tr><tr><td>&quot;WO000000413003…</td><td>&quot;MERCADO DE PRO…</td><td>&quot;Zona Centro&quot;</td><td>&quot;Cerrado&quot;</td><td>2022-06-04</td><td>2022-06-10</td><td>2022-06-10</td></tr><tr><td>&quot;WO000000412845…</td><td>&quot;MOQUEGUA - 430…</td><td>&quot;Zona Norte&quot;</td><td>&quot;Cerrado&quot;</td><td>2022-06-04</td><td>2022-06-24</td><td>2022-06-24</td></tr><tr><td>&quot;WO000000412952…</td><td>&quot;SIGLO XX - 215…</td><td>&quot;Zona Norte&quot;</td><td>&quot;Cerrado&quot;</td><td>2022-06-04</td><td>2022-06-11</td><td>2022-06-11</td></tr><tr><td>&hellip;</td><td>&hellip;</td><td>&hellip;</td><td>&hellip;</td><td>&hellip;</td><td>&hellip;</td><td>&hellip;</td></tr><tr><td>&quot;WO000000573139…</td><td>&quot;SIGLO XX - 215…</td><td>&quot;Zona Norte&quot;</td><td>&quot;En curso&quot;</td><td>2023-10-27</td><td>null</td><td>null</td></tr><tr><td>&quot;WO000000573174…</td><td>&quot;UNIPLAZA - 191…</td><td>&quot;Zona Centro&quot;</td><td>&quot;En curso&quot;</td><td>2023-10-27</td><td>null</td><td>null</td></tr><tr><td>&quot;WO000000573131…</td><td>&quot;TUSILAGOS - 19…</td><td>&quot;Zona Centro&quot;</td><td>&quot;En curso&quot;</td><td>2023-10-27</td><td>null</td><td>null</td></tr><tr><td>&quot;WO000000572979…</td><td>&quot;VENEZUELA - 19…</td><td>&quot;Zona Sur&quot;</td><td>&quot;En curso&quot;</td><td>2023-10-27</td><td>null</td><td>null</td></tr><tr><td>&quot;WO000000573046…</td><td>&quot;LAS ALONDRAS -…</td><td>&quot;Zona Sur&quot;</td><td>&quot;En curso&quot;</td><td>2023-10-27</td><td>null</td><td>null</td></tr><tr><td>&quot;WO000000573490…</td><td>&quot;CAILLOMA - 191…</td><td>&quot;Zona Sur&quot;</td><td>&quot;En curso&quot;</td><td>2023-10-28</td><td>null</td><td>null</td></tr><tr><td>&quot;WO000000573528…</td><td>&quot;CUSCO - 285000…</td><td>&quot;Zona Norte&quot;</td><td>&quot;En curso&quot;</td><td>2023-10-28</td><td>null</td><td>null</td></tr><tr><td>&quot;WO000000573455…</td><td>&quot;BOLOGNESI - 54…</td><td>&quot;Zona Norte&quot;</td><td>&quot;En curso&quot;</td><td>2023-10-28</td><td>null</td><td>null</td></tr><tr><td>&quot;WO000000573526…</td><td>&quot;DIAGONAL - 285…</td><td>&quot;Zona Norte&quot;</td><td>&quot;Terminado&quot;</td><td>2023-10-28</td><td>2023-10-28</td><td>2023-10-28</td></tr><tr><td>&quot;WO000000573834…</td><td>&quot;LA FONTANA - 1…</td><td>&quot;Zona Sur&quot;</td><td>&quot;Rechazado&quot;</td><td>2023-10-29</td><td>null</td><td>null</td></tr><tr><td>&quot;WO000000573872…</td><td>&quot;NACIONES UNIDA…</td><td>&quot;Zona Centro&quot;</td><td>&quot;En curso&quot;</td><td>2023-10-29</td><td>null</td><td>null</td></tr><tr><td>&quot;WO000000573783…</td><td>&quot;EDUARDO DE HAB…</td><td>&quot;Zona Centro&quot;</td><td>&quot;En curso&quot;</td><td>2023-10-29</td><td>null</td><td>null</td></tr></tbody></table></div>"
      ],
      "text/plain": [
       "shape: (22_215, 7)\n",
       "┌──────────────┬──────────────┬──────────────┬───────────┬─────────────┬─────────────┬─────────────┐\n",
       "│ TicketID     ┆ Ubicacion    ┆ Service Desk ┆ Estado    ┆ Fecha       ┆ Fecha       ┆ Fecha       │\n",
       "│ ---          ┆ ---          ┆ ---          ┆ ---       ┆ Creacion    ┆ Termino     ┆ Cierre      │\n",
       "│ str          ┆ str          ┆ str          ┆ str       ┆ ---         ┆ ---         ┆ ---         │\n",
       "│              ┆              ┆              ┆           ┆ date        ┆ date        ┆ date        │\n",
       "╞══════════════╪══════════════╪══════════════╪═══════════╪═════════════╪═════════════╪═════════════╡\n",
       "│ WO0000004122 ┆ LA SALLE -   ┆ Zona Centro  ┆ Cerrado   ┆ 2022-06-01  ┆ 2022-06-08  ┆ 2022-06-08  │\n",
       "│ 689          ┆ 191114       ┆              ┆           ┆             ┆             ┆             │\n",
       "│ WO0000004126 ┆ DEL AIRE -   ┆ Zona Centro  ┆ Cerrado   ┆ 2022-06-03  ┆ 2022-06-10  ┆ 2022-06-10  │\n",
       "│ 922          ┆ 193064       ┆              ┆           ┆             ┆             ┆             │\n",
       "│ WO0000004124 ┆ PLAZA CIVICA ┆ Zona Centro  ┆ Cerrado   ┆ 2022-06-03  ┆ 2022-06-12  ┆ 2022-06-12  │\n",
       "│ 657          ┆ VENTANILLA - ┆              ┆           ┆             ┆             ┆             │\n",
       "│              ┆ 192026       ┆              ┆           ┆             ┆             ┆             │\n",
       "│ WO0000004124 ┆ VENEZUELA -  ┆ Zona Centro  ┆ Cerrado   ┆ 2022-06-03  ┆ 2022-06-11  ┆ 2022-06-11  │\n",
       "│ 436          ┆ 191026       ┆              ┆           ┆             ┆             ┆             │\n",
       "│ WO0000004124 ┆ EL PEDREGAL  ┆ Zona Norte   ┆ Cerrado   ┆ 2022-06-03  ┆ 2022-06-20  ┆ 2022-06-20  │\n",
       "│ 672          ┆ - 251000     ┆              ┆           ┆             ┆             ┆             │\n",
       "│ …            ┆ …            ┆ …            ┆ …         ┆ …           ┆ …           ┆ …           │\n",
       "│ WO0000005734 ┆ BOLOGNESI -  ┆ Zona Norte   ┆ En curso  ┆ 2023-10-28  ┆ null        ┆ null        │\n",
       "│ 551          ┆ 540002       ┆              ┆           ┆             ┆             ┆             │\n",
       "│ WO0000005735 ┆ DIAGONAL -   ┆ Zona Norte   ┆ Terminado ┆ 2023-10-28  ┆ 2023-10-28  ┆ 2023-10-28  │\n",
       "│ 268          ┆ 285003       ┆              ┆           ┆             ┆             ┆             │\n",
       "│ WO0000005738 ┆ LA FONTANA - ┆ Zona Sur     ┆ Rechazado ┆ 2023-10-29  ┆ null        ┆ null        │\n",
       "│ 345          ┆ 193054       ┆              ┆           ┆             ┆             ┆             │\n",
       "│ WO0000005738 ┆ NACIONES     ┆ Zona Centro  ┆ En curso  ┆ 2023-10-29  ┆ null        ┆ null        │\n",
       "│ 726          ┆ UNIDAS -     ┆              ┆           ┆             ┆             ┆             │\n",
       "│              ┆ 191084       ┆              ┆           ┆             ┆             ┆             │\n",
       "│ WO0000005737 ┆ EDUARDO DE   ┆ Zona Centro  ┆ En curso  ┆ 2023-10-29  ┆ null        ┆ null        │\n",
       "│ 838          ┆ HABICH -     ┆              ┆           ┆             ┆             ┆             │\n",
       "│              ┆ 191023       ┆              ┆           ┆             ┆             ┆             │\n",
       "└──────────────┴──────────────┴──────────────┴───────────┴─────────────┴─────────────┴─────────────┘"
      ]
     },
     "execution_count": 9,
     "metadata": {},
     "output_type": "execute_result"
    }
   ],
   "source": [
    "# Eliminar duplicados\n",
    "df_tickets= df_tickets.group_by(\"*\").agg(pl.col(\"*\").unique())\n",
    "df_tickets"
   ]
  },
  {
   "cell_type": "code",
   "execution_count": 10,
   "metadata": {},
   "outputs": [
    {
     "data": {
      "text/html": [
       "<div><style>\n",
       ".dataframe > thead > tr,\n",
       ".dataframe > tbody > tr {\n",
       "  text-align: right;\n",
       "  white-space: pre-wrap;\n",
       "}\n",
       "</style>\n",
       "<small>shape: (22_215, 2)</small><table border=\"1\" class=\"dataframe\"><thead><tr><th>TicketID</th><th>Fecha Creacion</th></tr><tr><td>str</td><td>date</td></tr></thead><tbody><tr><td>&quot;WO000000489092…</td><td>2023-01-14</td></tr><tr><td>&quot;WO000000524014…</td><td>2023-05-18</td></tr><tr><td>&quot;WO000000558727…</td><td>2023-09-09</td></tr><tr><td>&quot;WO000000533284…</td><td>2023-06-19</td></tr><tr><td>&quot;WO000000529557…</td><td>2023-06-08</td></tr><tr><td>&quot;WO000000480912…</td><td>2022-12-13</td></tr><tr><td>&quot;WO000000554863…</td><td>2023-08-28</td></tr><tr><td>&quot;WO000000567330…</td><td>2023-10-07</td></tr><tr><td>&quot;WO000000545373…</td><td>2023-07-31</td></tr><tr><td>&quot;WO000000557011…</td><td>2023-09-03</td></tr><tr><td>&quot;WO000000524890…</td><td>2023-05-21</td></tr><tr><td>&quot;WO000000555944…</td><td>2023-09-01</td></tr><tr><td>&hellip;</td><td>&hellip;</td></tr><tr><td>&quot;WO000000560647…</td><td>2023-09-16</td></tr><tr><td>&quot;WO000000563593…</td><td>2023-09-25</td></tr><tr><td>&quot;WO000000570071…</td><td>2023-10-15</td></tr><tr><td>&quot;WO000000480683…</td><td>2022-12-12</td></tr><tr><td>&quot;WO000000547616…</td><td>2023-08-07</td></tr><tr><td>&quot;WO000000495500…</td><td>2023-02-03</td></tr><tr><td>&quot;WO000000556854…</td><td>2023-09-03</td></tr><tr><td>&quot;WO000000559343…</td><td>2023-09-11</td></tr><tr><td>&quot;WO000000571543…</td><td>2023-10-21</td></tr><tr><td>&quot;WO000000479914…</td><td>2022-12-10</td></tr><tr><td>&quot;WO000000571890…</td><td>2023-10-22</td></tr><tr><td>&quot;WO000000571789…</td><td>2023-10-22</td></tr></tbody></table></div>"
      ],
      "text/plain": [
       "shape: (22_215, 2)\n",
       "┌─────────────────┬────────────────┐\n",
       "│ TicketID        ┆ Fecha Creacion │\n",
       "│ ---             ┆ ---            │\n",
       "│ str             ┆ date           │\n",
       "╞═════════════════╪════════════════╡\n",
       "│ WO0000004890927 ┆ 2023-01-14     │\n",
       "│ WO0000005240140 ┆ 2023-05-18     │\n",
       "│ WO0000005587270 ┆ 2023-09-09     │\n",
       "│ WO0000005332841 ┆ 2023-06-19     │\n",
       "│ WO0000005295576 ┆ 2023-06-08     │\n",
       "│ …               ┆ …              │\n",
       "│ WO0000005593435 ┆ 2023-09-11     │\n",
       "│ WO0000005715437 ┆ 2023-10-21     │\n",
       "│ WO0000004799143 ┆ 2022-12-10     │\n",
       "│ WO0000005718908 ┆ 2023-10-22     │\n",
       "│ WO0000005717893 ┆ 2023-10-22     │\n",
       "└─────────────────┴────────────────┘"
      ]
     },
     "execution_count": 10,
     "metadata": {},
     "output_type": "execute_result"
    }
   ],
   "source": [
    "# Quitar duplicados por condicional\n",
    "df_tickets=df_tickets.sort(\"Fecha Creacion\", descending = False)\n",
    "df_tickets_sin_duplicados_condiconal= df_tickets.group_by(\"TicketID\").agg(pl.col(\"Fecha Creacion\").last())\n",
    "df_tickets_sin_duplicados_condiconal"
   ]
  },
  {
   "cell_type": "code",
   "execution_count": 11,
   "metadata": {},
   "outputs": [
    {
     "data": {
      "text/html": [
       "<div><style>\n",
       ".dataframe > thead > tr,\n",
       ".dataframe > tbody > tr {\n",
       "  text-align: right;\n",
       "  white-space: pre-wrap;\n",
       "}\n",
       "</style>\n",
       "<small>shape: (22_215, 7)</small><table border=\"1\" class=\"dataframe\"><thead><tr><th>TicketID</th><th>Ubicacion</th><th>Service Desk</th><th>Estado</th><th>Fecha Creacion</th><th>Fecha Termino</th><th>Fecha Cierre</th></tr><tr><td>str</td><td>str</td><td>str</td><td>str</td><td>date</td><td>date</td><td>date</td></tr></thead><tbody><tr><td>&quot;WO000000489092…</td><td>&quot;MEGA PLAZA 2 -…</td><td>&quot;Zona Centro&quot;</td><td>&quot;Cerrado&quot;</td><td>2023-01-14</td><td>2023-01-16</td><td>2023-01-19</td></tr><tr><td>&quot;WO000000524014…</td><td>&quot;MUSA - 193050&quot;</td><td>&quot;Zona Sur&quot;</td><td>&quot;Cerrado&quot;</td><td>2023-05-18</td><td>2023-05-23</td><td>2023-05-27</td></tr><tr><td>&quot;WO000000558727…</td><td>&quot;ANDAHUAYLAS - …</td><td>&quot;Zona Norte&quot;</td><td>&quot;Cerrado&quot;</td><td>2023-09-09</td><td>2023-09-22</td><td>2023-09-25</td></tr><tr><td>&quot;WO000000533284…</td><td>&quot;CHIMPU OCLLO -…</td><td>&quot;Zona Centro&quot;</td><td>&quot;Cerrado&quot;</td><td>2023-06-19</td><td>2023-07-03</td><td>2023-07-06</td></tr><tr><td>&quot;WO000000529557…</td><td>&quot;LA ENSENADA - …</td><td>&quot;Zona Centro&quot;</td><td>&quot;Cerrado&quot;</td><td>2023-06-08</td><td>2023-06-08</td><td>2023-06-11</td></tr><tr><td>&quot;WO000000480912…</td><td>&quot;EL AGUSTINO - …</td><td>&quot;Zona Centro&quot;</td><td>&quot;Cerrado&quot;</td><td>2022-12-13</td><td>2022-12-18</td><td>2022-12-21</td></tr><tr><td>&quot;WO000000554863…</td><td>&quot;VENEZUELA - 19…</td><td>&quot;Zona Sur&quot;</td><td>&quot;Cerrado&quot;</td><td>2023-08-28</td><td>2023-09-02</td><td>2023-09-05</td></tr><tr><td>&quot;WO000000567330…</td><td>&quot;CHIMPU OCLLO -…</td><td>&quot;Zona Centro&quot;</td><td>&quot;Cerrado&quot;</td><td>2023-10-07</td><td>2023-10-11</td><td>2023-10-14</td></tr><tr><td>&quot;WO000000545373…</td><td>&quot;CAQUETA - 1910…</td><td>&quot;Zona Centro&quot;</td><td>&quot;Cerrado&quot;</td><td>2023-07-31</td><td>2023-07-31</td><td>2023-08-03</td></tr><tr><td>&quot;WO000000557011…</td><td>&quot;EDUARDO DE HAB…</td><td>&quot;Zona Centro&quot;</td><td>&quot;Cerrado&quot;</td><td>2023-09-03</td><td>2023-09-04</td><td>2023-09-07</td></tr><tr><td>&quot;WO000000524890…</td><td>&quot;MALL AVENTURA …</td><td>&quot;Zona Norte&quot;</td><td>&quot;Cerrado&quot;</td><td>2023-05-21</td><td>2023-05-26</td><td>2023-05-29</td></tr><tr><td>&quot;WO000000555944…</td><td>&quot;PLAZA UNION - …</td><td>&quot;Zona Centro&quot;</td><td>&quot;Cerrado&quot;</td><td>2023-09-01</td><td>2023-09-05</td><td>2023-09-08</td></tr><tr><td>&hellip;</td><td>&hellip;</td><td>&hellip;</td><td>&hellip;</td><td>&hellip;</td><td>&hellip;</td><td>&hellip;</td></tr><tr><td>&quot;WO000000560647…</td><td>&quot;TARAPACA - 191…</td><td>&quot;Zona Centro&quot;</td><td>&quot;Cerrado&quot;</td><td>2023-09-16</td><td>2023-09-29</td><td>2023-10-03</td></tr><tr><td>&quot;WO000000563593…</td><td>&quot;VILLA SOL - 19…</td><td>&quot;Zona Centro&quot;</td><td>&quot;Rechazado&quot;</td><td>2023-09-25</td><td>null</td><td>null</td></tr><tr><td>&quot;WO000000570071…</td><td>&quot;COLONIAL - 192…</td><td>&quot;Zona Sur&quot;</td><td>&quot;Rechazado&quot;</td><td>2023-10-15</td><td>null</td><td>null</td></tr><tr><td>&quot;WO000000480683…</td><td>&quot;ZARATE - 19109…</td><td>&quot;Zona Centro&quot;</td><td>&quot;Cerrado&quot;</td><td>2022-12-12</td><td>2022-12-31</td><td>2023-01-03</td></tr><tr><td>&quot;WO000000547616…</td><td>&quot;CHIMPU OCLLO -…</td><td>&quot;Zona Centro&quot;</td><td>&quot;Cerrado&quot;</td><td>2023-08-07</td><td>2023-08-07</td><td>2023-08-10</td></tr><tr><td>&quot;WO000000495500…</td><td>&quot;TOTTUS GUIPOR …</td><td>&quot;Zona Centro&quot;</td><td>&quot;Cerrado&quot;</td><td>2023-02-03</td><td>2023-03-07</td><td>2023-03-10</td></tr><tr><td>&quot;WO000000556854…</td><td>&quot;RAUL FERRERO -…</td><td>&quot;Zona Sur&quot;</td><td>&quot;Cerrado&quot;</td><td>2023-09-03</td><td>2023-09-05</td><td>2023-09-08</td></tr><tr><td>&quot;WO000000559343…</td><td>&quot;ANGELICA GAMAR…</td><td>&quot;Zona Centro&quot;</td><td>&quot;Cerrado&quot;</td><td>2023-09-11</td><td>2023-09-11</td><td>2023-09-14</td></tr><tr><td>&quot;WO000000571543…</td><td>&quot;CAYMA - 215002…</td><td>&quot;Zona Norte&quot;</td><td>&quot;En curso&quot;</td><td>2023-10-21</td><td>null</td><td>null</td></tr><tr><td>&quot;WO000000479914…</td><td>&quot;LA RAMBLA BRAS…</td><td>&quot;Zona Centro&quot;</td><td>&quot;Cerrado&quot;</td><td>2022-12-10</td><td>2022-12-12</td><td>2022-12-15</td></tr><tr><td>&quot;WO000000571890…</td><td>&quot;MERCADO DE FRU…</td><td>&quot;Zona Centro&quot;</td><td>&quot;En curso&quot;</td><td>2023-10-22</td><td>null</td><td>null</td></tr><tr><td>&quot;WO000000571789…</td><td>&quot;PURUCHUCO - 19…</td><td>&quot;Zona Sur&quot;</td><td>&quot;Rechazado&quot;</td><td>2023-10-22</td><td>null</td><td>null</td></tr></tbody></table></div>"
      ],
      "text/plain": [
       "shape: (22_215, 7)\n",
       "┌──────────────┬──────────────┬──────────────┬───────────┬─────────────┬─────────────┬─────────────┐\n",
       "│ TicketID     ┆ Ubicacion    ┆ Service Desk ┆ Estado    ┆ Fecha       ┆ Fecha       ┆ Fecha       │\n",
       "│ ---          ┆ ---          ┆ ---          ┆ ---       ┆ Creacion    ┆ Termino     ┆ Cierre      │\n",
       "│ str          ┆ str          ┆ str          ┆ str       ┆ ---         ┆ ---         ┆ ---         │\n",
       "│              ┆              ┆              ┆           ┆ date        ┆ date        ┆ date        │\n",
       "╞══════════════╪══════════════╪══════════════╪═══════════╪═════════════╪═════════════╪═════════════╡\n",
       "│ WO0000004890 ┆ MEGA PLAZA 2 ┆ Zona Centro  ┆ Cerrado   ┆ 2023-01-14  ┆ 2023-01-16  ┆ 2023-01-19  │\n",
       "│ 927          ┆ - 191040     ┆              ┆           ┆             ┆             ┆             │\n",
       "│ WO0000005240 ┆ MUSA -       ┆ Zona Sur     ┆ Cerrado   ┆ 2023-05-18  ┆ 2023-05-23  ┆ 2023-05-27  │\n",
       "│ 140          ┆ 193050       ┆              ┆           ┆             ┆             ┆             │\n",
       "│ WO0000005587 ┆ ANDAHUAYLAS  ┆ Zona Norte   ┆ Cerrado   ┆ 2023-09-09  ┆ 2023-09-22  ┆ 2023-09-25  │\n",
       "│ 270          ┆ - 205000     ┆              ┆           ┆             ┆             ┆             │\n",
       "│ WO0000005332 ┆ CHIMPU OCLLO ┆ Zona Centro  ┆ Cerrado   ┆ 2023-06-19  ┆ 2023-07-03  ┆ 2023-07-06  │\n",
       "│ 841          ┆ - 191113     ┆              ┆           ┆             ┆             ┆             │\n",
       "│ WO0000005295 ┆ LA ENSENADA  ┆ Zona Centro  ┆ Cerrado   ┆ 2023-06-08  ┆ 2023-06-08  ┆ 2023-06-11  │\n",
       "│ 576          ┆ - 191149     ┆              ┆           ┆             ┆             ┆             │\n",
       "│ …            ┆ …            ┆ …            ┆ …         ┆ …           ┆ …           ┆ …           │\n",
       "│ WO0000005593 ┆ ANGELICA     ┆ Zona Centro  ┆ Cerrado   ┆ 2023-09-11  ┆ 2023-09-11  ┆ 2023-09-14  │\n",
       "│ 435          ┆ GAMARRA -    ┆              ┆           ┆             ┆             ┆             │\n",
       "│              ┆ 191057       ┆              ┆           ┆             ┆             ┆             │\n",
       "│ WO0000005715 ┆ CAYMA -      ┆ Zona Norte   ┆ En curso  ┆ 2023-10-21  ┆ null        ┆ null        │\n",
       "│ 437          ┆ 215002       ┆              ┆           ┆             ┆             ┆             │\n",
       "│ WO0000004799 ┆ LA RAMBLA    ┆ Zona Centro  ┆ Cerrado   ┆ 2022-12-10  ┆ 2022-12-12  ┆ 2022-12-15  │\n",
       "│ 143          ┆ BRASIL -     ┆              ┆           ┆             ┆             ┆             │\n",
       "│              ┆ 191166       ┆              ┆           ┆             ┆             ┆             │\n",
       "│ WO0000005718 ┆ MERCADO DE   ┆ Zona Centro  ┆ En curso  ┆ 2023-10-22  ┆ null        ┆ null        │\n",
       "│ 908          ┆ FRUTAS -     ┆              ┆           ┆             ┆             ┆             │\n",
       "│              ┆ 191064       ┆              ┆           ┆             ┆             ┆             │\n",
       "│ WO0000005717 ┆ PURUCHUCO -  ┆ Zona Sur     ┆ Rechazado ┆ 2023-10-22  ┆ null        ┆ null        │\n",
       "│ 893          ┆ 191020       ┆              ┆           ┆             ┆             ┆             │\n",
       "└──────────────┴──────────────┴──────────────┴───────────┴─────────────┴─────────────┴─────────────┘"
      ]
     },
     "execution_count": 11,
     "metadata": {},
     "output_type": "execute_result"
    }
   ],
   "source": [
    "# Conservar las otras columnas\n",
    "df_tickets = df_tickets.join(df_tickets_sin_duplicados_condiconal, on=[\"TicketID\",\"Fecha Creacion\"], how=\"inner\")\n",
    "df_tickets\n"
   ]
  },
  {
   "cell_type": "code",
   "execution_count": 12,
   "metadata": {},
   "outputs": [
    {
     "data": {
      "text/html": [
       "<div><style>\n",
       ".dataframe > thead > tr,\n",
       ".dataframe > tbody > tr {\n",
       "  text-align: right;\n",
       "  white-space: pre-wrap;\n",
       "}\n",
       "</style>\n",
       "<small>shape: (22_215, 9)</small><table border=\"1\" class=\"dataframe\"><thead><tr><th>TicketID</th><th>Ubicacion</th><th>Service Desk</th><th>Estado</th><th>Fecha Creacion</th><th>Fecha Termino</th><th>Fecha Cierre</th><th>Agencia</th><th>AgenciaID</th></tr><tr><td>str</td><td>str</td><td>str</td><td>str</td><td>date</td><td>date</td><td>date</td><td>str</td><td>str</td></tr></thead><tbody><tr><td>&quot;WO000000489092…</td><td>&quot;MEGA PLAZA 2 -…</td><td>&quot;Zona Centro&quot;</td><td>&quot;Cerrado&quot;</td><td>2023-01-14</td><td>2023-01-16</td><td>2023-01-19</td><td>&quot;MEGA PLAZA 2 &quot;</td><td>&quot;191040&quot;</td></tr><tr><td>&quot;WO000000524014…</td><td>&quot;MUSA - 193050&quot;</td><td>&quot;Zona Sur&quot;</td><td>&quot;Cerrado&quot;</td><td>2023-05-18</td><td>2023-05-23</td><td>2023-05-27</td><td>&quot;MUSA &quot;</td><td>&quot;193050&quot;</td></tr><tr><td>&quot;WO000000558727…</td><td>&quot;ANDAHUAYLAS - …</td><td>&quot;Zona Norte&quot;</td><td>&quot;Cerrado&quot;</td><td>2023-09-09</td><td>2023-09-22</td><td>2023-09-25</td><td>&quot;ANDAHUAYLAS &quot;</td><td>&quot;205000&quot;</td></tr><tr><td>&quot;WO000000533284…</td><td>&quot;CHIMPU OCLLO -…</td><td>&quot;Zona Centro&quot;</td><td>&quot;Cerrado&quot;</td><td>2023-06-19</td><td>2023-07-03</td><td>2023-07-06</td><td>&quot;CHIMPU OCLLO &quot;</td><td>&quot;191113&quot;</td></tr><tr><td>&quot;WO000000529557…</td><td>&quot;LA ENSENADA - …</td><td>&quot;Zona Centro&quot;</td><td>&quot;Cerrado&quot;</td><td>2023-06-08</td><td>2023-06-08</td><td>2023-06-11</td><td>&quot;LA ENSENADA &quot;</td><td>&quot;191149&quot;</td></tr><tr><td>&quot;WO000000480912…</td><td>&quot;EL AGUSTINO - …</td><td>&quot;Zona Centro&quot;</td><td>&quot;Cerrado&quot;</td><td>2022-12-13</td><td>2022-12-18</td><td>2022-12-21</td><td>&quot;EL AGUSTINO &quot;</td><td>&quot;191041&quot;</td></tr><tr><td>&quot;WO000000554863…</td><td>&quot;VENEZUELA - 19…</td><td>&quot;Zona Sur&quot;</td><td>&quot;Cerrado&quot;</td><td>2023-08-28</td><td>2023-09-02</td><td>2023-09-05</td><td>&quot;VENEZUELA &quot;</td><td>&quot;191026&quot;</td></tr><tr><td>&quot;WO000000567330…</td><td>&quot;CHIMPU OCLLO -…</td><td>&quot;Zona Centro&quot;</td><td>&quot;Cerrado&quot;</td><td>2023-10-07</td><td>2023-10-11</td><td>2023-10-14</td><td>&quot;CHIMPU OCLLO &quot;</td><td>&quot;191113&quot;</td></tr><tr><td>&quot;WO000000545373…</td><td>&quot;CAQUETA - 1910…</td><td>&quot;Zona Centro&quot;</td><td>&quot;Cerrado&quot;</td><td>2023-07-31</td><td>2023-07-31</td><td>2023-08-03</td><td>&quot;CAQUETA &quot;</td><td>&quot;191091&quot;</td></tr><tr><td>&quot;WO000000557011…</td><td>&quot;EDUARDO DE HAB…</td><td>&quot;Zona Centro&quot;</td><td>&quot;Cerrado&quot;</td><td>2023-09-03</td><td>2023-09-04</td><td>2023-09-07</td><td>&quot;EDUARDO DE HAB…</td><td>&quot;191023&quot;</td></tr><tr><td>&quot;WO000000524890…</td><td>&quot;MALL AVENTURA …</td><td>&quot;Zona Norte&quot;</td><td>&quot;Cerrado&quot;</td><td>2023-05-21</td><td>2023-05-26</td><td>2023-05-29</td><td>&quot;MALL AVENTURA …</td><td>&quot;215011&quot;</td></tr><tr><td>&quot;WO000000555944…</td><td>&quot;PLAZA UNION - …</td><td>&quot;Zona Centro&quot;</td><td>&quot;Cerrado&quot;</td><td>2023-09-01</td><td>2023-09-05</td><td>2023-09-08</td><td>&quot;PLAZA UNION &quot;</td><td>&quot;191062&quot;</td></tr><tr><td>&hellip;</td><td>&hellip;</td><td>&hellip;</td><td>&hellip;</td><td>&hellip;</td><td>&hellip;</td><td>&hellip;</td><td>&hellip;</td><td>&hellip;</td></tr><tr><td>&quot;WO000000560647…</td><td>&quot;TARAPACA - 191…</td><td>&quot;Zona Centro&quot;</td><td>&quot;Cerrado&quot;</td><td>2023-09-16</td><td>2023-09-29</td><td>2023-10-03</td><td>&quot;TARAPACA &quot;</td><td>&quot;191030&quot;</td></tr><tr><td>&quot;WO000000563593…</td><td>&quot;VILLA SOL - 19…</td><td>&quot;Zona Centro&quot;</td><td>&quot;Rechazado&quot;</td><td>2023-09-25</td><td>null</td><td>null</td><td>&quot;VILLA SOL &quot;</td><td>&quot;191059&quot;</td></tr><tr><td>&quot;WO000000570071…</td><td>&quot;COLONIAL - 192…</td><td>&quot;Zona Sur&quot;</td><td>&quot;Rechazado&quot;</td><td>2023-10-15</td><td>null</td><td>null</td><td>&quot;COLONIAL &quot;</td><td>&quot;192035&quot;</td></tr><tr><td>&quot;WO000000480683…</td><td>&quot;ZARATE - 19109…</td><td>&quot;Zona Centro&quot;</td><td>&quot;Cerrado&quot;</td><td>2022-12-12</td><td>2022-12-31</td><td>2023-01-03</td><td>&quot;ZARATE &quot;</td><td>&quot;191097&quot;</td></tr><tr><td>&quot;WO000000547616…</td><td>&quot;CHIMPU OCLLO -…</td><td>&quot;Zona Centro&quot;</td><td>&quot;Cerrado&quot;</td><td>2023-08-07</td><td>2023-08-07</td><td>2023-08-10</td><td>&quot;CHIMPU OCLLO &quot;</td><td>&quot;191113&quot;</td></tr><tr><td>&quot;WO000000495500…</td><td>&quot;TOTTUS GUIPOR …</td><td>&quot;Zona Centro&quot;</td><td>&quot;Cerrado&quot;</td><td>2023-02-03</td><td>2023-03-07</td><td>2023-03-10</td><td>&quot;TOTTUS GUIPOR …</td><td>&quot;191147&quot;</td></tr><tr><td>&quot;WO000000556854…</td><td>&quot;RAUL FERRERO -…</td><td>&quot;Zona Sur&quot;</td><td>&quot;Cerrado&quot;</td><td>2023-09-03</td><td>2023-09-05</td><td>2023-09-08</td><td>&quot;RAUL FERRERO &quot;</td><td>&quot;193012&quot;</td></tr><tr><td>&quot;WO000000559343…</td><td>&quot;ANGELICA GAMAR…</td><td>&quot;Zona Centro&quot;</td><td>&quot;Cerrado&quot;</td><td>2023-09-11</td><td>2023-09-11</td><td>2023-09-14</td><td>&quot;ANGELICA GAMAR…</td><td>&quot;191057&quot;</td></tr><tr><td>&quot;WO000000571543…</td><td>&quot;CAYMA - 215002…</td><td>&quot;Zona Norte&quot;</td><td>&quot;En curso&quot;</td><td>2023-10-21</td><td>null</td><td>null</td><td>&quot;CAYMA &quot;</td><td>&quot;215002&quot;</td></tr><tr><td>&quot;WO000000479914…</td><td>&quot;LA RAMBLA BRAS…</td><td>&quot;Zona Centro&quot;</td><td>&quot;Cerrado&quot;</td><td>2022-12-10</td><td>2022-12-12</td><td>2022-12-15</td><td>&quot;LA RAMBLA BRAS…</td><td>&quot;191166&quot;</td></tr><tr><td>&quot;WO000000571890…</td><td>&quot;MERCADO DE FRU…</td><td>&quot;Zona Centro&quot;</td><td>&quot;En curso&quot;</td><td>2023-10-22</td><td>null</td><td>null</td><td>&quot;MERCADO DE FRU…</td><td>&quot;191064&quot;</td></tr><tr><td>&quot;WO000000571789…</td><td>&quot;PURUCHUCO - 19…</td><td>&quot;Zona Sur&quot;</td><td>&quot;Rechazado&quot;</td><td>2023-10-22</td><td>null</td><td>null</td><td>&quot;PURUCHUCO &quot;</td><td>&quot;191020&quot;</td></tr></tbody></table></div>"
      ],
      "text/plain": [
       "shape: (22_215, 9)\n",
       "┌───────────┬───────────┬───────────┬───────────┬───┬───────────┬───────────┬───────────┬──────────┐\n",
       "│ TicketID  ┆ Ubicacion ┆ Service   ┆ Estado    ┆ … ┆ Fecha     ┆ Fecha     ┆ Agencia   ┆ AgenciaI │\n",
       "│ ---       ┆ ---       ┆ Desk      ┆ ---       ┆   ┆ Termino   ┆ Cierre    ┆ ---       ┆ D        │\n",
       "│ str       ┆ str       ┆ ---       ┆ str       ┆   ┆ ---       ┆ ---       ┆ str       ┆ ---      │\n",
       "│           ┆           ┆ str       ┆           ┆   ┆ date      ┆ date      ┆           ┆ str      │\n",
       "╞═══════════╪═══════════╪═══════════╪═══════════╪═══╪═══════════╪═══════════╪═══════════╪══════════╡\n",
       "│ WO0000004 ┆ MEGA      ┆ Zona      ┆ Cerrado   ┆ … ┆ 2023-01-1 ┆ 2023-01-1 ┆ MEGA      ┆ 191040   │\n",
       "│ 890927    ┆ PLAZA 2 - ┆ Centro    ┆           ┆   ┆ 6         ┆ 9         ┆ PLAZA 2   ┆          │\n",
       "│           ┆ 191040    ┆           ┆           ┆   ┆           ┆           ┆           ┆          │\n",
       "│ WO0000005 ┆ MUSA -    ┆ Zona Sur  ┆ Cerrado   ┆ … ┆ 2023-05-2 ┆ 2023-05-2 ┆ MUSA      ┆ 193050   │\n",
       "│ 240140    ┆ 193050    ┆           ┆           ┆   ┆ 3         ┆ 7         ┆           ┆          │\n",
       "│ WO0000005 ┆ ANDAHUAYL ┆ Zona      ┆ Cerrado   ┆ … ┆ 2023-09-2 ┆ 2023-09-2 ┆ ANDAHUAYL ┆ 205000   │\n",
       "│ 587270    ┆ AS -      ┆ Norte     ┆           ┆   ┆ 2         ┆ 5         ┆ AS        ┆          │\n",
       "│           ┆ 205000    ┆           ┆           ┆   ┆           ┆           ┆           ┆          │\n",
       "│ WO0000005 ┆ CHIMPU    ┆ Zona      ┆ Cerrado   ┆ … ┆ 2023-07-0 ┆ 2023-07-0 ┆ CHIMPU    ┆ 191113   │\n",
       "│ 332841    ┆ OCLLO -   ┆ Centro    ┆           ┆   ┆ 3         ┆ 6         ┆ OCLLO     ┆          │\n",
       "│           ┆ 191113    ┆           ┆           ┆   ┆           ┆           ┆           ┆          │\n",
       "│ WO0000005 ┆ LA        ┆ Zona      ┆ Cerrado   ┆ … ┆ 2023-06-0 ┆ 2023-06-1 ┆ LA        ┆ 191149   │\n",
       "│ 295576    ┆ ENSENADA  ┆ Centro    ┆           ┆   ┆ 8         ┆ 1         ┆ ENSENADA  ┆          │\n",
       "│           ┆ - 191149  ┆           ┆           ┆   ┆           ┆           ┆           ┆          │\n",
       "│ …         ┆ …         ┆ …         ┆ …         ┆ … ┆ …         ┆ …         ┆ …         ┆ …        │\n",
       "│ WO0000005 ┆ ANGELICA  ┆ Zona      ┆ Cerrado   ┆ … ┆ 2023-09-1 ┆ 2023-09-1 ┆ ANGELICA  ┆ 191057   │\n",
       "│ 593435    ┆ GAMARRA - ┆ Centro    ┆           ┆   ┆ 1         ┆ 4         ┆ GAMARRA   ┆          │\n",
       "│           ┆ 191057    ┆           ┆           ┆   ┆           ┆           ┆           ┆          │\n",
       "│ WO0000005 ┆ CAYMA -   ┆ Zona      ┆ En curso  ┆ … ┆ null      ┆ null      ┆ CAYMA     ┆ 215002   │\n",
       "│ 715437    ┆ 215002    ┆ Norte     ┆           ┆   ┆           ┆           ┆           ┆          │\n",
       "│ WO0000004 ┆ LA RAMBLA ┆ Zona      ┆ Cerrado   ┆ … ┆ 2022-12-1 ┆ 2022-12-1 ┆ LA RAMBLA ┆ 191166   │\n",
       "│ 799143    ┆ BRASIL -  ┆ Centro    ┆           ┆   ┆ 2         ┆ 5         ┆ BRASIL    ┆          │\n",
       "│           ┆ 191166    ┆           ┆           ┆   ┆           ┆           ┆           ┆          │\n",
       "│ WO0000005 ┆ MERCADO   ┆ Zona      ┆ En curso  ┆ … ┆ null      ┆ null      ┆ MERCADO   ┆ 191064   │\n",
       "│ 718908    ┆ DE FRUTAS ┆ Centro    ┆           ┆   ┆           ┆           ┆ DE FRUTAS ┆          │\n",
       "│           ┆ - 191064  ┆           ┆           ┆   ┆           ┆           ┆           ┆          │\n",
       "│ WO0000005 ┆ PURUCHUCO ┆ Zona Sur  ┆ Rechazado ┆ … ┆ null      ┆ null      ┆ PURUCHUCO ┆ 191020   │\n",
       "│ 717893    ┆ - 191020  ┆           ┆           ┆   ┆           ┆           ┆           ┆          │\n",
       "└───────────┴───────────┴───────────┴───────────┴───┴───────────┴───────────┴───────────┴──────────┘"
      ]
     },
     "execution_count": 12,
     "metadata": {},
     "output_type": "execute_result"
    }
   ],
   "source": [
    "# Separar la columna ubicacion\n",
    "df_tickets=df_tickets.with_columns((pl.col(\"Ubicacion\").str.split('-').map_elements(\n",
    "        lambda lista: lista[0]\n",
    "    )).alias(\"Agencia\"),\n",
    "    (pl.col(\"Ubicacion\").str.split('-').map_elements(\n",
    "        lambda lista: lista[1].strip()\n",
    "    )).alias(\"AgenciaID\")\n",
    ")\n",
    "df_tickets"
   ]
  },
  {
   "cell_type": "code",
   "execution_count": 13,
   "metadata": {},
   "outputs": [
    {
     "data": {
      "text/html": [
       "<div><style>\n",
       ".dataframe > thead > tr,\n",
       ".dataframe > tbody > tr {\n",
       "  text-align: right;\n",
       "  white-space: pre-wrap;\n",
       "}\n",
       "</style>\n",
       "<small>shape: (22_215, 9)</small><table border=\"1\" class=\"dataframe\"><thead><tr><th>TicketID</th><th>Ubicacion</th><th>Service Desk</th><th>Estado</th><th>Fecha Creacion</th><th>Fecha Termino</th><th>Fecha Cierre</th><th>Agencia</th><th>AgenciaID</th></tr><tr><td>str</td><td>str</td><td>str</td><td>str</td><td>date</td><td>date</td><td>date</td><td>str</td><td>i64</td></tr></thead><tbody><tr><td>&quot;WO000000489092…</td><td>&quot;MEGA PLAZA 2 -…</td><td>&quot;Zona Centro&quot;</td><td>&quot;Cerrado&quot;</td><td>2023-01-14</td><td>2023-01-16</td><td>2023-01-19</td><td>&quot;MEGA PLAZA 2 &quot;</td><td>191040</td></tr><tr><td>&quot;WO000000524014…</td><td>&quot;MUSA - 193050&quot;</td><td>&quot;Zona Sur&quot;</td><td>&quot;Cerrado&quot;</td><td>2023-05-18</td><td>2023-05-23</td><td>2023-05-27</td><td>&quot;MUSA &quot;</td><td>193050</td></tr><tr><td>&quot;WO000000558727…</td><td>&quot;ANDAHUAYLAS - …</td><td>&quot;Zona Norte&quot;</td><td>&quot;Cerrado&quot;</td><td>2023-09-09</td><td>2023-09-22</td><td>2023-09-25</td><td>&quot;ANDAHUAYLAS &quot;</td><td>205000</td></tr><tr><td>&quot;WO000000533284…</td><td>&quot;CHIMPU OCLLO -…</td><td>&quot;Zona Centro&quot;</td><td>&quot;Cerrado&quot;</td><td>2023-06-19</td><td>2023-07-03</td><td>2023-07-06</td><td>&quot;CHIMPU OCLLO &quot;</td><td>191113</td></tr><tr><td>&quot;WO000000529557…</td><td>&quot;LA ENSENADA - …</td><td>&quot;Zona Centro&quot;</td><td>&quot;Cerrado&quot;</td><td>2023-06-08</td><td>2023-06-08</td><td>2023-06-11</td><td>&quot;LA ENSENADA &quot;</td><td>191149</td></tr><tr><td>&quot;WO000000480912…</td><td>&quot;EL AGUSTINO - …</td><td>&quot;Zona Centro&quot;</td><td>&quot;Cerrado&quot;</td><td>2022-12-13</td><td>2022-12-18</td><td>2022-12-21</td><td>&quot;EL AGUSTINO &quot;</td><td>191041</td></tr><tr><td>&quot;WO000000554863…</td><td>&quot;VENEZUELA - 19…</td><td>&quot;Zona Sur&quot;</td><td>&quot;Cerrado&quot;</td><td>2023-08-28</td><td>2023-09-02</td><td>2023-09-05</td><td>&quot;VENEZUELA &quot;</td><td>191026</td></tr><tr><td>&quot;WO000000567330…</td><td>&quot;CHIMPU OCLLO -…</td><td>&quot;Zona Centro&quot;</td><td>&quot;Cerrado&quot;</td><td>2023-10-07</td><td>2023-10-11</td><td>2023-10-14</td><td>&quot;CHIMPU OCLLO &quot;</td><td>191113</td></tr><tr><td>&quot;WO000000545373…</td><td>&quot;CAQUETA - 1910…</td><td>&quot;Zona Centro&quot;</td><td>&quot;Cerrado&quot;</td><td>2023-07-31</td><td>2023-07-31</td><td>2023-08-03</td><td>&quot;CAQUETA &quot;</td><td>191091</td></tr><tr><td>&quot;WO000000557011…</td><td>&quot;EDUARDO DE HAB…</td><td>&quot;Zona Centro&quot;</td><td>&quot;Cerrado&quot;</td><td>2023-09-03</td><td>2023-09-04</td><td>2023-09-07</td><td>&quot;EDUARDO DE HAB…</td><td>191023</td></tr><tr><td>&quot;WO000000524890…</td><td>&quot;MALL AVENTURA …</td><td>&quot;Zona Norte&quot;</td><td>&quot;Cerrado&quot;</td><td>2023-05-21</td><td>2023-05-26</td><td>2023-05-29</td><td>&quot;MALL AVENTURA …</td><td>215011</td></tr><tr><td>&quot;WO000000555944…</td><td>&quot;PLAZA UNION - …</td><td>&quot;Zona Centro&quot;</td><td>&quot;Cerrado&quot;</td><td>2023-09-01</td><td>2023-09-05</td><td>2023-09-08</td><td>&quot;PLAZA UNION &quot;</td><td>191062</td></tr><tr><td>&hellip;</td><td>&hellip;</td><td>&hellip;</td><td>&hellip;</td><td>&hellip;</td><td>&hellip;</td><td>&hellip;</td><td>&hellip;</td><td>&hellip;</td></tr><tr><td>&quot;WO000000560647…</td><td>&quot;TARAPACA - 191…</td><td>&quot;Zona Centro&quot;</td><td>&quot;Cerrado&quot;</td><td>2023-09-16</td><td>2023-09-29</td><td>2023-10-03</td><td>&quot;TARAPACA &quot;</td><td>191030</td></tr><tr><td>&quot;WO000000563593…</td><td>&quot;VILLA SOL - 19…</td><td>&quot;Zona Centro&quot;</td><td>&quot;Rechazado&quot;</td><td>2023-09-25</td><td>null</td><td>null</td><td>&quot;VILLA SOL &quot;</td><td>191059</td></tr><tr><td>&quot;WO000000570071…</td><td>&quot;COLONIAL - 192…</td><td>&quot;Zona Sur&quot;</td><td>&quot;Rechazado&quot;</td><td>2023-10-15</td><td>null</td><td>null</td><td>&quot;COLONIAL &quot;</td><td>192035</td></tr><tr><td>&quot;WO000000480683…</td><td>&quot;ZARATE - 19109…</td><td>&quot;Zona Centro&quot;</td><td>&quot;Cerrado&quot;</td><td>2022-12-12</td><td>2022-12-31</td><td>2023-01-03</td><td>&quot;ZARATE &quot;</td><td>191097</td></tr><tr><td>&quot;WO000000547616…</td><td>&quot;CHIMPU OCLLO -…</td><td>&quot;Zona Centro&quot;</td><td>&quot;Cerrado&quot;</td><td>2023-08-07</td><td>2023-08-07</td><td>2023-08-10</td><td>&quot;CHIMPU OCLLO &quot;</td><td>191113</td></tr><tr><td>&quot;WO000000495500…</td><td>&quot;TOTTUS GUIPOR …</td><td>&quot;Zona Centro&quot;</td><td>&quot;Cerrado&quot;</td><td>2023-02-03</td><td>2023-03-07</td><td>2023-03-10</td><td>&quot;TOTTUS GUIPOR …</td><td>191147</td></tr><tr><td>&quot;WO000000556854…</td><td>&quot;RAUL FERRERO -…</td><td>&quot;Zona Sur&quot;</td><td>&quot;Cerrado&quot;</td><td>2023-09-03</td><td>2023-09-05</td><td>2023-09-08</td><td>&quot;RAUL FERRERO &quot;</td><td>193012</td></tr><tr><td>&quot;WO000000559343…</td><td>&quot;ANGELICA GAMAR…</td><td>&quot;Zona Centro&quot;</td><td>&quot;Cerrado&quot;</td><td>2023-09-11</td><td>2023-09-11</td><td>2023-09-14</td><td>&quot;ANGELICA GAMAR…</td><td>191057</td></tr><tr><td>&quot;WO000000571543…</td><td>&quot;CAYMA - 215002…</td><td>&quot;Zona Norte&quot;</td><td>&quot;En curso&quot;</td><td>2023-10-21</td><td>null</td><td>null</td><td>&quot;CAYMA &quot;</td><td>215002</td></tr><tr><td>&quot;WO000000479914…</td><td>&quot;LA RAMBLA BRAS…</td><td>&quot;Zona Centro&quot;</td><td>&quot;Cerrado&quot;</td><td>2022-12-10</td><td>2022-12-12</td><td>2022-12-15</td><td>&quot;LA RAMBLA BRAS…</td><td>191166</td></tr><tr><td>&quot;WO000000571890…</td><td>&quot;MERCADO DE FRU…</td><td>&quot;Zona Centro&quot;</td><td>&quot;En curso&quot;</td><td>2023-10-22</td><td>null</td><td>null</td><td>&quot;MERCADO DE FRU…</td><td>191064</td></tr><tr><td>&quot;WO000000571789…</td><td>&quot;PURUCHUCO - 19…</td><td>&quot;Zona Sur&quot;</td><td>&quot;Rechazado&quot;</td><td>2023-10-22</td><td>null</td><td>null</td><td>&quot;PURUCHUCO &quot;</td><td>191020</td></tr></tbody></table></div>"
      ],
      "text/plain": [
       "shape: (22_215, 9)\n",
       "┌───────────┬───────────┬───────────┬───────────┬───┬───────────┬───────────┬───────────┬──────────┐\n",
       "│ TicketID  ┆ Ubicacion ┆ Service   ┆ Estado    ┆ … ┆ Fecha     ┆ Fecha     ┆ Agencia   ┆ AgenciaI │\n",
       "│ ---       ┆ ---       ┆ Desk      ┆ ---       ┆   ┆ Termino   ┆ Cierre    ┆ ---       ┆ D        │\n",
       "│ str       ┆ str       ┆ ---       ┆ str       ┆   ┆ ---       ┆ ---       ┆ str       ┆ ---      │\n",
       "│           ┆           ┆ str       ┆           ┆   ┆ date      ┆ date      ┆           ┆ i64      │\n",
       "╞═══════════╪═══════════╪═══════════╪═══════════╪═══╪═══════════╪═══════════╪═══════════╪══════════╡\n",
       "│ WO0000004 ┆ MEGA      ┆ Zona      ┆ Cerrado   ┆ … ┆ 2023-01-1 ┆ 2023-01-1 ┆ MEGA      ┆ 191040   │\n",
       "│ 890927    ┆ PLAZA 2 - ┆ Centro    ┆           ┆   ┆ 6         ┆ 9         ┆ PLAZA 2   ┆          │\n",
       "│           ┆ 191040    ┆           ┆           ┆   ┆           ┆           ┆           ┆          │\n",
       "│ WO0000005 ┆ MUSA -    ┆ Zona Sur  ┆ Cerrado   ┆ … ┆ 2023-05-2 ┆ 2023-05-2 ┆ MUSA      ┆ 193050   │\n",
       "│ 240140    ┆ 193050    ┆           ┆           ┆   ┆ 3         ┆ 7         ┆           ┆          │\n",
       "│ WO0000005 ┆ ANDAHUAYL ┆ Zona      ┆ Cerrado   ┆ … ┆ 2023-09-2 ┆ 2023-09-2 ┆ ANDAHUAYL ┆ 205000   │\n",
       "│ 587270    ┆ AS -      ┆ Norte     ┆           ┆   ┆ 2         ┆ 5         ┆ AS        ┆          │\n",
       "│           ┆ 205000    ┆           ┆           ┆   ┆           ┆           ┆           ┆          │\n",
       "│ WO0000005 ┆ CHIMPU    ┆ Zona      ┆ Cerrado   ┆ … ┆ 2023-07-0 ┆ 2023-07-0 ┆ CHIMPU    ┆ 191113   │\n",
       "│ 332841    ┆ OCLLO -   ┆ Centro    ┆           ┆   ┆ 3         ┆ 6         ┆ OCLLO     ┆          │\n",
       "│           ┆ 191113    ┆           ┆           ┆   ┆           ┆           ┆           ┆          │\n",
       "│ WO0000005 ┆ LA        ┆ Zona      ┆ Cerrado   ┆ … ┆ 2023-06-0 ┆ 2023-06-1 ┆ LA        ┆ 191149   │\n",
       "│ 295576    ┆ ENSENADA  ┆ Centro    ┆           ┆   ┆ 8         ┆ 1         ┆ ENSENADA  ┆          │\n",
       "│           ┆ - 191149  ┆           ┆           ┆   ┆           ┆           ┆           ┆          │\n",
       "│ …         ┆ …         ┆ …         ┆ …         ┆ … ┆ …         ┆ …         ┆ …         ┆ …        │\n",
       "│ WO0000005 ┆ ANGELICA  ┆ Zona      ┆ Cerrado   ┆ … ┆ 2023-09-1 ┆ 2023-09-1 ┆ ANGELICA  ┆ 191057   │\n",
       "│ 593435    ┆ GAMARRA - ┆ Centro    ┆           ┆   ┆ 1         ┆ 4         ┆ GAMARRA   ┆          │\n",
       "│           ┆ 191057    ┆           ┆           ┆   ┆           ┆           ┆           ┆          │\n",
       "│ WO0000005 ┆ CAYMA -   ┆ Zona      ┆ En curso  ┆ … ┆ null      ┆ null      ┆ CAYMA     ┆ 215002   │\n",
       "│ 715437    ┆ 215002    ┆ Norte     ┆           ┆   ┆           ┆           ┆           ┆          │\n",
       "│ WO0000004 ┆ LA RAMBLA ┆ Zona      ┆ Cerrado   ┆ … ┆ 2022-12-1 ┆ 2022-12-1 ┆ LA RAMBLA ┆ 191166   │\n",
       "│ 799143    ┆ BRASIL -  ┆ Centro    ┆           ┆   ┆ 2         ┆ 5         ┆ BRASIL    ┆          │\n",
       "│           ┆ 191166    ┆           ┆           ┆   ┆           ┆           ┆           ┆          │\n",
       "│ WO0000005 ┆ MERCADO   ┆ Zona      ┆ En curso  ┆ … ┆ null      ┆ null      ┆ MERCADO   ┆ 191064   │\n",
       "│ 718908    ┆ DE FRUTAS ┆ Centro    ┆           ┆   ┆           ┆           ┆ DE FRUTAS ┆          │\n",
       "│           ┆ - 191064  ┆           ┆           ┆   ┆           ┆           ┆           ┆          │\n",
       "│ WO0000005 ┆ PURUCHUCO ┆ Zona Sur  ┆ Rechazado ┆ … ┆ null      ┆ null      ┆ PURUCHUCO ┆ 191020   │\n",
       "│ 717893    ┆ - 191020  ┆           ┆           ┆   ┆           ┆           ┆           ┆          │\n",
       "└───────────┴───────────┴───────────┴───────────┴───┴───────────┴───────────┴───────────┴──────────┘"
      ]
     },
     "execution_count": 13,
     "metadata": {},
     "output_type": "execute_result"
    }
   ],
   "source": [
    "# Cambiaratipo entero\n",
    "\n",
    "df_tickets = df_tickets.cast({\"AgenciaID\": pl.Int64})\n",
    "df_tickets"
   ]
  },
  {
   "cell_type": "code",
   "execution_count": 14,
   "metadata": {},
   "outputs": [
    {
     "data": {
      "text/html": [
       "<div><style>\n",
       ".dataframe > thead > tr,\n",
       ".dataframe > tbody > tr {\n",
       "  text-align: right;\n",
       "  white-space: pre-wrap;\n",
       "}\n",
       "</style>\n",
       "<small>shape: (22_215, 10)</small><table border=\"1\" class=\"dataframe\"><thead><tr><th>TicketID</th><th>Ubicacion</th><th>Service Desk</th><th>Estado</th><th>Fecha Creacion</th><th>Fecha Termino</th><th>Fecha Cierre</th><th>Agencia</th><th>AgenciaID</th><th>Fecha Real Fin</th></tr><tr><td>str</td><td>str</td><td>str</td><td>str</td><td>date</td><td>date</td><td>date</td><td>str</td><td>i64</td><td>date</td></tr></thead><tbody><tr><td>&quot;WO000000489092…</td><td>&quot;MEGA PLAZA 2 -…</td><td>&quot;Zona Centro&quot;</td><td>&quot;Cerrado&quot;</td><td>2023-01-14</td><td>2023-01-16</td><td>2023-01-19</td><td>&quot;MEGA PLAZA 2 &quot;</td><td>191040</td><td>2023-01-16</td></tr><tr><td>&quot;WO000000524014…</td><td>&quot;MUSA - 193050&quot;</td><td>&quot;Zona Sur&quot;</td><td>&quot;Cerrado&quot;</td><td>2023-05-18</td><td>2023-05-23</td><td>2023-05-27</td><td>&quot;MUSA &quot;</td><td>193050</td><td>2023-05-23</td></tr><tr><td>&quot;WO000000558727…</td><td>&quot;ANDAHUAYLAS - …</td><td>&quot;Zona Norte&quot;</td><td>&quot;Cerrado&quot;</td><td>2023-09-09</td><td>2023-09-22</td><td>2023-09-25</td><td>&quot;ANDAHUAYLAS &quot;</td><td>205000</td><td>2023-09-22</td></tr><tr><td>&quot;WO000000533284…</td><td>&quot;CHIMPU OCLLO -…</td><td>&quot;Zona Centro&quot;</td><td>&quot;Cerrado&quot;</td><td>2023-06-19</td><td>2023-07-03</td><td>2023-07-06</td><td>&quot;CHIMPU OCLLO &quot;</td><td>191113</td><td>2023-07-03</td></tr><tr><td>&quot;WO000000529557…</td><td>&quot;LA ENSENADA - …</td><td>&quot;Zona Centro&quot;</td><td>&quot;Cerrado&quot;</td><td>2023-06-08</td><td>2023-06-08</td><td>2023-06-11</td><td>&quot;LA ENSENADA &quot;</td><td>191149</td><td>2023-06-08</td></tr><tr><td>&quot;WO000000480912…</td><td>&quot;EL AGUSTINO - …</td><td>&quot;Zona Centro&quot;</td><td>&quot;Cerrado&quot;</td><td>2022-12-13</td><td>2022-12-18</td><td>2022-12-21</td><td>&quot;EL AGUSTINO &quot;</td><td>191041</td><td>2022-12-18</td></tr><tr><td>&quot;WO000000554863…</td><td>&quot;VENEZUELA - 19…</td><td>&quot;Zona Sur&quot;</td><td>&quot;Cerrado&quot;</td><td>2023-08-28</td><td>2023-09-02</td><td>2023-09-05</td><td>&quot;VENEZUELA &quot;</td><td>191026</td><td>2023-09-02</td></tr><tr><td>&quot;WO000000567330…</td><td>&quot;CHIMPU OCLLO -…</td><td>&quot;Zona Centro&quot;</td><td>&quot;Cerrado&quot;</td><td>2023-10-07</td><td>2023-10-11</td><td>2023-10-14</td><td>&quot;CHIMPU OCLLO &quot;</td><td>191113</td><td>2023-10-11</td></tr><tr><td>&quot;WO000000545373…</td><td>&quot;CAQUETA - 1910…</td><td>&quot;Zona Centro&quot;</td><td>&quot;Cerrado&quot;</td><td>2023-07-31</td><td>2023-07-31</td><td>2023-08-03</td><td>&quot;CAQUETA &quot;</td><td>191091</td><td>2023-07-31</td></tr><tr><td>&quot;WO000000557011…</td><td>&quot;EDUARDO DE HAB…</td><td>&quot;Zona Centro&quot;</td><td>&quot;Cerrado&quot;</td><td>2023-09-03</td><td>2023-09-04</td><td>2023-09-07</td><td>&quot;EDUARDO DE HAB…</td><td>191023</td><td>2023-09-04</td></tr><tr><td>&quot;WO000000524890…</td><td>&quot;MALL AVENTURA …</td><td>&quot;Zona Norte&quot;</td><td>&quot;Cerrado&quot;</td><td>2023-05-21</td><td>2023-05-26</td><td>2023-05-29</td><td>&quot;MALL AVENTURA …</td><td>215011</td><td>2023-05-26</td></tr><tr><td>&quot;WO000000555944…</td><td>&quot;PLAZA UNION - …</td><td>&quot;Zona Centro&quot;</td><td>&quot;Cerrado&quot;</td><td>2023-09-01</td><td>2023-09-05</td><td>2023-09-08</td><td>&quot;PLAZA UNION &quot;</td><td>191062</td><td>2023-09-05</td></tr><tr><td>&hellip;</td><td>&hellip;</td><td>&hellip;</td><td>&hellip;</td><td>&hellip;</td><td>&hellip;</td><td>&hellip;</td><td>&hellip;</td><td>&hellip;</td><td>&hellip;</td></tr><tr><td>&quot;WO000000560647…</td><td>&quot;TARAPACA - 191…</td><td>&quot;Zona Centro&quot;</td><td>&quot;Cerrado&quot;</td><td>2023-09-16</td><td>2023-09-29</td><td>2023-10-03</td><td>&quot;TARAPACA &quot;</td><td>191030</td><td>2023-09-29</td></tr><tr><td>&quot;WO000000563593…</td><td>&quot;VILLA SOL - 19…</td><td>&quot;Zona Centro&quot;</td><td>&quot;Rechazado&quot;</td><td>2023-09-25</td><td>null</td><td>null</td><td>&quot;VILLA SOL &quot;</td><td>191059</td><td>null</td></tr><tr><td>&quot;WO000000570071…</td><td>&quot;COLONIAL - 192…</td><td>&quot;Zona Sur&quot;</td><td>&quot;Rechazado&quot;</td><td>2023-10-15</td><td>null</td><td>null</td><td>&quot;COLONIAL &quot;</td><td>192035</td><td>null</td></tr><tr><td>&quot;WO000000480683…</td><td>&quot;ZARATE - 19109…</td><td>&quot;Zona Centro&quot;</td><td>&quot;Cerrado&quot;</td><td>2022-12-12</td><td>2022-12-31</td><td>2023-01-03</td><td>&quot;ZARATE &quot;</td><td>191097</td><td>2022-12-31</td></tr><tr><td>&quot;WO000000547616…</td><td>&quot;CHIMPU OCLLO -…</td><td>&quot;Zona Centro&quot;</td><td>&quot;Cerrado&quot;</td><td>2023-08-07</td><td>2023-08-07</td><td>2023-08-10</td><td>&quot;CHIMPU OCLLO &quot;</td><td>191113</td><td>2023-08-07</td></tr><tr><td>&quot;WO000000495500…</td><td>&quot;TOTTUS GUIPOR …</td><td>&quot;Zona Centro&quot;</td><td>&quot;Cerrado&quot;</td><td>2023-02-03</td><td>2023-03-07</td><td>2023-03-10</td><td>&quot;TOTTUS GUIPOR …</td><td>191147</td><td>2023-03-07</td></tr><tr><td>&quot;WO000000556854…</td><td>&quot;RAUL FERRERO -…</td><td>&quot;Zona Sur&quot;</td><td>&quot;Cerrado&quot;</td><td>2023-09-03</td><td>2023-09-05</td><td>2023-09-08</td><td>&quot;RAUL FERRERO &quot;</td><td>193012</td><td>2023-09-05</td></tr><tr><td>&quot;WO000000559343…</td><td>&quot;ANGELICA GAMAR…</td><td>&quot;Zona Centro&quot;</td><td>&quot;Cerrado&quot;</td><td>2023-09-11</td><td>2023-09-11</td><td>2023-09-14</td><td>&quot;ANGELICA GAMAR…</td><td>191057</td><td>2023-09-11</td></tr><tr><td>&quot;WO000000571543…</td><td>&quot;CAYMA - 215002…</td><td>&quot;Zona Norte&quot;</td><td>&quot;En curso&quot;</td><td>2023-10-21</td><td>null</td><td>null</td><td>&quot;CAYMA &quot;</td><td>215002</td><td>null</td></tr><tr><td>&quot;WO000000479914…</td><td>&quot;LA RAMBLA BRAS…</td><td>&quot;Zona Centro&quot;</td><td>&quot;Cerrado&quot;</td><td>2022-12-10</td><td>2022-12-12</td><td>2022-12-15</td><td>&quot;LA RAMBLA BRAS…</td><td>191166</td><td>2022-12-12</td></tr><tr><td>&quot;WO000000571890…</td><td>&quot;MERCADO DE FRU…</td><td>&quot;Zona Centro&quot;</td><td>&quot;En curso&quot;</td><td>2023-10-22</td><td>null</td><td>null</td><td>&quot;MERCADO DE FRU…</td><td>191064</td><td>null</td></tr><tr><td>&quot;WO000000571789…</td><td>&quot;PURUCHUCO - 19…</td><td>&quot;Zona Sur&quot;</td><td>&quot;Rechazado&quot;</td><td>2023-10-22</td><td>null</td><td>null</td><td>&quot;PURUCHUCO &quot;</td><td>191020</td><td>null</td></tr></tbody></table></div>"
      ],
      "text/plain": [
       "shape: (22_215, 10)\n",
       "┌───────────┬───────────┬───────────┬───────────┬───┬───────────┬───────────┬───────────┬──────────┐\n",
       "│ TicketID  ┆ Ubicacion ┆ Service   ┆ Estado    ┆ … ┆ Fecha     ┆ Agencia   ┆ AgenciaID ┆ Fecha    │\n",
       "│ ---       ┆ ---       ┆ Desk      ┆ ---       ┆   ┆ Cierre    ┆ ---       ┆ ---       ┆ Real Fin │\n",
       "│ str       ┆ str       ┆ ---       ┆ str       ┆   ┆ ---       ┆ str       ┆ i64       ┆ ---      │\n",
       "│           ┆           ┆ str       ┆           ┆   ┆ date      ┆           ┆           ┆ date     │\n",
       "╞═══════════╪═══════════╪═══════════╪═══════════╪═══╪═══════════╪═══════════╪═══════════╪══════════╡\n",
       "│ WO0000004 ┆ MEGA      ┆ Zona      ┆ Cerrado   ┆ … ┆ 2023-01-1 ┆ MEGA      ┆ 191040    ┆ 2023-01- │\n",
       "│ 890927    ┆ PLAZA 2 - ┆ Centro    ┆           ┆   ┆ 9         ┆ PLAZA 2   ┆           ┆ 16       │\n",
       "│           ┆ 191040    ┆           ┆           ┆   ┆           ┆           ┆           ┆          │\n",
       "│ WO0000005 ┆ MUSA -    ┆ Zona Sur  ┆ Cerrado   ┆ … ┆ 2023-05-2 ┆ MUSA      ┆ 193050    ┆ 2023-05- │\n",
       "│ 240140    ┆ 193050    ┆           ┆           ┆   ┆ 7         ┆           ┆           ┆ 23       │\n",
       "│ WO0000005 ┆ ANDAHUAYL ┆ Zona      ┆ Cerrado   ┆ … ┆ 2023-09-2 ┆ ANDAHUAYL ┆ 205000    ┆ 2023-09- │\n",
       "│ 587270    ┆ AS -      ┆ Norte     ┆           ┆   ┆ 5         ┆ AS        ┆           ┆ 22       │\n",
       "│           ┆ 205000    ┆           ┆           ┆   ┆           ┆           ┆           ┆          │\n",
       "│ WO0000005 ┆ CHIMPU    ┆ Zona      ┆ Cerrado   ┆ … ┆ 2023-07-0 ┆ CHIMPU    ┆ 191113    ┆ 2023-07- │\n",
       "│ 332841    ┆ OCLLO -   ┆ Centro    ┆           ┆   ┆ 6         ┆ OCLLO     ┆           ┆ 03       │\n",
       "│           ┆ 191113    ┆           ┆           ┆   ┆           ┆           ┆           ┆          │\n",
       "│ WO0000005 ┆ LA        ┆ Zona      ┆ Cerrado   ┆ … ┆ 2023-06-1 ┆ LA        ┆ 191149    ┆ 2023-06- │\n",
       "│ 295576    ┆ ENSENADA  ┆ Centro    ┆           ┆   ┆ 1         ┆ ENSENADA  ┆           ┆ 08       │\n",
       "│           ┆ - 191149  ┆           ┆           ┆   ┆           ┆           ┆           ┆          │\n",
       "│ …         ┆ …         ┆ …         ┆ …         ┆ … ┆ …         ┆ …         ┆ …         ┆ …        │\n",
       "│ WO0000005 ┆ ANGELICA  ┆ Zona      ┆ Cerrado   ┆ … ┆ 2023-09-1 ┆ ANGELICA  ┆ 191057    ┆ 2023-09- │\n",
       "│ 593435    ┆ GAMARRA - ┆ Centro    ┆           ┆   ┆ 4         ┆ GAMARRA   ┆           ┆ 11       │\n",
       "│           ┆ 191057    ┆           ┆           ┆   ┆           ┆           ┆           ┆          │\n",
       "│ WO0000005 ┆ CAYMA -   ┆ Zona      ┆ En curso  ┆ … ┆ null      ┆ CAYMA     ┆ 215002    ┆ null     │\n",
       "│ 715437    ┆ 215002    ┆ Norte     ┆           ┆   ┆           ┆           ┆           ┆          │\n",
       "│ WO0000004 ┆ LA RAMBLA ┆ Zona      ┆ Cerrado   ┆ … ┆ 2022-12-1 ┆ LA RAMBLA ┆ 191166    ┆ 2022-12- │\n",
       "│ 799143    ┆ BRASIL -  ┆ Centro    ┆           ┆   ┆ 5         ┆ BRASIL    ┆           ┆ 12       │\n",
       "│           ┆ 191166    ┆           ┆           ┆   ┆           ┆           ┆           ┆          │\n",
       "│ WO0000005 ┆ MERCADO   ┆ Zona      ┆ En curso  ┆ … ┆ null      ┆ MERCADO   ┆ 191064    ┆ null     │\n",
       "│ 718908    ┆ DE FRUTAS ┆ Centro    ┆           ┆   ┆           ┆ DE FRUTAS ┆           ┆          │\n",
       "│           ┆ - 191064  ┆           ┆           ┆   ┆           ┆           ┆           ┆          │\n",
       "│ WO0000005 ┆ PURUCHUCO ┆ Zona Sur  ┆ Rechazado ┆ … ┆ null      ┆ PURUCHUCO ┆ 191020    ┆ null     │\n",
       "│ 717893    ┆ - 191020  ┆           ┆           ┆   ┆           ┆           ┆           ┆          │\n",
       "└───────────┴───────────┴───────────┴───────────┴───┴───────────┴───────────┴───────────┴──────────┘"
      ]
     },
     "execution_count": 14,
     "metadata": {},
     "output_type": "execute_result"
    }
   ],
   "source": [
    "# Crear la nueva columna by condicion\n",
    "df_tickets = df_tickets.with_columns(\n",
    "    pl.when(pl.col(\"Fecha Termino\").is_null()).then(pl.col(\"Fecha Cierre\")).otherwise(pl.col(\"Fecha Termino\")).alias(\"Fecha Real Fin\")\n",
    ")\n",
    "df_tickets"
   ]
  },
  {
   "cell_type": "code",
   "execution_count": 15,
   "metadata": {},
   "outputs": [
    {
     "data": {
      "text/html": [
       "<div><style>\n",
       ".dataframe > thead > tr,\n",
       ".dataframe > tbody > tr {\n",
       "  text-align: right;\n",
       "  white-space: pre-wrap;\n",
       "}\n",
       "</style>\n",
       "<small>shape: (22_215, 11)</small><table border=\"1\" class=\"dataframe\"><thead><tr><th>TicketID</th><th>Ubicacion</th><th>Service Desk</th><th>Estado</th><th>Fecha Creacion</th><th>Fecha Termino</th><th>Fecha Cierre</th><th>Agencia</th><th>AgenciaID</th><th>Fecha Real Fin</th><th>Dias Cierre</th></tr><tr><td>str</td><td>str</td><td>str</td><td>str</td><td>date</td><td>date</td><td>date</td><td>str</td><td>i64</td><td>date</td><td>i64</td></tr></thead><tbody><tr><td>&quot;WO000000489092…</td><td>&quot;MEGA PLAZA 2 -…</td><td>&quot;Zona Centro&quot;</td><td>&quot;Cerrado&quot;</td><td>2023-01-14</td><td>2023-01-16</td><td>2023-01-19</td><td>&quot;MEGA PLAZA 2 &quot;</td><td>191040</td><td>2023-01-16</td><td>2</td></tr><tr><td>&quot;WO000000524014…</td><td>&quot;MUSA - 193050&quot;</td><td>&quot;Zona Sur&quot;</td><td>&quot;Cerrado&quot;</td><td>2023-05-18</td><td>2023-05-23</td><td>2023-05-27</td><td>&quot;MUSA &quot;</td><td>193050</td><td>2023-05-23</td><td>5</td></tr><tr><td>&quot;WO000000558727…</td><td>&quot;ANDAHUAYLAS - …</td><td>&quot;Zona Norte&quot;</td><td>&quot;Cerrado&quot;</td><td>2023-09-09</td><td>2023-09-22</td><td>2023-09-25</td><td>&quot;ANDAHUAYLAS &quot;</td><td>205000</td><td>2023-09-22</td><td>13</td></tr><tr><td>&quot;WO000000533284…</td><td>&quot;CHIMPU OCLLO -…</td><td>&quot;Zona Centro&quot;</td><td>&quot;Cerrado&quot;</td><td>2023-06-19</td><td>2023-07-03</td><td>2023-07-06</td><td>&quot;CHIMPU OCLLO &quot;</td><td>191113</td><td>2023-07-03</td><td>14</td></tr><tr><td>&quot;WO000000529557…</td><td>&quot;LA ENSENADA - …</td><td>&quot;Zona Centro&quot;</td><td>&quot;Cerrado&quot;</td><td>2023-06-08</td><td>2023-06-08</td><td>2023-06-11</td><td>&quot;LA ENSENADA &quot;</td><td>191149</td><td>2023-06-08</td><td>0</td></tr><tr><td>&quot;WO000000480912…</td><td>&quot;EL AGUSTINO - …</td><td>&quot;Zona Centro&quot;</td><td>&quot;Cerrado&quot;</td><td>2022-12-13</td><td>2022-12-18</td><td>2022-12-21</td><td>&quot;EL AGUSTINO &quot;</td><td>191041</td><td>2022-12-18</td><td>5</td></tr><tr><td>&quot;WO000000554863…</td><td>&quot;VENEZUELA - 19…</td><td>&quot;Zona Sur&quot;</td><td>&quot;Cerrado&quot;</td><td>2023-08-28</td><td>2023-09-02</td><td>2023-09-05</td><td>&quot;VENEZUELA &quot;</td><td>191026</td><td>2023-09-02</td><td>5</td></tr><tr><td>&quot;WO000000567330…</td><td>&quot;CHIMPU OCLLO -…</td><td>&quot;Zona Centro&quot;</td><td>&quot;Cerrado&quot;</td><td>2023-10-07</td><td>2023-10-11</td><td>2023-10-14</td><td>&quot;CHIMPU OCLLO &quot;</td><td>191113</td><td>2023-10-11</td><td>4</td></tr><tr><td>&quot;WO000000545373…</td><td>&quot;CAQUETA - 1910…</td><td>&quot;Zona Centro&quot;</td><td>&quot;Cerrado&quot;</td><td>2023-07-31</td><td>2023-07-31</td><td>2023-08-03</td><td>&quot;CAQUETA &quot;</td><td>191091</td><td>2023-07-31</td><td>0</td></tr><tr><td>&quot;WO000000557011…</td><td>&quot;EDUARDO DE HAB…</td><td>&quot;Zona Centro&quot;</td><td>&quot;Cerrado&quot;</td><td>2023-09-03</td><td>2023-09-04</td><td>2023-09-07</td><td>&quot;EDUARDO DE HAB…</td><td>191023</td><td>2023-09-04</td><td>1</td></tr><tr><td>&quot;WO000000524890…</td><td>&quot;MALL AVENTURA …</td><td>&quot;Zona Norte&quot;</td><td>&quot;Cerrado&quot;</td><td>2023-05-21</td><td>2023-05-26</td><td>2023-05-29</td><td>&quot;MALL AVENTURA …</td><td>215011</td><td>2023-05-26</td><td>5</td></tr><tr><td>&quot;WO000000555944…</td><td>&quot;PLAZA UNION - …</td><td>&quot;Zona Centro&quot;</td><td>&quot;Cerrado&quot;</td><td>2023-09-01</td><td>2023-09-05</td><td>2023-09-08</td><td>&quot;PLAZA UNION &quot;</td><td>191062</td><td>2023-09-05</td><td>4</td></tr><tr><td>&hellip;</td><td>&hellip;</td><td>&hellip;</td><td>&hellip;</td><td>&hellip;</td><td>&hellip;</td><td>&hellip;</td><td>&hellip;</td><td>&hellip;</td><td>&hellip;</td><td>&hellip;</td></tr><tr><td>&quot;WO000000560647…</td><td>&quot;TARAPACA - 191…</td><td>&quot;Zona Centro&quot;</td><td>&quot;Cerrado&quot;</td><td>2023-09-16</td><td>2023-09-29</td><td>2023-10-03</td><td>&quot;TARAPACA &quot;</td><td>191030</td><td>2023-09-29</td><td>13</td></tr><tr><td>&quot;WO000000563593…</td><td>&quot;VILLA SOL - 19…</td><td>&quot;Zona Centro&quot;</td><td>&quot;Rechazado&quot;</td><td>2023-09-25</td><td>null</td><td>null</td><td>&quot;VILLA SOL &quot;</td><td>191059</td><td>null</td><td>null</td></tr><tr><td>&quot;WO000000570071…</td><td>&quot;COLONIAL - 192…</td><td>&quot;Zona Sur&quot;</td><td>&quot;Rechazado&quot;</td><td>2023-10-15</td><td>null</td><td>null</td><td>&quot;COLONIAL &quot;</td><td>192035</td><td>null</td><td>null</td></tr><tr><td>&quot;WO000000480683…</td><td>&quot;ZARATE - 19109…</td><td>&quot;Zona Centro&quot;</td><td>&quot;Cerrado&quot;</td><td>2022-12-12</td><td>2022-12-31</td><td>2023-01-03</td><td>&quot;ZARATE &quot;</td><td>191097</td><td>2022-12-31</td><td>19</td></tr><tr><td>&quot;WO000000547616…</td><td>&quot;CHIMPU OCLLO -…</td><td>&quot;Zona Centro&quot;</td><td>&quot;Cerrado&quot;</td><td>2023-08-07</td><td>2023-08-07</td><td>2023-08-10</td><td>&quot;CHIMPU OCLLO &quot;</td><td>191113</td><td>2023-08-07</td><td>0</td></tr><tr><td>&quot;WO000000495500…</td><td>&quot;TOTTUS GUIPOR …</td><td>&quot;Zona Centro&quot;</td><td>&quot;Cerrado&quot;</td><td>2023-02-03</td><td>2023-03-07</td><td>2023-03-10</td><td>&quot;TOTTUS GUIPOR …</td><td>191147</td><td>2023-03-07</td><td>32</td></tr><tr><td>&quot;WO000000556854…</td><td>&quot;RAUL FERRERO -…</td><td>&quot;Zona Sur&quot;</td><td>&quot;Cerrado&quot;</td><td>2023-09-03</td><td>2023-09-05</td><td>2023-09-08</td><td>&quot;RAUL FERRERO &quot;</td><td>193012</td><td>2023-09-05</td><td>2</td></tr><tr><td>&quot;WO000000559343…</td><td>&quot;ANGELICA GAMAR…</td><td>&quot;Zona Centro&quot;</td><td>&quot;Cerrado&quot;</td><td>2023-09-11</td><td>2023-09-11</td><td>2023-09-14</td><td>&quot;ANGELICA GAMAR…</td><td>191057</td><td>2023-09-11</td><td>0</td></tr><tr><td>&quot;WO000000571543…</td><td>&quot;CAYMA - 215002…</td><td>&quot;Zona Norte&quot;</td><td>&quot;En curso&quot;</td><td>2023-10-21</td><td>null</td><td>null</td><td>&quot;CAYMA &quot;</td><td>215002</td><td>null</td><td>null</td></tr><tr><td>&quot;WO000000479914…</td><td>&quot;LA RAMBLA BRAS…</td><td>&quot;Zona Centro&quot;</td><td>&quot;Cerrado&quot;</td><td>2022-12-10</td><td>2022-12-12</td><td>2022-12-15</td><td>&quot;LA RAMBLA BRAS…</td><td>191166</td><td>2022-12-12</td><td>2</td></tr><tr><td>&quot;WO000000571890…</td><td>&quot;MERCADO DE FRU…</td><td>&quot;Zona Centro&quot;</td><td>&quot;En curso&quot;</td><td>2023-10-22</td><td>null</td><td>null</td><td>&quot;MERCADO DE FRU…</td><td>191064</td><td>null</td><td>null</td></tr><tr><td>&quot;WO000000571789…</td><td>&quot;PURUCHUCO - 19…</td><td>&quot;Zona Sur&quot;</td><td>&quot;Rechazado&quot;</td><td>2023-10-22</td><td>null</td><td>null</td><td>&quot;PURUCHUCO &quot;</td><td>191020</td><td>null</td><td>null</td></tr></tbody></table></div>"
      ],
      "text/plain": [
       "shape: (22_215, 11)\n",
       "┌───────────┬───────────┬───────────┬───────────┬───┬───────────┬───────────┬───────────┬──────────┐\n",
       "│ TicketID  ┆ Ubicacion ┆ Service   ┆ Estado    ┆ … ┆ Agencia   ┆ AgenciaID ┆ Fecha     ┆ Dias     │\n",
       "│ ---       ┆ ---       ┆ Desk      ┆ ---       ┆   ┆ ---       ┆ ---       ┆ Real Fin  ┆ Cierre   │\n",
       "│ str       ┆ str       ┆ ---       ┆ str       ┆   ┆ str       ┆ i64       ┆ ---       ┆ ---      │\n",
       "│           ┆           ┆ str       ┆           ┆   ┆           ┆           ┆ date      ┆ i64      │\n",
       "╞═══════════╪═══════════╪═══════════╪═══════════╪═══╪═══════════╪═══════════╪═══════════╪══════════╡\n",
       "│ WO0000004 ┆ MEGA      ┆ Zona      ┆ Cerrado   ┆ … ┆ MEGA      ┆ 191040    ┆ 2023-01-1 ┆ 2        │\n",
       "│ 890927    ┆ PLAZA 2 - ┆ Centro    ┆           ┆   ┆ PLAZA 2   ┆           ┆ 6         ┆          │\n",
       "│           ┆ 191040    ┆           ┆           ┆   ┆           ┆           ┆           ┆          │\n",
       "│ WO0000005 ┆ MUSA -    ┆ Zona Sur  ┆ Cerrado   ┆ … ┆ MUSA      ┆ 193050    ┆ 2023-05-2 ┆ 5        │\n",
       "│ 240140    ┆ 193050    ┆           ┆           ┆   ┆           ┆           ┆ 3         ┆          │\n",
       "│ WO0000005 ┆ ANDAHUAYL ┆ Zona      ┆ Cerrado   ┆ … ┆ ANDAHUAYL ┆ 205000    ┆ 2023-09-2 ┆ 13       │\n",
       "│ 587270    ┆ AS -      ┆ Norte     ┆           ┆   ┆ AS        ┆           ┆ 2         ┆          │\n",
       "│           ┆ 205000    ┆           ┆           ┆   ┆           ┆           ┆           ┆          │\n",
       "│ WO0000005 ┆ CHIMPU    ┆ Zona      ┆ Cerrado   ┆ … ┆ CHIMPU    ┆ 191113    ┆ 2023-07-0 ┆ 14       │\n",
       "│ 332841    ┆ OCLLO -   ┆ Centro    ┆           ┆   ┆ OCLLO     ┆           ┆ 3         ┆          │\n",
       "│           ┆ 191113    ┆           ┆           ┆   ┆           ┆           ┆           ┆          │\n",
       "│ WO0000005 ┆ LA        ┆ Zona      ┆ Cerrado   ┆ … ┆ LA        ┆ 191149    ┆ 2023-06-0 ┆ 0        │\n",
       "│ 295576    ┆ ENSENADA  ┆ Centro    ┆           ┆   ┆ ENSENADA  ┆           ┆ 8         ┆          │\n",
       "│           ┆ - 191149  ┆           ┆           ┆   ┆           ┆           ┆           ┆          │\n",
       "│ …         ┆ …         ┆ …         ┆ …         ┆ … ┆ …         ┆ …         ┆ …         ┆ …        │\n",
       "│ WO0000005 ┆ ANGELICA  ┆ Zona      ┆ Cerrado   ┆ … ┆ ANGELICA  ┆ 191057    ┆ 2023-09-1 ┆ 0        │\n",
       "│ 593435    ┆ GAMARRA - ┆ Centro    ┆           ┆   ┆ GAMARRA   ┆           ┆ 1         ┆          │\n",
       "│           ┆ 191057    ┆           ┆           ┆   ┆           ┆           ┆           ┆          │\n",
       "│ WO0000005 ┆ CAYMA -   ┆ Zona      ┆ En curso  ┆ … ┆ CAYMA     ┆ 215002    ┆ null      ┆ null     │\n",
       "│ 715437    ┆ 215002    ┆ Norte     ┆           ┆   ┆           ┆           ┆           ┆          │\n",
       "│ WO0000004 ┆ LA RAMBLA ┆ Zona      ┆ Cerrado   ┆ … ┆ LA RAMBLA ┆ 191166    ┆ 2022-12-1 ┆ 2        │\n",
       "│ 799143    ┆ BRASIL -  ┆ Centro    ┆           ┆   ┆ BRASIL    ┆           ┆ 2         ┆          │\n",
       "│           ┆ 191166    ┆           ┆           ┆   ┆           ┆           ┆           ┆          │\n",
       "│ WO0000005 ┆ MERCADO   ┆ Zona      ┆ En curso  ┆ … ┆ MERCADO   ┆ 191064    ┆ null      ┆ null     │\n",
       "│ 718908    ┆ DE FRUTAS ┆ Centro    ┆           ┆   ┆ DE FRUTAS ┆           ┆           ┆          │\n",
       "│           ┆ - 191064  ┆           ┆           ┆   ┆           ┆           ┆           ┆          │\n",
       "│ WO0000005 ┆ PURUCHUCO ┆ Zona Sur  ┆ Rechazado ┆ … ┆ PURUCHUCO ┆ 191020    ┆ null      ┆ null     │\n",
       "│ 717893    ┆ - 191020  ┆           ┆           ┆   ┆           ┆           ┆           ┆          │\n",
       "└───────────┴───────────┴───────────┴───────────┴───┴───────────┴───────────┴───────────┴──────────┘"
      ]
     },
     "execution_count": 15,
     "metadata": {},
     "output_type": "execute_result"
    }
   ],
   "source": [
    "# Calculamos diferencia de fechas en dias\n",
    "df_tickets = df_tickets.with_columns(( pl.col(\"Fecha Real Fin\") - pl.col(\"Fecha Creacion\") ).dt.total_days().alias(\"Dias Cierre\"))\n",
    "\n",
    "df_tickets"
   ]
  },
  {
   "cell_type": "code",
   "execution_count": 16,
   "metadata": {},
   "outputs": [
    {
     "data": {
      "text/html": [
       "<div><style>\n",
       ".dataframe > thead > tr,\n",
       ".dataframe > tbody > tr {\n",
       "  text-align: right;\n",
       "  white-space: pre-wrap;\n",
       "}\n",
       "</style>\n",
       "<small>shape: (22_215, 12)</small><table border=\"1\" class=\"dataframe\"><thead><tr><th>TicketID</th><th>Ubicacion</th><th>Service Desk</th><th>Estado</th><th>Fecha Creacion</th><th>Fecha Termino</th><th>Fecha Cierre</th><th>Agencia</th><th>AgenciaID</th><th>Fecha Real Fin</th><th>Dias Cierre</th><th>Grupo Dias</th></tr><tr><td>str</td><td>str</td><td>str</td><td>str</td><td>date</td><td>date</td><td>date</td><td>str</td><td>i64</td><td>date</td><td>i64</td><td>str</td></tr></thead><tbody><tr><td>&quot;OT000000484937…</td><td>&quot;NAYLAMP - 1911…</td><td>&quot;Zona Centro&quot;</td><td>&quot;Cerrado&quot;</td><td>2022-12-31</td><td>2023-01-25</td><td>2023-01-28</td><td>&quot;NAYLAMP &quot;</td><td>191143</td><td>2023-01-25</td><td>25</td><td>&quot;+15 días&quot;</td></tr><tr><td>&quot;OT000000484938…</td><td>&quot;LOS DAMASCOS -…</td><td>&quot;Zona Sur&quot;</td><td>&quot;Cerrado&quot;</td><td>2022-12-31</td><td>2023-01-04</td><td>2023-01-07</td><td>&quot;LOS DAMASCOS &quot;</td><td>193038</td><td>2023-01-04</td><td>4</td><td>&quot;4 a 7 días&quot;</td></tr><tr><td>&quot;OT000000484972…</td><td>&quot;LUREN - 380004…</td><td>&quot;Zona Sur&quot;</td><td>&quot;Cerrado&quot;</td><td>2022-12-31</td><td>2023-01-02</td><td>2023-01-05</td><td>&quot;LUREN &quot;</td><td>380004</td><td>2023-01-02</td><td>2</td><td>&quot;0 a 3 días&quot;</td></tr><tr><td>&quot;OT000000484973…</td><td>&quot;EL PINO - 1910…</td><td>&quot;Zona Centro&quot;</td><td>&quot;Cerrado&quot;</td><td>2022-12-31</td><td>2023-01-06</td><td>2023-01-09</td><td>&quot;EL PINO &quot;</td><td>191087</td><td>2023-01-06</td><td>6</td><td>&quot;4 a 7 días&quot;</td></tr><tr><td>&quot;SA000000484930…</td><td>&quot;TUSILAGOS - 19…</td><td>&quot;Zona Centro&quot;</td><td>&quot;Rechazado&quot;</td><td>2022-12-31</td><td>null</td><td>null</td><td>&quot;TUSILAGOS &quot;</td><td>191108</td><td>null</td><td>null</td><td>null</td></tr><tr><td>&quot;WO000000412230…</td><td>&quot;IMPERIAL - 255…</td><td>&quot;Zona Norte&quot;</td><td>&quot;Cerrado&quot;</td><td>2022-06-01</td><td>2022-06-10</td><td>2022-06-10</td><td>&quot;IMPERIAL &quot;</td><td>255001</td><td>2022-06-10</td><td>9</td><td>&quot;8 a 15 días&quot;</td></tr><tr><td>&quot;WO000000412230…</td><td>&quot;IMPERIAL - 255…</td><td>&quot;Zona Norte&quot;</td><td>&quot;Cerrado&quot;</td><td>2022-06-01</td><td>2022-06-17</td><td>2022-06-17</td><td>&quot;IMPERIAL &quot;</td><td>255001</td><td>2022-06-17</td><td>16</td><td>&quot;+15 días&quot;</td></tr><tr><td>&quot;WO000000412235…</td><td>&quot;PLAZA UNION - …</td><td>&quot;Zona Centro&quot;</td><td>&quot;Cerrado&quot;</td><td>2022-06-01</td><td>2022-06-05</td><td>2022-06-05</td><td>&quot;PLAZA UNION &quot;</td><td>191062</td><td>2022-06-05</td><td>4</td><td>&quot;4 a 7 días&quot;</td></tr><tr><td>&quot;WO000000412236…</td><td>&quot;AREQUIPA - 215…</td><td>&quot;Zona Norte&quot;</td><td>&quot;Cerrado&quot;</td><td>2022-06-01</td><td>2022-06-13</td><td>2022-06-13</td><td>&quot;AREQUIPA &quot;</td><td>215000</td><td>2022-06-13</td><td>12</td><td>&quot;8 a 15 días&quot;</td></tr><tr><td>&quot;WO000000412238…</td><td>&quot;PLAZA LIMA NOR…</td><td>&quot;Zona Centro&quot;</td><td>&quot;Rechazado&quot;</td><td>2022-06-01</td><td>2022-06-06</td><td>null</td><td>&quot;PLAZA LIMA NOR…</td><td>191058</td><td>2022-06-06</td><td>5</td><td>&quot;4 a 7 días&quot;</td></tr><tr><td>&quot;WO000000412240…</td><td>&quot;TUPAC AMARU - …</td><td>&quot;Zona Centro&quot;</td><td>&quot;Cerrado&quot;</td><td>2022-06-01</td><td>2022-06-07</td><td>2022-06-07</td><td>&quot;TUPAC AMARU &quot;</td><td>191038</td><td>2022-06-07</td><td>6</td><td>&quot;4 a 7 días&quot;</td></tr><tr><td>&quot;WO000000412241…</td><td>&quot;ICA - 380000&quot;</td><td>&quot;Zona Norte&quot;</td><td>&quot;Rechazado&quot;</td><td>2022-06-01</td><td>2022-06-26</td><td>null</td><td>&quot;ICA &quot;</td><td>380000</td><td>2022-06-26</td><td>25</td><td>&quot;+15 días&quot;</td></tr><tr><td>&hellip;</td><td>&hellip;</td><td>&hellip;</td><td>&hellip;</td><td>&hellip;</td><td>&hellip;</td><td>&hellip;</td><td>&hellip;</td><td>&hellip;</td><td>&hellip;</td><td>&hellip;</td><td>&hellip;</td></tr><tr><td>&quot;WO000000573832…</td><td>&quot;PUNTO BCP SANT…</td><td>&quot;Zona Sur&quot;</td><td>&quot;En curso&quot;</td><td>2023-10-29</td><td>null</td><td>null</td><td>&quot;PUNTO BCP SANT…</td><td>191173</td><td>null</td><td>null</td><td>null</td></tr><tr><td>&quot;WO000000573833…</td><td>&quot;LA FONTANA - 1…</td><td>&quot;Zona Sur&quot;</td><td>&quot;En curso&quot;</td><td>2023-10-29</td><td>null</td><td>null</td><td>&quot;LA FONTANA &quot;</td><td>193054</td><td>null</td><td>null</td><td>null</td></tr><tr><td>&quot;WO000000573834…</td><td>&quot;LA FONTANA - 1…</td><td>&quot;Zona Sur&quot;</td><td>&quot;Rechazado&quot;</td><td>2023-10-29</td><td>null</td><td>null</td><td>&quot;LA FONTANA &quot;</td><td>193054</td><td>null</td><td>null</td><td>null</td></tr><tr><td>&quot;WO000000573834…</td><td>&quot;LA FONTANA - 1…</td><td>&quot;Zona Sur&quot;</td><td>&quot;Rechazado&quot;</td><td>2023-10-29</td><td>null</td><td>null</td><td>&quot;LA FONTANA &quot;</td><td>193054</td><td>null</td><td>null</td><td>null</td></tr><tr><td>&quot;WO000000573870…</td><td>&quot;IMPERIAL - 255…</td><td>&quot;Zona Sur&quot;</td><td>&quot;En curso&quot;</td><td>2023-10-29</td><td>null</td><td>null</td><td>&quot;IMPERIAL &quot;</td><td>255001</td><td>null</td><td>null</td><td>null</td></tr><tr><td>&quot;WO000000573870…</td><td>&quot;PISCO - 470000…</td><td>&quot;Zona Sur&quot;</td><td>&quot;En curso&quot;</td><td>2023-10-29</td><td>null</td><td>null</td><td>&quot;PISCO &quot;</td><td>470000</td><td>null</td><td>null</td><td>null</td></tr><tr><td>&quot;WO000000573870…</td><td>&quot;PUENTE PIEDRA …</td><td>&quot;Zona Centro&quot;</td><td>&quot;En curso&quot;</td><td>2023-10-29</td><td>null</td><td>null</td><td>&quot;PUENTE PIEDRA …</td><td>191035</td><td>null</td><td>null</td><td>null</td></tr><tr><td>&quot;WO000000573870…</td><td>&quot;MEGA PLAZA - 1…</td><td>&quot;Zona Centro&quot;</td><td>&quot;En curso&quot;</td><td>2023-10-29</td><td>null</td><td>null</td><td>&quot;MEGA PLAZA &quot;</td><td>191010</td><td>null</td><td>null</td><td>null</td></tr><tr><td>&quot;WO000000573871…</td><td>&quot;LUREN - 380004…</td><td>&quot;Zona Sur&quot;</td><td>&quot;En curso&quot;</td><td>2023-10-29</td><td>null</td><td>null</td><td>&quot;LUREN &quot;</td><td>380004</td><td>null</td><td>null</td><td>null</td></tr><tr><td>&quot;WO000000573872…</td><td>&quot;PISCO - 470000…</td><td>&quot;Zona Sur&quot;</td><td>&quot;En curso&quot;</td><td>2023-10-29</td><td>null</td><td>null</td><td>&quot;PISCO &quot;</td><td>470000</td><td>null</td><td>null</td><td>null</td></tr><tr><td>&quot;WO000000573872…</td><td>&quot;NACIONES UNIDA…</td><td>&quot;Zona Centro&quot;</td><td>&quot;En curso&quot;</td><td>2023-10-29</td><td>null</td><td>null</td><td>&quot;NACIONES UNIDA…</td><td>191084</td><td>null</td><td>null</td><td>null</td></tr><tr><td>&quot;WO000000573872…</td><td>&quot;NACIONES UNIDA…</td><td>&quot;Zona Centro&quot;</td><td>&quot;En curso&quot;</td><td>2023-10-29</td><td>null</td><td>null</td><td>&quot;NACIONES UNIDA…</td><td>191084</td><td>null</td><td>null</td><td>null</td></tr></tbody></table></div>"
      ],
      "text/plain": [
       "shape: (22_215, 12)\n",
       "┌───────────┬───────────┬───────────┬───────────┬───┬───────────┬───────────┬───────────┬──────────┐\n",
       "│ TicketID  ┆ Ubicacion ┆ Service   ┆ Estado    ┆ … ┆ AgenciaID ┆ Fecha     ┆ Dias      ┆ Grupo    │\n",
       "│ ---       ┆ ---       ┆ Desk      ┆ ---       ┆   ┆ ---       ┆ Real Fin  ┆ Cierre    ┆ Dias     │\n",
       "│ str       ┆ str       ┆ ---       ┆ str       ┆   ┆ i64       ┆ ---       ┆ ---       ┆ ---      │\n",
       "│           ┆           ┆ str       ┆           ┆   ┆           ┆ date      ┆ i64       ┆ str      │\n",
       "╞═══════════╪═══════════╪═══════════╪═══════════╪═══╪═══════════╪═══════════╪═══════════╪══════════╡\n",
       "│ OT0000004 ┆ NAYLAMP - ┆ Zona      ┆ Cerrado   ┆ … ┆ 191143    ┆ 2023-01-2 ┆ 25        ┆ +15 días │\n",
       "│ 849379    ┆ 191143    ┆ Centro    ┆           ┆   ┆           ┆ 5         ┆           ┆          │\n",
       "│ OT0000004 ┆ LOS       ┆ Zona Sur  ┆ Cerrado   ┆ … ┆ 193038    ┆ 2023-01-0 ┆ 4         ┆ 4 a 7    │\n",
       "│ 849382    ┆ DAMASCOS  ┆           ┆           ┆   ┆           ┆ 4         ┆           ┆ días     │\n",
       "│           ┆ - 193038  ┆           ┆           ┆   ┆           ┆           ┆           ┆          │\n",
       "│ OT0000004 ┆ LUREN -   ┆ Zona Sur  ┆ Cerrado   ┆ … ┆ 380004    ┆ 2023-01-0 ┆ 2         ┆ 0 a 3    │\n",
       "│ 849726    ┆ 380004    ┆           ┆           ┆   ┆           ┆ 2         ┆           ┆ días     │\n",
       "│ OT0000004 ┆ EL PINO - ┆ Zona      ┆ Cerrado   ┆ … ┆ 191087    ┆ 2023-01-0 ┆ 6         ┆ 4 a 7    │\n",
       "│ 849732    ┆ 191087    ┆ Centro    ┆           ┆   ┆           ┆ 6         ┆           ┆ días     │\n",
       "│ SA0000004 ┆ TUSILAGOS ┆ Zona      ┆ Rechazado ┆ … ┆ 191108    ┆ null      ┆ null      ┆ null     │\n",
       "│ 849307    ┆ - 191108  ┆ Centro    ┆           ┆   ┆           ┆           ┆           ┆          │\n",
       "│ …         ┆ …         ┆ …         ┆ …         ┆ … ┆ …         ┆ …         ┆ …         ┆ …        │\n",
       "│ WO0000005 ┆ MEGA      ┆ Zona      ┆ En curso  ┆ … ┆ 191010    ┆ null      ┆ null      ┆ null     │\n",
       "│ 738709    ┆ PLAZA -   ┆ Centro    ┆           ┆   ┆           ┆           ┆           ┆          │\n",
       "│           ┆ 191010    ┆           ┆           ┆   ┆           ┆           ┆           ┆          │\n",
       "│ WO0000005 ┆ LUREN -   ┆ Zona Sur  ┆ En curso  ┆ … ┆ 380004    ┆ null      ┆ null      ┆ null     │\n",
       "│ 738715    ┆ 380004    ┆           ┆           ┆   ┆           ┆           ┆           ┆          │\n",
       "│ WO0000005 ┆ PISCO -   ┆ Zona Sur  ┆ En curso  ┆ … ┆ 470000    ┆ null      ┆ null      ┆ null     │\n",
       "│ 738721    ┆ 470000    ┆           ┆           ┆   ┆           ┆           ┆           ┆          │\n",
       "│ WO0000005 ┆ NACIONES  ┆ Zona      ┆ En curso  ┆ … ┆ 191084    ┆ null      ┆ null      ┆ null     │\n",
       "│ 738726    ┆ UNIDAS -  ┆ Centro    ┆           ┆   ┆           ┆           ┆           ┆          │\n",
       "│           ┆ 191084    ┆           ┆           ┆   ┆           ┆           ┆           ┆          │\n",
       "│ WO0000005 ┆ NACIONES  ┆ Zona      ┆ En curso  ┆ … ┆ 191084    ┆ null      ┆ null      ┆ null     │\n",
       "│ 738729    ┆ UNIDAS -  ┆ Centro    ┆           ┆   ┆           ┆           ┆           ┆          │\n",
       "│           ┆ 191084    ┆           ┆           ┆   ┆           ┆           ┆           ┆          │\n",
       "└───────────┴───────────┴───────────┴───────────┴───┴───────────┴───────────┴───────────┴──────────┘"
      ]
     },
     "execution_count": 16,
     "metadata": {},
     "output_type": "execute_result"
    }
   ],
   "source": [
    "condiciones_dias_cierre = [\n",
    "    \n",
    "    (pl.col(\"Dias Cierre\").is_null(), None),\n",
    "    (pl.col(\"Dias Cierre\") <= 3, pl.lit(\"0 a 3 días\")),\n",
    "    (pl.col(\"Dias Cierre\") <= 7, pl.lit(\"4 a 7 días\")),\n",
    "    (pl.col(\"Dias Cierre\") <= 15, pl.lit(\"8 a 15 días\")),\n",
    "    (pl.col(\"Dias Cierre\") > 15, pl.lit(\"+15 días\")),\n",
    "]\n",
    "\n",
    "df_tickets = df_tickets.with_columns(\n",
    "    pl.when(condiciones_dias_cierre[0][0]).then(condiciones_dias_cierre[0][1])\n",
    "    .when(condiciones_dias_cierre[1][0]).then(condiciones_dias_cierre[1][1])\n",
    "    .when(condiciones_dias_cierre[2][0]).then(condiciones_dias_cierre[2][1])\n",
    "    .when(condiciones_dias_cierre[3][0]).then(condiciones_dias_cierre[3][1])\n",
    "    .when(condiciones_dias_cierre[4][0]).then(condiciones_dias_cierre[4][1])\n",
    "    # Agrega más condiciones según sea necesario\n",
    "    .otherwise(None).alias(\"Grupo Dias\")\n",
    ")\n",
    "df_tickets.sort(\"TicketID\")"
   ]
  },
  {
   "cell_type": "code",
   "execution_count": 17,
   "metadata": {},
   "outputs": [],
   "source": [
    "# %pip install xlsx2csv"
   ]
  },
  {
   "cell_type": "code",
   "execution_count": 18,
   "metadata": {},
   "outputs": [
    {
     "data": {
      "text/html": [
       "<div><style>\n",
       ".dataframe > thead > tr,\n",
       ".dataframe > tbody > tr {\n",
       "  text-align: right;\n",
       "  white-space: pre-wrap;\n",
       "}\n",
       "</style>\n",
       "<small>shape: (22_717, 4)</small><table border=\"1\" class=\"dataframe\"><thead><tr><th>Numero Ticket</th><th>Tipo de Ticket</th><th>Proveedor</th><th>Costo Atencion</th></tr><tr><td>str</td><td>str</td><td>str</td><td>str</td></tr></thead><tbody><tr><td>&quot;WO000000558468…</td><td>&quot;Variable&quot;</td><td>&quot;MR EXPRESS&quot;</td><td>null</td></tr><tr><td>&quot;WO000000454494…</td><td>&quot;Rechazado&quot;</td><td>null</td><td>&quot;100&quot;</td></tr><tr><td>&quot;WO000000454524…</td><td>&quot;Rechazado&quot;</td><td>null</td><td>&quot;100&quot;</td></tr><tr><td>&quot;WO000000455912…</td><td>&quot;Rechazado&quot;</td><td>null</td><td>&quot;100&quot;</td></tr><tr><td>&quot;WO000000470747…</td><td>&quot;Rechazado&quot;</td><td>null</td><td>&quot;100&quot;</td></tr><tr><td>&quot;WO000000475997…</td><td>&quot;Rechazado&quot;</td><td>null</td><td>&quot;100&quot;</td></tr><tr><td>&quot;WO000000479587…</td><td>&quot;Rechazado&quot;</td><td>null</td><td>&quot;100&quot;</td></tr><tr><td>&quot;WO000000482530…</td><td>&quot;Rechazado&quot;</td><td>null</td><td>&quot;100&quot;</td></tr><tr><td>&quot;WO000000485368…</td><td>&quot;Flat&quot;</td><td>&quot;ACCENTURE&quot;</td><td>&quot;100&quot;</td></tr><tr><td>&quot;WO000000492538…</td><td>&quot;Flat&quot;</td><td>&quot;ACCENTURE&quot;</td><td>&quot;100&quot;</td></tr><tr><td>&quot;WO000000502490…</td><td>&quot;Flat&quot;</td><td>&quot;ACCENTURE&quot;</td><td>&quot;100&quot;</td></tr><tr><td>&quot;WO000000502497…</td><td>&quot;Flat&quot;</td><td>&quot;ACCENTURE&quot;</td><td>&quot;100&quot;</td></tr><tr><td>&hellip;</td><td>&hellip;</td><td>&hellip;</td><td>&hellip;</td></tr><tr><td>&quot;WO000000573716…</td><td>&quot;Flat&quot;</td><td>&quot;ACCENTURE&quot;</td><td>null</td></tr><tr><td>&quot;WO000000573750…</td><td>&quot;Variable&quot;</td><td>&quot;COORPORACION R…</td><td>null</td></tr><tr><td>&quot;WO000000573756…</td><td>&quot;Variable&quot;</td><td>null</td><td>null</td></tr><tr><td>&quot;WO000000573758…</td><td>&quot;Rechazado&quot;</td><td>&quot;OTROS&quot;</td><td>null</td></tr><tr><td>&quot;WO000000573832…</td><td>&quot;Variable&quot;</td><td>&quot;TRAZAIDEA&quot;</td><td>null</td></tr><tr><td>&quot;WO000000573833…</td><td>&quot;Variable&quot;</td><td>&quot;PROSEGUR&quot;</td><td>null</td></tr><tr><td>&quot;WO000000573834…</td><td>&quot;Rechazado&quot;</td><td>&quot;OTROS&quot;</td><td>null</td></tr><tr><td>&quot;WO000000573834…</td><td>&quot;Rechazado&quot;</td><td>&quot;OTROS&quot;</td><td>null</td></tr><tr><td>&quot;WO000000573870…</td><td>&quot;Variable&quot;</td><td>&quot;PROSEGUR&quot;</td><td>null</td></tr><tr><td>&quot;WO000000573870…</td><td>&quot;Variable&quot;</td><td>&quot;COORPORACION R…</td><td>null</td></tr><tr><td>&quot;WO000000573871…</td><td>&quot;Variable&quot;</td><td>&quot;PROSEGUR&quot;</td><td>null</td></tr><tr><td>&quot;WO000000573872…</td><td>&quot;Flat&quot;</td><td>&quot;ACCENTURE&quot;</td><td>null</td></tr></tbody></table></div>"
      ],
      "text/plain": [
       "shape: (22_717, 4)\n",
       "┌─────────────────┬────────────────┬──────────────────┬────────────────┐\n",
       "│ Numero Ticket   ┆ Tipo de Ticket ┆ Proveedor        ┆ Costo Atencion │\n",
       "│ ---             ┆ ---            ┆ ---              ┆ ---            │\n",
       "│ str             ┆ str            ┆ str              ┆ str            │\n",
       "╞═════════════════╪════════════════╪══════════════════╪════════════════╡\n",
       "│ WO0000005584689 ┆ Variable       ┆ MR EXPRESS       ┆ null           │\n",
       "│ WO0000004544943 ┆ Rechazado      ┆ null             ┆ 100            │\n",
       "│ WO0000004545246 ┆ Rechazado      ┆ null             ┆ 100            │\n",
       "│ WO0000004559125 ┆ Rechazado      ┆ null             ┆ 100            │\n",
       "│ WO0000004707477 ┆ Rechazado      ┆ null             ┆ 100            │\n",
       "│ …               ┆ …              ┆ …                ┆ …              │\n",
       "│ WO0000005738348 ┆ Rechazado      ┆ OTROS            ┆ null           │\n",
       "│ WO0000005738704 ┆ Variable       ┆ PROSEGUR         ┆ null           │\n",
       "│ WO0000005738705 ┆ Variable       ┆ COORPORACION R&M ┆ null           │\n",
       "│ WO0000005738715 ┆ Variable       ┆ PROSEGUR         ┆ null           │\n",
       "│ WO0000005738721 ┆ Flat           ┆ ACCENTURE        ┆ null           │\n",
       "└─────────────────┴────────────────┴──────────────────┴────────────────┘"
      ]
     },
     "execution_count": 18,
     "metadata": {},
     "output_type": "execute_result"
    }
   ],
   "source": [
    "import os\n",
    "from xlsx2csv import Xlsx2csv\n",
    "#Importar excels de manera masiva?\n",
    "dataframes_xlsx = []\n",
    "directorio=\"./Atenciones\"\n",
    "#excelss=pl.read_excel(source=\"C:/Users/ycruz003/Desktop/pythonETL/Gestion Atenciones/Atenciones/Atenciones_Centro.xlsx\")\n",
    "dtypes = {\n",
    "    \"Numero Ticket\": pl.Utf8,\n",
    "    \"Tipo de Ticket\": pl.Utf8,\n",
    "    \"Proveedor\": pl.Utf8,  # Agregar la columna \"COSTO CERO\" y su tipo de dato\n",
    "    \"Costo Atencion\":pl.Utf8\n",
    "}\n",
    "null_values = [\"\", \"NA\", \"N/A\", \"null\", \"NaN\", \"None\", \"COSTO CERO\"]\n",
    "\n",
    "for archivo in os.listdir(directorio):\n",
    "    if archivo.endswith('.xlsx'):\n",
    "        # Ruta completa del archivo Excel\n",
    "        ruta_excel = os.path.join(directorio, archivo)\n",
    "        # Nombre del archivo CSV (mismo nombre pero con extensión .csv)\n",
    "        nombre_csv = os.path.splitext(archivo)[0] + '.csv'\n",
    "        # Ruta completa del archivo CSV\n",
    "        ruta_csv = os.path.join(directorio, nombre_csv)\n",
    "        # Convertir el archivo Excel a CSV con xlsx2csv\n",
    "        Xlsx2csv(ruta_excel, outputencoding=\"utf-8\").convert(ruta_csv)\n",
    "        # Leer el archivo CSV con Polars\n",
    "        df_csv = pl.read_csv(ruta_csv, columns=[\"Numero Ticket\", \"Tipo de Ticket\", \"Proveedor\",\"Costo Atencion\"],dtypes=dtypes, ignore_errors=True, null_values=null_values)\n",
    "        # Agregar el DataFrame a la lista\n",
    "        dataframes_xlsx.append(df_csv)\n",
    "\n",
    "# Concatenar todos los DataFrames en uno solo\n",
    "df_atenciones = pl.concat(dataframes_xlsx)\n",
    "df_atenciones\n"
   ]
  },
  {
   "cell_type": "code",
   "execution_count": 19,
   "metadata": {},
   "outputs": [
    {
     "data": {
      "text/html": [
       "<div><style>\n",
       ".dataframe > thead > tr,\n",
       ".dataframe > tbody > tr {\n",
       "  text-align: right;\n",
       "  white-space: pre-wrap;\n",
       "}\n",
       "</style>\n",
       "<small>shape: (22_717, 4)</small><table border=\"1\" class=\"dataframe\"><thead><tr><th>TicketID</th><th>Tipo de Ticket</th><th>Proveedor</th><th>Costo Atencion</th></tr><tr><td>str</td><td>str</td><td>str</td><td>str</td></tr></thead><tbody><tr><td>&quot;WO000000412230…</td><td>&quot;Flat&quot;</td><td>&quot;ACCENTURE&quot;</td><td>null</td></tr><tr><td>&quot;WO000000412230…</td><td>&quot;Flat&quot;</td><td>&quot;ACCENTURE&quot;</td><td>null</td></tr><tr><td>&quot;WO000000412235…</td><td>&quot;Flat&quot;</td><td>&quot;ACCENTURE&quot;</td><td>null</td></tr><tr><td>&quot;WO000000412236…</td><td>&quot;Flat&quot;</td><td>&quot;ACCENTURE&quot;</td><td>null</td></tr><tr><td>&quot;WO000000412238…</td><td>&quot;Rechazado&quot;</td><td>null</td><td>null</td></tr><tr><td>&quot;WO000000412240…</td><td>&quot;Flat&quot;</td><td>&quot;ACCENTURE&quot;</td><td>null</td></tr><tr><td>&quot;WO000000412241…</td><td>&quot;Rechazado&quot;</td><td>null</td><td>null</td></tr><tr><td>&quot;WO000000412242…</td><td>&quot;Variable&quot;</td><td>&quot;PROSEGUR&quot;</td><td>null</td></tr><tr><td>&quot;WO000000412244…</td><td>&quot;Variable&quot;</td><td>&quot;PROSEGUR&quot;</td><td>null</td></tr><tr><td>&quot;WO000000412245…</td><td>&quot;Variable&quot;</td><td>&quot;PROSEGUR&quot;</td><td>null</td></tr><tr><td>&quot;WO000000412250…</td><td>&quot;Flat&quot;</td><td>&quot;ACCENTURE&quot;</td><td>null</td></tr><tr><td>&quot;WO000000412251…</td><td>&quot;Variable&quot;</td><td>&quot;PROSEGUR&quot;</td><td>null</td></tr><tr><td>&hellip;</td><td>&hellip;</td><td>&hellip;</td><td>&hellip;</td></tr><tr><td>&quot;WO000000573832…</td><td>&quot;Variable&quot;</td><td>&quot;TRAZAIDEA&quot;</td><td>null</td></tr><tr><td>&quot;WO000000573833…</td><td>&quot;Variable&quot;</td><td>&quot;PROSEGUR&quot;</td><td>null</td></tr><tr><td>&quot;WO000000573834…</td><td>&quot;Rechazado&quot;</td><td>&quot;OTROS&quot;</td><td>null</td></tr><tr><td>&quot;WO000000573834…</td><td>&quot;Rechazado&quot;</td><td>&quot;OTROS&quot;</td><td>null</td></tr><tr><td>&quot;WO000000573870…</td><td>&quot;Variable&quot;</td><td>&quot;PROSEGUR&quot;</td><td>null</td></tr><tr><td>&quot;WO000000573870…</td><td>&quot;Variable&quot;</td><td>&quot;COORPORACION R…</td><td>null</td></tr><tr><td>&quot;WO000000573870…</td><td>&quot;Variable&quot;</td><td>&quot;ACCENTURE&quot;</td><td>null</td></tr><tr><td>&quot;WO000000573870…</td><td>&quot;Variable&quot;</td><td>&quot;COORPORACION R…</td><td>null</td></tr><tr><td>&quot;WO000000573871…</td><td>&quot;Variable&quot;</td><td>&quot;PROSEGUR&quot;</td><td>null</td></tr><tr><td>&quot;WO000000573872…</td><td>&quot;Flat&quot;</td><td>&quot;ACCENTURE&quot;</td><td>null</td></tr><tr><td>&quot;WO000000573872…</td><td>&quot;Variable&quot;</td><td>&quot;ACCENTURE&quot;</td><td>null</td></tr><tr><td>&quot;WO000000573872…</td><td>&quot;Variable&quot;</td><td>&quot;ACCENTURE&quot;</td><td>null</td></tr></tbody></table></div>"
      ],
      "text/plain": [
       "shape: (22_717, 4)\n",
       "┌─────────────────┬────────────────┬──────────────────┬────────────────┐\n",
       "│ TicketID        ┆ Tipo de Ticket ┆ Proveedor        ┆ Costo Atencion │\n",
       "│ ---             ┆ ---            ┆ ---              ┆ ---            │\n",
       "│ str             ┆ str            ┆ str              ┆ str            │\n",
       "╞═════════════════╪════════════════╪══════════════════╪════════════════╡\n",
       "│ WO0000004122302 ┆ Flat           ┆ ACCENTURE        ┆ null           │\n",
       "│ WO0000004122303 ┆ Flat           ┆ ACCENTURE        ┆ null           │\n",
       "│ WO0000004122353 ┆ Flat           ┆ ACCENTURE        ┆ null           │\n",
       "│ WO0000004122360 ┆ Flat           ┆ ACCENTURE        ┆ null           │\n",
       "│ WO0000004122387 ┆ Rechazado      ┆ null             ┆ null           │\n",
       "│ …               ┆ …              ┆ …                ┆ …              │\n",
       "│ WO0000005738709 ┆ Variable       ┆ COORPORACION R&M ┆ null           │\n",
       "│ WO0000005738715 ┆ Variable       ┆ PROSEGUR         ┆ null           │\n",
       "│ WO0000005738721 ┆ Flat           ┆ ACCENTURE        ┆ null           │\n",
       "│ WO0000005738726 ┆ Variable       ┆ ACCENTURE        ┆ null           │\n",
       "│ WO0000005738729 ┆ Variable       ┆ ACCENTURE        ┆ null           │\n",
       "└─────────────────┴────────────────┴──────────────────┴────────────────┘"
      ]
     },
     "execution_count": 19,
     "metadata": {},
     "output_type": "execute_result"
    }
   ],
   "source": [
    "# Cambiar el tipo\n",
    "df_atenciones=df_atenciones.select( pl.col(\"Numero Ticket\").alias(\"TicketID\"), *df_atenciones.drop(\"Numero Ticket\"))\n",
    "df_atenciones.sort(\"TicketID\")"
   ]
  },
  {
   "cell_type": "code",
   "execution_count": 20,
   "metadata": {},
   "outputs": [
    {
     "data": {
      "text/html": [
       "<div><style>\n",
       ".dataframe > thead > tr,\n",
       ".dataframe > tbody > tr {\n",
       "  text-align: right;\n",
       "  white-space: pre-wrap;\n",
       "}\n",
       "</style>\n",
       "<small>shape: (22_717, 4)</small><table border=\"1\" class=\"dataframe\"><thead><tr><th>TicketID</th><th>Tipo de Ticket</th><th>Proveedor</th><th>Costo Atencion</th></tr><tr><td>str</td><td>str</td><td>str</td><td>f64</td></tr></thead><tbody><tr><td>&quot;WO000000558468…</td><td>&quot;Variable&quot;</td><td>&quot;MR EXPRESS&quot;</td><td>null</td></tr><tr><td>&quot;WO000000454494…</td><td>&quot;Rechazado&quot;</td><td>null</td><td>100.0</td></tr><tr><td>&quot;WO000000454524…</td><td>&quot;Rechazado&quot;</td><td>null</td><td>100.0</td></tr><tr><td>&quot;WO000000455912…</td><td>&quot;Rechazado&quot;</td><td>null</td><td>100.0</td></tr><tr><td>&quot;WO000000470747…</td><td>&quot;Rechazado&quot;</td><td>null</td><td>100.0</td></tr><tr><td>&quot;WO000000475997…</td><td>&quot;Rechazado&quot;</td><td>null</td><td>100.0</td></tr><tr><td>&quot;WO000000479587…</td><td>&quot;Rechazado&quot;</td><td>null</td><td>100.0</td></tr><tr><td>&quot;WO000000482530…</td><td>&quot;Rechazado&quot;</td><td>null</td><td>100.0</td></tr><tr><td>&quot;WO000000485368…</td><td>&quot;Flat&quot;</td><td>&quot;ACCENTURE&quot;</td><td>100.0</td></tr><tr><td>&quot;WO000000492538…</td><td>&quot;Flat&quot;</td><td>&quot;ACCENTURE&quot;</td><td>100.0</td></tr><tr><td>&quot;WO000000502490…</td><td>&quot;Flat&quot;</td><td>&quot;ACCENTURE&quot;</td><td>100.0</td></tr><tr><td>&quot;WO000000502497…</td><td>&quot;Flat&quot;</td><td>&quot;ACCENTURE&quot;</td><td>100.0</td></tr><tr><td>&hellip;</td><td>&hellip;</td><td>&hellip;</td><td>&hellip;</td></tr><tr><td>&quot;WO000000573716…</td><td>&quot;Flat&quot;</td><td>&quot;ACCENTURE&quot;</td><td>null</td></tr><tr><td>&quot;WO000000573750…</td><td>&quot;Variable&quot;</td><td>&quot;COORPORACION R…</td><td>null</td></tr><tr><td>&quot;WO000000573756…</td><td>&quot;Variable&quot;</td><td>null</td><td>null</td></tr><tr><td>&quot;WO000000573758…</td><td>&quot;Rechazado&quot;</td><td>&quot;OTROS&quot;</td><td>null</td></tr><tr><td>&quot;WO000000573832…</td><td>&quot;Variable&quot;</td><td>&quot;TRAZAIDEA&quot;</td><td>null</td></tr><tr><td>&quot;WO000000573833…</td><td>&quot;Variable&quot;</td><td>&quot;PROSEGUR&quot;</td><td>null</td></tr><tr><td>&quot;WO000000573834…</td><td>&quot;Rechazado&quot;</td><td>&quot;OTROS&quot;</td><td>null</td></tr><tr><td>&quot;WO000000573834…</td><td>&quot;Rechazado&quot;</td><td>&quot;OTROS&quot;</td><td>null</td></tr><tr><td>&quot;WO000000573870…</td><td>&quot;Variable&quot;</td><td>&quot;PROSEGUR&quot;</td><td>null</td></tr><tr><td>&quot;WO000000573870…</td><td>&quot;Variable&quot;</td><td>&quot;COORPORACION R…</td><td>null</td></tr><tr><td>&quot;WO000000573871…</td><td>&quot;Variable&quot;</td><td>&quot;PROSEGUR&quot;</td><td>null</td></tr><tr><td>&quot;WO000000573872…</td><td>&quot;Flat&quot;</td><td>&quot;ACCENTURE&quot;</td><td>null</td></tr></tbody></table></div>"
      ],
      "text/plain": [
       "shape: (22_717, 4)\n",
       "┌─────────────────┬────────────────┬──────────────────┬────────────────┐\n",
       "│ TicketID        ┆ Tipo de Ticket ┆ Proveedor        ┆ Costo Atencion │\n",
       "│ ---             ┆ ---            ┆ ---              ┆ ---            │\n",
       "│ str             ┆ str            ┆ str              ┆ f64            │\n",
       "╞═════════════════╪════════════════╪══════════════════╪════════════════╡\n",
       "│ WO0000005584689 ┆ Variable       ┆ MR EXPRESS       ┆ null           │\n",
       "│ WO0000004544943 ┆ Rechazado      ┆ null             ┆ 100.0          │\n",
       "│ WO0000004545246 ┆ Rechazado      ┆ null             ┆ 100.0          │\n",
       "│ WO0000004559125 ┆ Rechazado      ┆ null             ┆ 100.0          │\n",
       "│ WO0000004707477 ┆ Rechazado      ┆ null             ┆ 100.0          │\n",
       "│ …               ┆ …              ┆ …                ┆ …              │\n",
       "│ WO0000005738348 ┆ Rechazado      ┆ OTROS            ┆ null           │\n",
       "│ WO0000005738704 ┆ Variable       ┆ PROSEGUR         ┆ null           │\n",
       "│ WO0000005738705 ┆ Variable       ┆ COORPORACION R&M ┆ null           │\n",
       "│ WO0000005738715 ┆ Variable       ┆ PROSEGUR         ┆ null           │\n",
       "│ WO0000005738721 ┆ Flat           ┆ ACCENTURE        ┆ null           │\n",
       "└─────────────────┴────────────────┴──────────────────┴────────────────┘"
      ]
     },
     "execution_count": 20,
     "metadata": {},
     "output_type": "execute_result"
    }
   ],
   "source": [
    "# Uppercase a Costo Atencion\n",
    "df_atenciones=df_atenciones.with_columns(pl.col(\"Costo Atencion\").str.to_uppercase())\n",
    "\n",
    "df_atenciones=df_atenciones.with_columns(pl.col(\"Costo Atencion\").str.replace(',','.'))\n",
    "\n",
    "df_atenciones = df_atenciones.with_columns(\n",
    "    (pl.when(df_atenciones['Costo Atencion'] == 'SIN COSTO').then(pl.lit('0')).otherwise(df_atenciones['Costo Atencion'])).alias(\"Costo Atencion\"),\n",
    "    \n",
    ")\n",
    "df_atenciones = df_atenciones.with_columns(\n",
    "    (pl.when(df_atenciones['Costo Atencion'] == 'COSTO CERO').then(pl.lit('0')).otherwise(df_atenciones['Costo Atencion'])).alias(\"Costo Atencion\")\n",
    ")\n",
    "\n",
    "# Convertir a decimal Costo Atencion\n",
    "df_atenciones=df_atenciones.cast({\"Costo Atencion\":pl.Float64}, strict=False)\n",
    "df_atenciones"
   ]
  },
  {
   "cell_type": "code",
   "execution_count": 21,
   "metadata": {},
   "outputs": [
    {
     "data": {
      "text/html": [
       "<div><style>\n",
       ".dataframe > thead > tr,\n",
       ".dataframe > tbody > tr {\n",
       "  text-align: right;\n",
       "  white-space: pre-wrap;\n",
       "}\n",
       "</style>\n",
       "<small>shape: (22_646, 4)</small><table border=\"1\" class=\"dataframe\"><thead><tr><th>TicketID</th><th>Tipo de Ticket</th><th>Proveedor</th><th>Costo Atencion</th></tr><tr><td>str</td><td>str</td><td>str</td><td>f64</td></tr></thead><tbody><tr><td>&quot;WO000000454524…</td><td>&quot;Rechazado&quot;</td><td>null</td><td>100.0</td></tr><tr><td>&quot;WO000000506408…</td><td>&quot;Flat&quot;</td><td>&quot;ACCENTURE&quot;</td><td>100.0</td></tr><tr><td>&quot;WO000000554905…</td><td>&quot;Flat&quot;</td><td>&quot;ACCENTURE&quot;</td><td>100.0</td></tr><tr><td>&quot;WO000000568856…</td><td>&quot;Variable&quot;</td><td>&quot;CECHRIZA&quot;</td><td>1019.28</td></tr><tr><td>&quot;WO000000493583…</td><td>&quot;Variable&quot;</td><td>&quot;JGM IMPORT&quot;</td><td>102.66</td></tr><tr><td>&quot;WO000000558518…</td><td>&quot;Variable&quot;</td><td>&quot;COORPORACION R…</td><td>1026.79</td></tr><tr><td>&quot;WO000000557375…</td><td>&quot;Emergencia&quot;</td><td>&quot;PUNTO CONTROL …</td><td>1028.37</td></tr><tr><td>&quot;WO000000558751…</td><td>&quot;Flat&quot;</td><td>&quot;ACCENTURE&quot;</td><td>104.5</td></tr><tr><td>&quot;WO000000520072…</td><td>&quot;Emergencia&quot;</td><td>&quot;PUNTO CONTROL …</td><td>1044.3</td></tr><tr><td>&quot;WO000000479319…</td><td>&quot;Rechazado&quot;</td><td>null</td><td>105.0</td></tr><tr><td>&quot;WO000000500400…</td><td>&quot;Variable&quot;</td><td>&quot;ACCENTURE&quot;</td><td>105.73</td></tr><tr><td>&quot;WO000000548761…</td><td>&quot;Variable&quot;</td><td>&quot;J&amp;M CONTRATIST…</td><td>105.73</td></tr><tr><td>&hellip;</td><td>&hellip;</td><td>&hellip;</td><td>&hellip;</td></tr><tr><td>&quot;WO000000571892…</td><td>&quot;Flat&quot;</td><td>&quot;ACCENTURE&quot;</td><td>25.0</td></tr><tr><td>&quot;WO000000572078…</td><td>&quot;Rechazado&quot;</td><td>&quot;OTROS&quot;</td><td>null</td></tr><tr><td>&quot;WO000000572122…</td><td>&quot;Flat&quot;</td><td>&quot;ACCENTURE&quot;</td><td>null</td></tr><tr><td>&quot;WO000000572170…</td><td>&quot;Variable&quot;</td><td>&quot;ACCENTURE&quot;</td><td>null</td></tr><tr><td>&quot;WO000000572735…</td><td>&quot;Rechazado&quot;</td><td>&quot;OTROS&quot;</td><td>null</td></tr><tr><td>&quot;WO000000572921…</td><td>&quot;Rechazado&quot;</td><td>&quot;OTROS&quot;</td><td>null</td></tr><tr><td>&quot;WO000000572978…</td><td>&quot;Flat&quot;</td><td>&quot;ACCENTURE&quot;</td><td>114.5</td></tr><tr><td>&quot;WO000000573010…</td><td>&quot;Variable&quot;</td><td>&quot;TRAZAIDEA&quot;</td><td>29.5</td></tr><tr><td>&quot;WO000000573134…</td><td>&quot;Flat&quot;</td><td>&quot;ACCENTURE&quot;</td><td>null</td></tr><tr><td>&quot;WO000000573686…</td><td>&quot;Flat&quot;</td><td>&quot;ACCENTURE&quot;</td><td>null</td></tr><tr><td>&quot;WO000000573713…</td><td>&quot;Flat&quot;</td><td>&quot;ACCENTURE&quot;</td><td>null</td></tr><tr><td>&quot;WO000000573870…</td><td>&quot;Variable&quot;</td><td>&quot;PROSEGUR&quot;</td><td>null</td></tr></tbody></table></div>"
      ],
      "text/plain": [
       "shape: (22_646, 4)\n",
       "┌─────────────────┬────────────────┬────────────┬────────────────┐\n",
       "│ TicketID        ┆ Tipo de Ticket ┆ Proveedor  ┆ Costo Atencion │\n",
       "│ ---             ┆ ---            ┆ ---        ┆ ---            │\n",
       "│ str             ┆ str            ┆ str        ┆ f64            │\n",
       "╞═════════════════╪════════════════╪════════════╪════════════════╡\n",
       "│ WO0000004545246 ┆ Rechazado      ┆ null       ┆ 100.0          │\n",
       "│ WO0000005064089 ┆ Flat           ┆ ACCENTURE  ┆ 100.0          │\n",
       "│ WO0000005549059 ┆ Flat           ┆ ACCENTURE  ┆ 100.0          │\n",
       "│ WO0000005688566 ┆ Variable       ┆ CECHRIZA   ┆ 1019.28        │\n",
       "│ WO0000004935830 ┆ Variable       ┆ JGM IMPORT ┆ 102.66         │\n",
       "│ …               ┆ …              ┆ …          ┆ …              │\n",
       "│ WO0000005730105 ┆ Variable       ┆ TRAZAIDEA  ┆ 29.5           │\n",
       "│ WO0000005731346 ┆ Flat           ┆ ACCENTURE  ┆ null           │\n",
       "│ WO0000005736864 ┆ Flat           ┆ ACCENTURE  ┆ null           │\n",
       "│ WO0000005737135 ┆ Flat           ┆ ACCENTURE  ┆ null           │\n",
       "│ WO0000005738704 ┆ Variable       ┆ PROSEGUR   ┆ null           │\n",
       "└─────────────────┴────────────────┴────────────┴────────────────┘"
      ]
     },
     "execution_count": 21,
     "metadata": {},
     "output_type": "execute_result"
    }
   ],
   "source": [
    "df_atenciones=df_atenciones.group_by(\"*\").agg(pl.col(\"*\").unique())\n",
    "df_atenciones"
   ]
  },
  {
   "cell_type": "code",
   "execution_count": 22,
   "metadata": {},
   "outputs": [
    {
     "data": {
      "text/html": [
       "<div><style>\n",
       ".dataframe > thead > tr,\n",
       ".dataframe > tbody > tr {\n",
       "  text-align: right;\n",
       "  white-space: pre-wrap;\n",
       "}\n",
       "</style>\n",
       "<small>shape: (22_646, 15)</small><table border=\"1\" class=\"dataframe\"><thead><tr><th>TicketID</th><th>Tipo de Ticket</th><th>Proveedor</th><th>Costo Atencion</th><th>Ubicacion</th><th>Service Desk</th><th>Estado</th><th>Fecha Creacion</th><th>Fecha Termino</th><th>Fecha Cierre</th><th>Agencia</th><th>AgenciaID</th><th>Fecha Real Fin</th><th>Dias Cierre</th><th>Grupo Dias</th></tr><tr><td>str</td><td>str</td><td>str</td><td>f64</td><td>str</td><td>str</td><td>str</td><td>date</td><td>date</td><td>date</td><td>str</td><td>i64</td><td>date</td><td>i64</td><td>str</td></tr></thead><tbody><tr><td>&quot;WO000000454524…</td><td>&quot;Rechazado&quot;</td><td>null</td><td>100.0</td><td>&quot;PUENTE PIEDRA …</td><td>&quot;Zona Centro&quot;</td><td>&quot;Rechazado&quot;</td><td>2022-10-18</td><td>2022-10-18</td><td>null</td><td>&quot;PUENTE PIEDRA …</td><td>191035</td><td>2022-10-18</td><td>0</td><td>&quot;0 a 3 días&quot;</td></tr><tr><td>&quot;WO000000506408…</td><td>&quot;Flat&quot;</td><td>&quot;ACCENTURE&quot;</td><td>100.0</td><td>&quot;EL SOL - 19108…</td><td>&quot;Zona Centro&quot;</td><td>&quot;Cerrado&quot;</td><td>2023-03-09</td><td>2023-03-18</td><td>2023-03-21</td><td>&quot;EL SOL &quot;</td><td>191082</td><td>2023-03-18</td><td>9</td><td>&quot;8 a 15 días&quot;</td></tr><tr><td>&quot;WO000000554905…</td><td>&quot;Flat&quot;</td><td>&quot;ACCENTURE&quot;</td><td>100.0</td><td>&quot;MEGA PLAZA - 1…</td><td>&quot;Zona Centro&quot;</td><td>&quot;Cerrado&quot;</td><td>2023-08-28</td><td>2023-09-01</td><td>2023-09-04</td><td>&quot;MEGA PLAZA &quot;</td><td>191010</td><td>2023-09-01</td><td>4</td><td>&quot;4 a 7 días&quot;</td></tr><tr><td>&quot;WO000000568856…</td><td>&quot;Variable&quot;</td><td>&quot;CECHRIZA&quot;</td><td>1019.28</td><td>&quot;SAN MARTIN DE …</td><td>&quot;Zona Centro&quot;</td><td>&quot;Cerrado&quot;</td><td>2023-10-12</td><td>2023-10-21</td><td>2023-10-24</td><td>&quot;SAN MARTIN DE …</td><td>191021</td><td>2023-10-21</td><td>9</td><td>&quot;8 a 15 días&quot;</td></tr><tr><td>&quot;WO000000493583…</td><td>&quot;Variable&quot;</td><td>&quot;JGM IMPORT&quot;</td><td>102.66</td><td>&quot;DEL AIRE - 193…</td><td>&quot;Zona Centro&quot;</td><td>&quot;Cerrado&quot;</td><td>2023-01-28</td><td>2023-02-04</td><td>2023-02-07</td><td>&quot;DEL AIRE &quot;</td><td>193064</td><td>2023-02-04</td><td>7</td><td>&quot;4 a 7 días&quot;</td></tr><tr><td>&quot;WO000000558518…</td><td>&quot;Variable&quot;</td><td>&quot;COORPORACION R…</td><td>1026.79</td><td>&quot;DEL AIRE - 193…</td><td>&quot;Zona Centro&quot;</td><td>&quot;Cerrado&quot;</td><td>2023-09-09</td><td>2023-09-15</td><td>2023-09-18</td><td>&quot;DEL AIRE &quot;</td><td>193064</td><td>2023-09-15</td><td>6</td><td>&quot;4 a 7 días&quot;</td></tr><tr><td>&quot;WO000000557375…</td><td>&quot;Emergencia&quot;</td><td>&quot;PUNTO CONTROL …</td><td>1028.37</td><td>&quot;PLAZA LIMA NOR…</td><td>&quot;Zona Centro&quot;</td><td>&quot;Cerrado&quot;</td><td>2023-09-04</td><td>2023-09-21</td><td>2023-09-24</td><td>&quot;PLAZA LIMA NOR…</td><td>191058</td><td>2023-09-21</td><td>17</td><td>&quot;+15 días&quot;</td></tr><tr><td>&quot;WO000000558751…</td><td>&quot;Flat&quot;</td><td>&quot;ACCENTURE&quot;</td><td>104.5</td><td>&quot;NACIONES UNIDA…</td><td>&quot;Zona Centro&quot;</td><td>&quot;Cerrado&quot;</td><td>2023-09-09</td><td>2023-09-14</td><td>2023-09-17</td><td>&quot;NACIONES UNIDA…</td><td>191084</td><td>2023-09-14</td><td>5</td><td>&quot;4 a 7 días&quot;</td></tr><tr><td>&quot;WO000000520072…</td><td>&quot;Emergencia&quot;</td><td>&quot;PUNTO CONTROL …</td><td>1044.3</td><td>&quot;ZARATE - 19109…</td><td>&quot;Zona Centro&quot;</td><td>&quot;Cerrado&quot;</td><td>2023-05-04</td><td>2023-05-20</td><td>2023-05-23</td><td>&quot;ZARATE &quot;</td><td>191097</td><td>2023-05-20</td><td>16</td><td>&quot;+15 días&quot;</td></tr><tr><td>&quot;WO000000479319…</td><td>&quot;Rechazado&quot;</td><td>null</td><td>105.0</td><td>&quot;CHOSICA - 1910…</td><td>&quot;Zona Centro&quot;</td><td>&quot;Rechazado&quot;</td><td>2022-12-07</td><td>null</td><td>null</td><td>&quot;CHOSICA &quot;</td><td>191075</td><td>null</td><td>null</td><td>null</td></tr><tr><td>&quot;WO000000500400…</td><td>&quot;Variable&quot;</td><td>&quot;ACCENTURE&quot;</td><td>105.73</td><td>&quot;CANTO GRANDE -…</td><td>&quot;Zona Centro&quot;</td><td>&quot;Cerrado&quot;</td><td>2023-02-19</td><td>2023-03-05</td><td>2023-03-08</td><td>&quot;CANTO GRANDE &quot;</td><td>191096</td><td>2023-03-05</td><td>14</td><td>&quot;8 a 15 días&quot;</td></tr><tr><td>&quot;WO000000548761…</td><td>&quot;Variable&quot;</td><td>&quot;J&amp;M CONTRATIST…</td><td>105.73</td><td>&quot;MEGA PLAZA - 1…</td><td>&quot;Zona Centro&quot;</td><td>&quot;Cerrado&quot;</td><td>2023-08-11</td><td>2023-08-14</td><td>2023-08-17</td><td>&quot;MEGA PLAZA &quot;</td><td>191010</td><td>2023-08-14</td><td>3</td><td>&quot;0 a 3 días&quot;</td></tr><tr><td>&hellip;</td><td>&hellip;</td><td>&hellip;</td><td>&hellip;</td><td>&hellip;</td><td>&hellip;</td><td>&hellip;</td><td>&hellip;</td><td>&hellip;</td><td>&hellip;</td><td>&hellip;</td><td>&hellip;</td><td>&hellip;</td><td>&hellip;</td><td>&hellip;</td></tr><tr><td>&quot;WO000000571892…</td><td>&quot;Flat&quot;</td><td>&quot;ACCENTURE&quot;</td><td>25.0</td><td>&quot;MUSA - 193050&quot;</td><td>&quot;Zona Sur&quot;</td><td>&quot;Terminado&quot;</td><td>2023-10-22</td><td>2023-10-28</td><td>2023-10-28</td><td>&quot;MUSA &quot;</td><td>193050</td><td>2023-10-28</td><td>6</td><td>&quot;4 a 7 días&quot;</td></tr><tr><td>&quot;WO000000572078…</td><td>&quot;Rechazado&quot;</td><td>&quot;OTROS&quot;</td><td>null</td><td>&quot;MERCADO CENTRA…</td><td>&quot;Zona Sur&quot;</td><td>&quot;Rechazado&quot;</td><td>2023-10-23</td><td>null</td><td>null</td><td>&quot;MERCADO CENTRA…</td><td>191002</td><td>null</td><td>null</td><td>null</td></tr><tr><td>&quot;WO000000572122…</td><td>&quot;Flat&quot;</td><td>&quot;ACCENTURE&quot;</td><td>null</td><td>&quot;EL QUINDE ICA …</td><td>&quot;Zona Sur&quot;</td><td>&quot;En curso&quot;</td><td>2023-10-23</td><td>null</td><td>null</td><td>&quot;EL QUINDE ICA …</td><td>380008</td><td>null</td><td>null</td><td>null</td></tr><tr><td>&quot;WO000000572170…</td><td>&quot;Variable&quot;</td><td>&quot;ACCENTURE&quot;</td><td>null</td><td>&quot;EMANCIPACION -…</td><td>&quot;Zona Sur&quot;</td><td>&quot;En curso&quot;</td><td>2023-10-23</td><td>null</td><td>null</td><td>&quot;EMANCIPACION &quot;</td><td>191054</td><td>null</td><td>null</td><td>null</td></tr><tr><td>&quot;WO000000572735…</td><td>&quot;Rechazado&quot;</td><td>&quot;OTROS&quot;</td><td>null</td><td>&quot;PUNTO BCP SANT…</td><td>&quot;Zona Sur&quot;</td><td>&quot;Rechazado&quot;</td><td>2023-10-26</td><td>null</td><td>null</td><td>&quot;PUNTO BCP SANT…</td><td>191173</td><td>null</td><td>null</td><td>null</td></tr><tr><td>&quot;WO000000572921…</td><td>&quot;Rechazado&quot;</td><td>&quot;OTROS&quot;</td><td>null</td><td>&quot;CENTRO CIVICO …</td><td>&quot;Zona Sur&quot;</td><td>&quot;Rechazado&quot;</td><td>2023-10-27</td><td>null</td><td>null</td><td>&quot;CENTRO CIVICO …</td><td>191105</td><td>null</td><td>null</td><td>null</td></tr><tr><td>&quot;WO000000572978…</td><td>&quot;Flat&quot;</td><td>&quot;ACCENTURE&quot;</td><td>114.5</td><td>&quot;VENEZUELA - 19…</td><td>&quot;Zona Sur&quot;</td><td>&quot;Terminado&quot;</td><td>2023-10-27</td><td>2023-10-29</td><td>2023-10-29</td><td>&quot;VENEZUELA &quot;</td><td>191026</td><td>2023-10-29</td><td>2</td><td>&quot;0 a 3 días&quot;</td></tr><tr><td>&quot;WO000000573010…</td><td>&quot;Variable&quot;</td><td>&quot;TRAZAIDEA&quot;</td><td>29.5</td><td>&quot;MALA - 255002&quot;</td><td>&quot;Zona Sur&quot;</td><td>&quot;En curso&quot;</td><td>2023-10-27</td><td>null</td><td>null</td><td>&quot;MALA &quot;</td><td>255002</td><td>null</td><td>null</td><td>null</td></tr><tr><td>&quot;WO000000573134…</td><td>&quot;Flat&quot;</td><td>&quot;ACCENTURE&quot;</td><td>null</td><td>&quot;ALFONSO UGARTE…</td><td>&quot;Zona Sur&quot;</td><td>&quot;En curso&quot;</td><td>2023-10-27</td><td>null</td><td>null</td><td>&quot;ALFONSO UGARTE…</td><td>191089</td><td>null</td><td>null</td><td>null</td></tr><tr><td>&quot;WO000000573686…</td><td>&quot;Flat&quot;</td><td>&quot;ACCENTURE&quot;</td><td>null</td><td>&quot;PLAZA SAN MART…</td><td>&quot;Zona Sur&quot;</td><td>&quot;En curso&quot;</td><td>2023-10-29</td><td>null</td><td>null</td><td>&quot;PLAZA SAN MART…</td><td>191004</td><td>null</td><td>null</td><td>null</td></tr><tr><td>&quot;WO000000573713…</td><td>&quot;Flat&quot;</td><td>&quot;ACCENTURE&quot;</td><td>null</td><td>&quot;VENEZUELA - 19…</td><td>&quot;Zona Sur&quot;</td><td>&quot;En curso&quot;</td><td>2023-10-29</td><td>null</td><td>null</td><td>&quot;VENEZUELA &quot;</td><td>191026</td><td>null</td><td>null</td><td>null</td></tr><tr><td>&quot;WO000000573870…</td><td>&quot;Variable&quot;</td><td>&quot;PROSEGUR&quot;</td><td>null</td><td>&quot;IMPERIAL - 255…</td><td>&quot;Zona Sur&quot;</td><td>&quot;En curso&quot;</td><td>2023-10-29</td><td>null</td><td>null</td><td>&quot;IMPERIAL &quot;</td><td>255001</td><td>null</td><td>null</td><td>null</td></tr></tbody></table></div>"
      ],
      "text/plain": [
       "shape: (22_646, 15)\n",
       "┌───────────┬───────────┬───────────┬───────────┬───┬───────────┬───────────┬───────────┬──────────┐\n",
       "│ TicketID  ┆ Tipo de   ┆ Proveedor ┆ Costo     ┆ … ┆ AgenciaID ┆ Fecha     ┆ Dias      ┆ Grupo    │\n",
       "│ ---       ┆ Ticket    ┆ ---       ┆ Atencion  ┆   ┆ ---       ┆ Real Fin  ┆ Cierre    ┆ Dias     │\n",
       "│ str       ┆ ---       ┆ str       ┆ ---       ┆   ┆ i64       ┆ ---       ┆ ---       ┆ ---      │\n",
       "│           ┆ str       ┆           ┆ f64       ┆   ┆           ┆ date      ┆ i64       ┆ str      │\n",
       "╞═══════════╪═══════════╪═══════════╪═══════════╪═══╪═══════════╪═══════════╪═══════════╪══════════╡\n",
       "│ WO0000004 ┆ Rechazado ┆ null      ┆ 100.0     ┆ … ┆ 191035    ┆ 2022-10-1 ┆ 0         ┆ 0 a 3    │\n",
       "│ 545246    ┆           ┆           ┆           ┆   ┆           ┆ 8         ┆           ┆ días     │\n",
       "│ WO0000005 ┆ Flat      ┆ ACCENTURE ┆ 100.0     ┆ … ┆ 191082    ┆ 2023-03-1 ┆ 9         ┆ 8 a 15   │\n",
       "│ 064089    ┆           ┆           ┆           ┆   ┆           ┆ 8         ┆           ┆ días     │\n",
       "│ WO0000005 ┆ Flat      ┆ ACCENTURE ┆ 100.0     ┆ … ┆ 191010    ┆ 2023-09-0 ┆ 4         ┆ 4 a 7    │\n",
       "│ 549059    ┆           ┆           ┆           ┆   ┆           ┆ 1         ┆           ┆ días     │\n",
       "│ WO0000005 ┆ Variable  ┆ CECHRIZA  ┆ 1019.28   ┆ … ┆ 191021    ┆ 2023-10-2 ┆ 9         ┆ 8 a 15   │\n",
       "│ 688566    ┆           ┆           ┆           ┆   ┆           ┆ 1         ┆           ┆ días     │\n",
       "│ WO0000004 ┆ Variable  ┆ JGM       ┆ 102.66    ┆ … ┆ 193064    ┆ 2023-02-0 ┆ 7         ┆ 4 a 7    │\n",
       "│ 935830    ┆           ┆ IMPORT    ┆           ┆   ┆           ┆ 4         ┆           ┆ días     │\n",
       "│ …         ┆ …         ┆ …         ┆ …         ┆ … ┆ …         ┆ …         ┆ …         ┆ …        │\n",
       "│ WO0000005 ┆ Variable  ┆ TRAZAIDEA ┆ 29.5      ┆ … ┆ 255002    ┆ null      ┆ null      ┆ null     │\n",
       "│ 730105    ┆           ┆           ┆           ┆   ┆           ┆           ┆           ┆          │\n",
       "│ WO0000005 ┆ Flat      ┆ ACCENTURE ┆ null      ┆ … ┆ 191089    ┆ null      ┆ null      ┆ null     │\n",
       "│ 731346    ┆           ┆           ┆           ┆   ┆           ┆           ┆           ┆          │\n",
       "│ WO0000005 ┆ Flat      ┆ ACCENTURE ┆ null      ┆ … ┆ 191004    ┆ null      ┆ null      ┆ null     │\n",
       "│ 736864    ┆           ┆           ┆           ┆   ┆           ┆           ┆           ┆          │\n",
       "│ WO0000005 ┆ Flat      ┆ ACCENTURE ┆ null      ┆ … ┆ 191026    ┆ null      ┆ null      ┆ null     │\n",
       "│ 737135    ┆           ┆           ┆           ┆   ┆           ┆           ┆           ┆          │\n",
       "│ WO0000005 ┆ Variable  ┆ PROSEGUR  ┆ null      ┆ … ┆ 255001    ┆ null      ┆ null      ┆ null     │\n",
       "│ 738704    ┆           ┆           ┆           ┆   ┆           ┆           ┆           ┆          │\n",
       "└───────────┴───────────┴───────────┴───────────┴───┴───────────┴───────────┴───────────┴──────────┘"
      ]
     },
     "execution_count": 22,
     "metadata": {},
     "output_type": "execute_result"
    }
   ],
   "source": [
    "#Juntar los dos dataframes\n",
    "df_final=df_atenciones.join(df_tickets, on=\"TicketID\", how=\"inner\")\n",
    "df_final"
   ]
  },
  {
   "cell_type": "code",
   "execution_count": 23,
   "metadata": {},
   "outputs": [
    {
     "data": {
      "text/html": [
       "<div><style>\n",
       ".dataframe > thead > tr,\n",
       ".dataframe > tbody > tr {\n",
       "  text-align: right;\n",
       "  white-space: pre-wrap;\n",
       "}\n",
       "</style>\n",
       "<small>shape: (22_646, 10)</small><table border=\"1\" class=\"dataframe\"><thead><tr><th>TicketID</th><th>AgenciaID</th><th>Agencia</th><th>Service Desk</th><th>Estado</th><th>Fecha Creacion</th><th>Fecha Cierre</th><th>Grupo Dias</th><th>Tipo Ticket</th><th>Costo</th></tr><tr><td>str</td><td>i64</td><td>str</td><td>str</td><td>str</td><td>str</td><td>str</td><td>str</td><td>str</td><td>f64</td></tr></thead><tbody><tr><td>&quot;WO000000454524…</td><td>191035</td><td>&quot;PUENTE PIEDRA …</td><td>&quot;Zona Centro&quot;</td><td>&quot;Rechazado&quot;</td><td>&quot;18/10/2022&quot;</td><td>&quot;18/10/2022&quot;</td><td>&quot;0 a 3 días&quot;</td><td>&quot;Rechazado&quot;</td><td>100.0</td></tr><tr><td>&quot;WO000000506408…</td><td>191082</td><td>&quot;EL SOL &quot;</td><td>&quot;Zona Centro&quot;</td><td>&quot;Cerrado&quot;</td><td>&quot;09/03/2023&quot;</td><td>&quot;18/03/2023&quot;</td><td>&quot;8 a 15 días&quot;</td><td>&quot;Flat&quot;</td><td>100.0</td></tr><tr><td>&quot;WO000000554905…</td><td>191010</td><td>&quot;MEGA PLAZA &quot;</td><td>&quot;Zona Centro&quot;</td><td>&quot;Cerrado&quot;</td><td>&quot;28/08/2023&quot;</td><td>&quot;01/09/2023&quot;</td><td>&quot;4 a 7 días&quot;</td><td>&quot;Flat&quot;</td><td>100.0</td></tr><tr><td>&quot;WO000000568856…</td><td>191021</td><td>&quot;SAN MARTIN DE …</td><td>&quot;Zona Centro&quot;</td><td>&quot;Cerrado&quot;</td><td>&quot;12/10/2023&quot;</td><td>&quot;21/10/2023&quot;</td><td>&quot;8 a 15 días&quot;</td><td>&quot;Variable&quot;</td><td>1019.28</td></tr><tr><td>&quot;WO000000493583…</td><td>193064</td><td>&quot;DEL AIRE &quot;</td><td>&quot;Zona Centro&quot;</td><td>&quot;Cerrado&quot;</td><td>&quot;28/01/2023&quot;</td><td>&quot;04/02/2023&quot;</td><td>&quot;4 a 7 días&quot;</td><td>&quot;Variable&quot;</td><td>102.66</td></tr><tr><td>&quot;WO000000558518…</td><td>193064</td><td>&quot;DEL AIRE &quot;</td><td>&quot;Zona Centro&quot;</td><td>&quot;Cerrado&quot;</td><td>&quot;09/09/2023&quot;</td><td>&quot;15/09/2023&quot;</td><td>&quot;4 a 7 días&quot;</td><td>&quot;Variable&quot;</td><td>1026.79</td></tr><tr><td>&quot;WO000000557375…</td><td>191058</td><td>&quot;PLAZA LIMA NOR…</td><td>&quot;Zona Centro&quot;</td><td>&quot;Cerrado&quot;</td><td>&quot;04/09/2023&quot;</td><td>&quot;21/09/2023&quot;</td><td>&quot;+15 días&quot;</td><td>&quot;Emergencia&quot;</td><td>1028.37</td></tr><tr><td>&quot;WO000000558751…</td><td>191084</td><td>&quot;NACIONES UNIDA…</td><td>&quot;Zona Centro&quot;</td><td>&quot;Cerrado&quot;</td><td>&quot;09/09/2023&quot;</td><td>&quot;14/09/2023&quot;</td><td>&quot;4 a 7 días&quot;</td><td>&quot;Flat&quot;</td><td>104.5</td></tr><tr><td>&quot;WO000000520072…</td><td>191097</td><td>&quot;ZARATE &quot;</td><td>&quot;Zona Centro&quot;</td><td>&quot;Cerrado&quot;</td><td>&quot;04/05/2023&quot;</td><td>&quot;20/05/2023&quot;</td><td>&quot;+15 días&quot;</td><td>&quot;Emergencia&quot;</td><td>1044.3</td></tr><tr><td>&quot;WO000000479319…</td><td>191075</td><td>&quot;CHOSICA &quot;</td><td>&quot;Zona Centro&quot;</td><td>&quot;Rechazado&quot;</td><td>&quot;07/12/2022&quot;</td><td>null</td><td>null</td><td>&quot;Rechazado&quot;</td><td>105.0</td></tr><tr><td>&quot;WO000000500400…</td><td>191096</td><td>&quot;CANTO GRANDE &quot;</td><td>&quot;Zona Centro&quot;</td><td>&quot;Cerrado&quot;</td><td>&quot;19/02/2023&quot;</td><td>&quot;05/03/2023&quot;</td><td>&quot;8 a 15 días&quot;</td><td>&quot;Variable&quot;</td><td>105.73</td></tr><tr><td>&quot;WO000000548761…</td><td>191010</td><td>&quot;MEGA PLAZA &quot;</td><td>&quot;Zona Centro&quot;</td><td>&quot;Cerrado&quot;</td><td>&quot;11/08/2023&quot;</td><td>&quot;14/08/2023&quot;</td><td>&quot;0 a 3 días&quot;</td><td>&quot;Variable&quot;</td><td>105.73</td></tr><tr><td>&hellip;</td><td>&hellip;</td><td>&hellip;</td><td>&hellip;</td><td>&hellip;</td><td>&hellip;</td><td>&hellip;</td><td>&hellip;</td><td>&hellip;</td><td>&hellip;</td></tr><tr><td>&quot;WO000000571892…</td><td>193050</td><td>&quot;MUSA &quot;</td><td>&quot;Zona Sur&quot;</td><td>&quot;Terminado&quot;</td><td>&quot;22/10/2023&quot;</td><td>&quot;28/10/2023&quot;</td><td>&quot;4 a 7 días&quot;</td><td>&quot;Flat&quot;</td><td>25.0</td></tr><tr><td>&quot;WO000000572078…</td><td>191002</td><td>&quot;MERCADO CENTRA…</td><td>&quot;Zona Sur&quot;</td><td>&quot;Rechazado&quot;</td><td>&quot;23/10/2023&quot;</td><td>null</td><td>null</td><td>&quot;Rechazado&quot;</td><td>null</td></tr><tr><td>&quot;WO000000572122…</td><td>380008</td><td>&quot;EL QUINDE ICA …</td><td>&quot;Zona Sur&quot;</td><td>&quot;En curso&quot;</td><td>&quot;23/10/2023&quot;</td><td>null</td><td>null</td><td>&quot;Flat&quot;</td><td>null</td></tr><tr><td>&quot;WO000000572170…</td><td>191054</td><td>&quot;EMANCIPACION &quot;</td><td>&quot;Zona Sur&quot;</td><td>&quot;En curso&quot;</td><td>&quot;23/10/2023&quot;</td><td>null</td><td>null</td><td>&quot;Variable&quot;</td><td>null</td></tr><tr><td>&quot;WO000000572735…</td><td>191173</td><td>&quot;PUNTO BCP SANT…</td><td>&quot;Zona Sur&quot;</td><td>&quot;Rechazado&quot;</td><td>&quot;26/10/2023&quot;</td><td>null</td><td>null</td><td>&quot;Rechazado&quot;</td><td>null</td></tr><tr><td>&quot;WO000000572921…</td><td>191105</td><td>&quot;CENTRO CIVICO …</td><td>&quot;Zona Sur&quot;</td><td>&quot;Rechazado&quot;</td><td>&quot;27/10/2023&quot;</td><td>null</td><td>null</td><td>&quot;Rechazado&quot;</td><td>null</td></tr><tr><td>&quot;WO000000572978…</td><td>191026</td><td>&quot;VENEZUELA &quot;</td><td>&quot;Zona Sur&quot;</td><td>&quot;Terminado&quot;</td><td>&quot;27/10/2023&quot;</td><td>&quot;29/10/2023&quot;</td><td>&quot;0 a 3 días&quot;</td><td>&quot;Flat&quot;</td><td>114.5</td></tr><tr><td>&quot;WO000000573010…</td><td>255002</td><td>&quot;MALA &quot;</td><td>&quot;Zona Sur&quot;</td><td>&quot;En curso&quot;</td><td>&quot;27/10/2023&quot;</td><td>null</td><td>null</td><td>&quot;Variable&quot;</td><td>29.5</td></tr><tr><td>&quot;WO000000573134…</td><td>191089</td><td>&quot;ALFONSO UGARTE…</td><td>&quot;Zona Sur&quot;</td><td>&quot;En curso&quot;</td><td>&quot;27/10/2023&quot;</td><td>null</td><td>null</td><td>&quot;Flat&quot;</td><td>null</td></tr><tr><td>&quot;WO000000573686…</td><td>191004</td><td>&quot;PLAZA SAN MART…</td><td>&quot;Zona Sur&quot;</td><td>&quot;En curso&quot;</td><td>&quot;29/10/2023&quot;</td><td>null</td><td>null</td><td>&quot;Flat&quot;</td><td>null</td></tr><tr><td>&quot;WO000000573713…</td><td>191026</td><td>&quot;VENEZUELA &quot;</td><td>&quot;Zona Sur&quot;</td><td>&quot;En curso&quot;</td><td>&quot;29/10/2023&quot;</td><td>null</td><td>null</td><td>&quot;Flat&quot;</td><td>null</td></tr><tr><td>&quot;WO000000573870…</td><td>255001</td><td>&quot;IMPERIAL &quot;</td><td>&quot;Zona Sur&quot;</td><td>&quot;En curso&quot;</td><td>&quot;29/10/2023&quot;</td><td>null</td><td>null</td><td>&quot;Variable&quot;</td><td>null</td></tr></tbody></table></div>"
      ],
      "text/plain": [
       "shape: (22_646, 10)\n",
       "┌────────────┬───────────┬────────────┬────────────┬───┬────────────┬────────┬───────────┬─────────┐\n",
       "│ TicketID   ┆ AgenciaID ┆ Agencia    ┆ Service    ┆ … ┆ Fecha      ┆ Grupo  ┆ Tipo      ┆ Costo   │\n",
       "│ ---        ┆ ---       ┆ ---        ┆ Desk       ┆   ┆ Cierre     ┆ Dias   ┆ Ticket    ┆ ---     │\n",
       "│ str        ┆ i64       ┆ str        ┆ ---        ┆   ┆ ---        ┆ ---    ┆ ---       ┆ f64     │\n",
       "│            ┆           ┆            ┆ str        ┆   ┆ str        ┆ str    ┆ str       ┆         │\n",
       "╞════════════╪═══════════╪════════════╪════════════╪═══╪════════════╪════════╪═══════════╪═════════╡\n",
       "│ WO00000045 ┆ 191035    ┆ PUENTE     ┆ Zona       ┆ … ┆ 18/10/2022 ┆ 0 a 3  ┆ Rechazado ┆ 100.0   │\n",
       "│ 45246      ┆           ┆ PIEDRA     ┆ Centro     ┆   ┆            ┆ días   ┆           ┆         │\n",
       "│ WO00000050 ┆ 191082    ┆ EL SOL     ┆ Zona       ┆ … ┆ 18/03/2023 ┆ 8 a 15 ┆ Flat      ┆ 100.0   │\n",
       "│ 64089      ┆           ┆            ┆ Centro     ┆   ┆            ┆ días   ┆           ┆         │\n",
       "│ WO00000055 ┆ 191010    ┆ MEGA PLAZA ┆ Zona       ┆ … ┆ 01/09/2023 ┆ 4 a 7  ┆ Flat      ┆ 100.0   │\n",
       "│ 49059      ┆           ┆            ┆ Centro     ┆   ┆            ┆ días   ┆           ┆         │\n",
       "│ WO00000056 ┆ 191021    ┆ SAN MARTIN ┆ Zona       ┆ … ┆ 21/10/2023 ┆ 8 a 15 ┆ Variable  ┆ 1019.28 │\n",
       "│ 88566      ┆           ┆ DE PORRES  ┆ Centro     ┆   ┆            ┆ días   ┆           ┆         │\n",
       "│ WO00000049 ┆ 193064    ┆ DEL AIRE   ┆ Zona       ┆ … ┆ 04/02/2023 ┆ 4 a 7  ┆ Variable  ┆ 102.66  │\n",
       "│ 35830      ┆           ┆            ┆ Centro     ┆   ┆            ┆ días   ┆           ┆         │\n",
       "│ …          ┆ …         ┆ …          ┆ …          ┆ … ┆ …          ┆ …      ┆ …         ┆ …       │\n",
       "│ WO00000057 ┆ 255002    ┆ MALA       ┆ Zona Sur   ┆ … ┆ null       ┆ null   ┆ Variable  ┆ 29.5    │\n",
       "│ 30105      ┆           ┆            ┆            ┆   ┆            ┆        ┆           ┆         │\n",
       "│ WO00000057 ┆ 191089    ┆ ALFONSO    ┆ Zona Sur   ┆ … ┆ null       ┆ null   ┆ Flat      ┆ null    │\n",
       "│ 31346      ┆           ┆ UGARTE     ┆            ┆   ┆            ┆        ┆           ┆         │\n",
       "│ WO00000057 ┆ 191004    ┆ PLAZA SAN  ┆ Zona Sur   ┆ … ┆ null       ┆ null   ┆ Flat      ┆ null    │\n",
       "│ 36864      ┆           ┆ MARTIN     ┆            ┆   ┆            ┆        ┆           ┆         │\n",
       "│ WO00000057 ┆ 191026    ┆ VENEZUELA  ┆ Zona Sur   ┆ … ┆ null       ┆ null   ┆ Flat      ┆ null    │\n",
       "│ 37135      ┆           ┆            ┆            ┆   ┆            ┆        ┆           ┆         │\n",
       "│ WO00000057 ┆ 255001    ┆ IMPERIAL   ┆ Zona Sur   ┆ … ┆ null       ┆ null   ┆ Variable  ┆ null    │\n",
       "│ 38704      ┆           ┆            ┆            ┆   ┆            ┆        ┆           ┆         │\n",
       "└────────────┴───────────┴────────────┴────────────┴───┴────────────┴────────┴───────────┴─────────┘"
      ]
     },
     "execution_count": 23,
     "metadata": {},
     "output_type": "execute_result"
    }
   ],
   "source": [
    "# Definir la estructurade variables del df\n",
    "df_final=df_final.select(\"TicketID\",\"AgenciaID\",\"Agencia\",\"Service Desk\",\"Estado\",pl.col(\"Fecha Creacion\").dt.strftime(\"%d/%m/%Y\"),pl.col(\"Fecha Real Fin\").dt.strftime(\"%d/%m/%Y\").alias(\"Fecha Cierre\"),\"Grupo Dias\",pl.col(\"Tipo de Ticket\").alias(\"Tipo Ticket\"), pl.col(\"Costo Atencion\").round(2).alias(\"Costo\"))\n",
    "df_final"
   ]
  },
  {
   "cell_type": "code",
   "execution_count": 24,
   "metadata": {},
   "outputs": [],
   "source": [
    "# %pip install pandas\n",
    "# %pip install pyarrow\n",
    "# %pip install numpy\n",
    "# %pip install openpyxl"
   ]
  },
  {
   "cell_type": "code",
   "execution_count": 25,
   "metadata": {},
   "outputs": [],
   "source": [
    "# Se esta utilizando pandas, y todas las lbrerias menionadas arriba puesto que polars ni xlsx2csv tienen la funcion de exportar excels\n",
    "import pandas as pd\n",
    "dt_final_pd= df_final.to_pandas()\n",
    "dt_final_pd.to_excel(\n",
    "    \"./Consolidado.xlsx\", sheet_name=\"Atenciones\", index=False\n",
    ")"
   ]
  }
 ],
 "metadata": {
  "kernelspec": {
   "display_name": "vEdicion1",
   "language": "python",
   "name": "python3"
  },
  "language_info": {
   "codemirror_mode": {
    "name": "ipython",
    "version": 3
   },
   "file_extension": ".py",
   "mimetype": "text/x-python",
   "name": "python",
   "nbconvert_exporter": "python",
   "pygments_lexer": "ipython3",
   "version": "3.11.6"
  },
  "orig_nbformat": 4
 },
 "nbformat": 4,
 "nbformat_minor": 2
}
